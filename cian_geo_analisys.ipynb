{
 "cells": [
  {
   "cell_type": "markdown",
   "metadata": {
    "collapsed": true
   },
   "source": [
    "- Next step is geo analysis. I am going to visualize prices on the map of the city."
   ]
  },
  {
   "cell_type": "markdown",
   "metadata": {},
   "source": [
    "<h2>Visualization</h2>"
   ]
  },
  {
   "cell_type": "code",
   "execution_count": null,
   "metadata": {
    "pycharm": {
     "name": "#%%\n"
    }
   },
   "outputs": [],
   "source": [
    "import googlemaps\n",
    "f=open('keys/api_google_maps_key')\n",
    "mykey=f.read()\n",
    "f.close()\n",
    "gmaps = googlemaps.Client(key=mykey)"
   ]
  },
  {
   "cell_type": "code",
   "execution_count": null,
   "metadata": {
    "pycharm": {
     "name": "#%%\n"
    }
   },
   "outputs": [],
   "source": [
    "flats['lat']=0.0\n",
    "flats['lng']=0.0\n",
    "\n",
    "progress = IntProgress(min=0, max=len(flats), value=0) #progress bar\n",
    "display(progress)\n",
    "\n",
    "for i in range(len(flats)):\n",
    "    geocode_result = gmaps.geocode(flats.loc[i,'city']+', '+flats.loc[i,'street'])\n",
    "    flats.loc[i,'lat']=geocode_result[0]['geometry']['location']['lat']\n",
    "    flats.loc[i,'lng']=geocode_result[0]['geometry']['location']['lng']\n",
    "    progress.value = i"
   ]
  },
  {
   "cell_type": "code",
   "execution_count": null,
   "metadata": {
    "pycharm": {
     "name": "#%%\n"
    }
   },
   "outputs": [],
   "source": [
    "flats.to_csv('flats_cian_1.csv',sep=';',index=False)"
   ]
  },
  {
   "cell_type": "code",
   "execution_count": null,
   "metadata": {
    "pycharm": {
     "name": "#%%\n"
    }
   },
   "outputs": [],
   "source": [
    "flats=pd.read_csv('flats_cian_1.csv',sep=';')"
   ]
  },
  {
   "cell_type": "markdown",
   "metadata": {},
   "source": [
    "Next I create a map"
   ]
  },
  {
   "cell_type": "code",
   "execution_count": null,
   "metadata": {
    "pycharm": {
     "name": "#%%\n"
    }
   },
   "outputs": [],
   "source": [
    "import folium\n",
    "map_piter = folium.Map(location=[59.9810199, 30.3540484], zoom_start=9)\n",
    "\n",
    "# add markers to map\n",
    "for lat, lng, price, name in zip(flats['lat'],flats['lng'],flats['price'],flats['link']):\n",
    "    label = '{}'.format(round(price))\n",
    "    label = folium.Popup(label, parse_html=True)\n",
    "    if price<5000000:\n",
    "        clr='#00ffff'\n",
    "    elif price<10000000:\n",
    "        clr='#91e2da'\n",
    "    elif price<15000000:\n",
    "        clr='#d9a694'\n",
    "    elif price<20000000:\n",
    "        clr='#eb8473'\n",
    "    elif price<25000000:\n",
    "        clr='#f75b53'\n",
    "    else:\n",
    "        clr='#ff0035'\n",
    "    folium.CircleMarker(\n",
    "        [lat, lng],\n",
    "        radius=5,\n",
    "        popup=label,\n",
    "        color=clr,\n",
    "        fill=True,\n",
    "        fill_color=clr,\n",
    "        fill_opacity=0.8,\n",
    "        parse_html=False).add_to(map_piter)\n",
    "\n",
    "map_piter\n"
   ]
  }
 ],
 "metadata": {
  "kernelspec": {
   "display_name": "Python 3",
   "language": "python",
   "name": "python3"
  },
  "language_info": {
   "codemirror_mode": {
    "name": "ipython",
    "version": 3
   },
   "file_extension": ".py",
   "mimetype": "text/x-python",
   "name": "python",
   "nbconvert_exporter": "python",
   "pygments_lexer": "ipython3",
   "version": "3.8.5"
  }
 },
 "nbformat": 4,
 "nbformat_minor": 1
}