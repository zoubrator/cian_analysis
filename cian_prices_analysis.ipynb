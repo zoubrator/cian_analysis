{
 "cells": [
  {
   "cell_type": "markdown",
   "metadata": {
    "pycharm": {
     "name": "#%%\n"
    }
   },
   "source": [
    "import flats as flats\n",
    "<h1>Flat prices analysis in St. Petersburg</h1>"
   ]
  },
  {
   "cell_type": "markdown",
   "metadata": {},
   "source": [
    "<div style=\"background:#abd5f5; border:1px solid #b3deff; padding: 20px\">\n",
    "    <h2 style=\"color:#002b63\">Table of content</h2>\n",
    "<ul>\n",
    "    <li>Indroduction</li>\n",
    "    <li>Data Preprocessing</li>\n",
    "    <li>Visualization</li>\n",
    "    <li>Model building</li>\n",
    "    <li>Results</li>\n",
    "    <li>Conclusion</li>\n",
    "</ul>\n",
    "    </div>"
   ]
  },
  {
   "cell_type": "markdown",
   "metadata": {},
   "source": [
    "<h2>Indroduction</h2>"
   ]
  },
  {
   "cell_type": "markdown",
   "metadata": {},
   "source": [
    "This analysis focuses on apartment prices in St. Petersburg."
   ]
  },
  {
   "cell_type": "markdown",
   "metadata": {},
   "source": [
    "<h2>Data Description</h2>"
   ]
  },
  {
   "cell_type": "markdown",
   "metadata": {},
   "source": [
    "I am going to use my own CSV file. I created it using data from https://spb.cian.ru/kupit-kvartiru/ This file contains a list of St. Petersburg apartments for sale."
   ]
  },
  {
   "cell_type": "code",
   "execution_count": 1,
   "metadata": {
    "pycharm": {
     "name": "#%%\n"
    }
   },
   "outputs": [],
   "source": [
    "import pandas as pd\n",
    "import numpy as np\n",
    "import re #regexp\n",
    "from ipywidgets import IntProgress #for progress bar\n",
    "from IPython.display import display"
   ]
  },
  {
   "cell_type": "markdown",
   "metadata": {},
   "source": [
    "Next I replace 'Студия' with 0.5 and 'Многокомнатная' with 6. Values 'Апартаменты','Квартира' don't contain information about the number of rooms so I replace them with the most frequent value. Also I convert the column into float."
   ]
  },
  {
   "cell_type": "code",
   "execution_count": null,
   "metadata": {
    "pycharm": {
     "is_executing": true
    }
   },
   "outputs": [],
   "source": [
    "flats['rooms']=flats['rooms'].replace(['Студия','Многокомнатная','Многокомнатные'],['0.5',6,6])\n",
    "flats['rooms']=flats['rooms'].replace(['Апартаменты','Квартира'],flats['rooms'].value_counts().idxmax())\n",
    "flats['rooms']=flats['rooms'].astype(float)\n",
    "flats[['rooms']].head()"
   ]
  },
  {
   "cell_type": "markdown",
   "metadata": {},
   "source": [
    "Next I will translate all categorical values in English."
   ]
  },
  {
   "cell_type": "code",
   "execution_count": null,
   "metadata": {
    "pycharm": {
     "is_executing": true
    }
   },
   "outputs": [],
   "source": [
    "flats['type']=flats['type'].replace(['Вторичка','Новостройка'],['secondary','new'])\n",
    "flats['view']=flats['view'].replace(['На улицу и двор','Во двор','На улицу'],['both','view_courtyard','view_street'])\n",
    "flats['finishing']=flats['finishing'].replace(['Чистовая','Нет','Черновая'],['fine','none','rough'])\n",
    "flats['layout']=flats['layout'].replace(['Изолированная','Смежно-изолированная','Смежная'],['isolated','mixed','adjoining'])\n",
    "flats['renovation']=flats['renovation'].replace(['Евроремонт','Без ремонта','Косметический','Дизайнерский'],\n",
    "                                                ['euro','none','redecorating','designer'])"
   ]
  },
  {
   "cell_type": "markdown",
   "metadata": {},
   "source": [
    "The next step is finding and removing missing data. Firstly, lets indentify NaNs and zeros."
   ]
  },
  {
   "cell_type": "code",
   "execution_count": null,
   "metadata": {
    "pycharm": {
     "is_executing": true,
     "name": "#%%\n"
    }
   },
   "outputs": [],
   "source": [
    "pd.isna(flats).sum()"
   ]
  },
  {
   "cell_type": "markdown",
   "metadata": {},
   "source": [
    "Now I will find out the proportion between living_area, kitchen_area, total_area and replace missing data with the most common proportion."
   ]
  },
  {
   "cell_type": "code",
   "execution_count": null,
   "metadata": {
    "pycharm": {
     "is_executing": true,
     "name": "#%%\n"
    }
   },
   "outputs": [],
   "source": [
    "flats['living_part']=flats['living_area']/flats['total_area']\n",
    "flats['kitchen_part']=flats['kitchen_area']/flats['total_area']\n",
    "flats['living_area']=flats['living_area'].combine_first(flats['total_area']*flats['living_part'].mean())\n",
    "flats['kitchen_area']=flats['kitchen_area'].combine_first(flats['total_area']*flats['kitchen_part'].mean())\n",
    "flats.drop(['living_part','kitchen_part'],axis='columns',inplace=True)"
   ]
  },
  {
   "cell_type": "markdown",
   "metadata": {},
   "source": [
    "I replace missing data in columns 'view', 'finishing', 'layout', 'renovation','year_of_construction' with the most popular value."
   ]
  },
  {
   "cell_type": "code",
   "execution_count": null,
   "metadata": {
    "pycharm": {
     "is_executing": true,
     "name": "#%%\n"
    }
   },
   "outputs": [],
   "source": [
    "flats['view']=flats['view'].replace(np.nan,flats['view'].value_counts().idxmax())\n",
    "flats['finishing']=flats['finishing'].replace(np.nan,flats['finishing'].value_counts().idxmax())\n",
    "flats['layout']=flats['layout'].replace(np.nan,flats['layout'].value_counts().idxmax())\n",
    "flats['renovation']=flats['renovation'].replace(np.nan,flats['renovation'].value_counts().idxmax())\n",
    "flats['year_of_construction']=flats['year_of_construction'].replace(np.nan,flats['year_of_construction'].value_counts().idxmax())"
   ]
  },
  {
   "cell_type": "markdown",
   "metadata": {},
   "source": [
    "I replace the height with the mean value. "
   ]
  },
  {
   "cell_type": "code",
   "execution_count": null,
   "metadata": {
    "pycharm": {
     "is_executing": true,
     "name": "#%%\n"
    }
   },
   "outputs": [],
   "source": [
    "flats['height']=flats['height'].replace(np.nan,flats['height'].mean())"
   ]
  },
  {
   "cell_type": "markdown",
   "metadata": {},
   "source": [
    "I replace missing deadlines with years of constructions."
   ]
  },
  {
   "cell_type": "code",
   "execution_count": null,
   "metadata": {
    "pycharm": {
     "is_executing": true,
     "name": "#%%\n"
    }
   },
   "outputs": [],
   "source": [
    "flats['deadline']=flats['deadline'].combine_first(flats['year_of_construction'])\n"
   ]
  },
  {
   "cell_type": "markdown",
   "metadata": {},
   "source": [
    "<h2>Visualization</h2>"
   ]
  },
  {
   "cell_type": "code",
   "execution_count": null,
   "metadata": {
    "pycharm": {
     "is_executing": true,
     "name": "#%%\n"
    }
   },
   "outputs": [],
   "source": [
    "import googlemaps\n",
    "f=open('keys/api_google_maps_key')\n",
    "mykey=f.read()\n",
    "f.close()\n",
    "gmaps = googlemaps.Client(key=mykey)"
   ]
  },
  {
   "cell_type": "code",
   "execution_count": null,
   "metadata": {
    "pycharm": {
     "is_executing": true,
     "name": "#%%\n"
    }
   },
   "outputs": [],
   "source": [
    "flats['lat']=0.0\n",
    "flats['lng']=0.0\n",
    "\n",
    "progress = IntProgress(min=0, max=len(flats), value=0) #progress bar\n",
    "display(progress)\n",
    "\n",
    "for i in range(len(flats)):\n",
    "    geocode_result = gmaps.geocode(flats.loc[i,'city']+', '+flats.loc[i,'street'])\n",
    "    flats.loc[i,'lat']=geocode_result[0]['geometry']['location']['lat']\n",
    "    flats.loc[i,'lng']=geocode_result[0]['geometry']['location']['lng']\n",
    "    progress.value = i"
   ]
  },
  {
   "cell_type": "code",
   "execution_count": null,
   "metadata": {
    "pycharm": {
     "is_executing": true,
     "name": "#%%\n"
    }
   },
   "outputs": [],
   "source": [
    "flats.to_csv('flats_cian_1.csv',sep=';',index=False)"
   ]
  },
  {
   "cell_type": "code",
   "execution_count": null,
   "metadata": {
    "pycharm": {
     "is_executing": true,
     "name": "#%%\n"
    }
   },
   "outputs": [],
   "source": [
    "flats=pd.read_csv('flats_cian_1.csv',sep=';')"
   ]
  },
  {
   "cell_type": "markdown",
   "metadata": {},
   "source": [
    "Next I create a map"
   ]
  },
  {
   "cell_type": "code",
   "execution_count": null,
   "metadata": {
    "pycharm": {
     "is_executing": true,
     "name": "#%%\n"
    }
   },
   "outputs": [],
   "source": [
    "import folium\n",
    "map_piter = folium.Map(location=[59.9810199, 30.3540484], zoom_start=9)\n",
    "\n",
    "# add markers to map\n",
    "for lat, lng, price, name in zip(flats['lat'],flats['lng'],flats['price'],flats['link']):\n",
    "    label = '{}'.format(round(price))\n",
    "    label = folium.Popup(label, parse_html=True)\n",
    "    if price<5000000:\n",
    "        clr='#00ffff'\n",
    "    elif price<10000000:\n",
    "        clr='#91e2da'\n",
    "    elif price<15000000:\n",
    "        clr='#d9a694'\n",
    "    elif price<20000000:\n",
    "        clr='#eb8473'\n",
    "    elif price<25000000:\n",
    "        clr='#f75b53'\n",
    "    else:\n",
    "        clr='#ff0035'\n",
    "    folium.CircleMarker(\n",
    "        [lat, lng],\n",
    "        radius=5,\n",
    "        popup=label,\n",
    "        color=clr,\n",
    "        fill=True,\n",
    "        fill_color=clr,\n",
    "        fill_opacity=0.8,\n",
    "        parse_html=False).add_to(map_piter)\n",
    "    \n",
    "map_piter"
   ]
  },
  {
   "cell_type": "markdown",
   "metadata": {},
   "source": [
    "<h1>Model building</h1>"
   ]
  },
  {
   "cell_type": "markdown",
   "metadata": {},
   "source": [
    "Here I'm going to build the predictive model. Price is dependent value. Other features are independent ones. "
   ]
  },
  {
   "cell_type": "markdown",
   "metadata": {},
   "source": [
    "Firstly, I need to prepare the dataframe. I create a copy of 'flats' and delete unnecessary fielda"
   ]
  },
  {
   "cell_type": "code",
   "execution_count": null,
   "metadata": {
    "pycharm": {
     "is_executing": true,
     "name": "#%%\n"
    }
   },
   "outputs": [],
   "source": [
    "flats_model=flats.copy()\n",
    "flats_model.drop(['link','city','neighborhood','street','lat','lng','type','view','finishing','layout',\n",
    "                  'renovation','area','metro_name'],axis='columns',inplace=True)"
   ]
  },
  {
   "cell_type": "markdown",
   "metadata": {},
   "source": [
    "Next I need to turn all categorical values into numerical. I use 'get_dummies' function from pandas."
   ]
  },
  {
   "cell_type": "code",
   "execution_count": null,
   "metadata": {
    "pycharm": {
     "is_executing": true,
     "name": "#%%\n"
    }
   },
   "outputs": [],
   "source": [
    "cat_df=flats[['type','view','finishing','layout','renovation']]\n",
    "cat_df=pd.get_dummies(data=cat_df,drop_first=True)\n",
    "\n",
    "#area_df=pd.get_dummies(flats_model['area'])\n",
    "#metro_name_df=pd.get_dummies(flats_model['metro_name'])\n",
    "\n",
    "#Join all the dataframes in one\n",
    "flats_model=pd.concat([flats_model,cat_df],axis=1)\n",
    "\n",
    "# Check the result\n",
    "flats_model.head()"
   ]
  },
  {
   "cell_type": "markdown",
   "metadata": {},
   "source": [
    "Next step is searching correlation among all features."
   ]
  },
  {
   "cell_type": "code",
   "execution_count": null,
   "metadata": {
    "pycharm": {
     "is_executing": true,
     "name": "#%%\n"
    }
   },
   "outputs": [],
   "source": [
    "import seaborn as sns\n",
    "import matplotlib.pyplot as plt\n",
    "\n",
    "corr=flats_model.corr()\n",
    "fig, ax = plt.subplots(figsize=(15,10))\n",
    "\n",
    "heatmap=sns.heatmap(corr,center=0,ax=ax)"
   ]
  },
  {
   "cell_type": "code",
   "execution_count": null,
   "metadata": {
    "pycharm": {
     "is_executing": true,
     "name": "#%%\n"
    }
   },
   "outputs": [],
   "source": [
    "corr[(corr['price']<-0.2)|(corr['price']>0.2)]['price']"
   ]
  },
  {
   "cell_type": "code",
   "execution_count": null,
   "metadata": {
    "pycharm": {
     "is_executing": true,
     "name": "#%%\n"
    }
   },
   "outputs": [],
   "source": [
    "drop_columns=corr[(corr['price']>=-0.2)&(corr['price']<=0.2)].index\n",
    "flats_model.drop(drop_columns,axis='columns',inplace=True)"
   ]
  },
  {
   "cell_type": "code",
   "execution_count": null,
   "metadata": {
    "pycharm": {
     "is_executing": true,
     "name": "#%%\n"
    }
   },
   "outputs": [],
   "source": [
    "corr=flats_model.iloc[:,1:].corr()\n",
    "corr[corr.iloc[:]>0.7]"
   ]
  },
  {
   "cell_type": "code",
   "execution_count": null,
   "metadata": {
    "pycharm": {
     "is_executing": true,
     "name": "#%%\n"
    }
   },
   "outputs": [],
   "source": [
    "flats_model.drop(['living_area'],axis='columns',inplace=True)"
   ]
  },
  {
   "cell_type": "code",
   "execution_count": null,
   "metadata": {
    "pycharm": {
     "is_executing": true,
     "name": "#%%\n"
    }
   },
   "outputs": [],
   "source": [
    "flats_model.head()"
   ]
  },
  {
   "cell_type": "code",
   "execution_count": null,
   "metadata": {
    "pycharm": {
     "is_executing": true,
     "name": "#%%\n"
    }
   },
   "outputs": [],
   "source": [
    "flats_model.corr()"
   ]
  },
  {
   "cell_type": "code",
   "execution_count": null,
   "metadata": {
    "pycharm": {
     "is_executing": true,
     "name": "#%%\n"
    }
   },
   "outputs": [],
   "source": [
    "#Построить модели для r=0.1 и для всех параметров\n",
    "#Построить модели для цены за квадратный метр\n",
    "#Разделить файла на вебскрапинг и анализ"
   ]
  }
 ],
 "metadata": {
  "kernelspec": {
   "display_name": "Python 3",
   "language": "python",
   "name": "python3"
  },
  "language_info": {
   "codemirror_mode": {
    "name": "ipython",
    "version": 3
   },
   "file_extension": ".py",
   "mimetype": "text/x-python",
   "name": "python",
   "nbconvert_exporter": "python",
   "pygments_lexer": "ipython3",
   "version": "3.8.5"
  }
 },
 "nbformat": 4,
 "nbformat_minor": 1
}