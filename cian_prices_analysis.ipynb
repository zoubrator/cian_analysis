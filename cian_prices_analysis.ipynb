{
 "cells": [
  {
   "cell_type": "markdown",
   "metadata": {
    "pycharm": {
     "name": "#%%\n"
    }
   },
   "source": [
    "<h1>Flats prices analysis in St. Petersburg</h1>"
   ]
  },
  {
   "cell_type": "markdown",
   "metadata": {},
   "source": [
    "<div style=\"background:#abd5f5; border:1px solid #b3deff; padding: 20px\">\n",
    "    <h2 style=\"color:#002b63\">Table of content</h2>\n",
    "<ul>\n",
    "    <li>Indroduction</li>\n",
    "    <li>Visualization</li>\n",
    "    <li>Data Preprocessing</li>\n",
    "    <li>Model building</li>\n",
    "    <li>Results</li>\n",
    "    <li>Conclusion</li>\n",
    "</ul>\n",
    "    </div>"
   ]
  },
  {
   "cell_type": "markdown",
   "metadata": {},
   "source": [
    "<h2>Indroduction</h2>"
   ]
  },
  {
   "cell_type": "markdown",
   "metadata": {},
   "source": [
    "This analysis focuses on flat prices in St. Petersburg. \n",
    "- First step is visualization. I am going to explore data with different plots\n",
    "- Next, I prepare data for analysis. \n",
    "- At last, I want to build predictive models using different methods."
   ]
  },
  {
   "cell_type": "markdown",
   "metadata": {},
   "source": [
    "<h2>Visualization</h2>"
   ]
  },
  {
   "cell_type": "markdown",
   "metadata": {},
   "source": [
    "I am going to use my own CSV file. I created it using data from https://spb.cian.ru/kupit-kvartiru/ This file contains a list of St. Petersburg flats for sale."
   ]
  },
  {
   "cell_type": "code",
   "execution_count": 1,
   "metadata": {
    "pycharm": {
     "name": "#%%\n"
    }
   },
   "outputs": [],
   "source": [
    "import pandas as pd\n",
    "import numpy as np\n",
    "import re #regexp\n",
    "import sklearn\n",
    "import matplotlib"
   ]
  },
  {
   "cell_type": "code",
   "execution_count": 2,
   "metadata": {},
   "outputs": [
    {
     "data": {
      "text/html": [
       "<div>\n",
       "<style scoped>\n",
       "    .dataframe tbody tr th:only-of-type {\n",
       "        vertical-align: middle;\n",
       "    }\n",
       "\n",
       "    .dataframe tbody tr th {\n",
       "        vertical-align: top;\n",
       "    }\n",
       "\n",
       "    .dataframe thead th {\n",
       "        text-align: right;\n",
       "    }\n",
       "</style>\n",
       "<table border=\"1\" class=\"dataframe\">\n",
       "  <thead>\n",
       "    <tr style=\"text-align: right;\">\n",
       "      <th></th>\n",
       "      <th>link</th>\n",
       "      <th>price</th>\n",
       "      <th>total_area</th>\n",
       "      <th>living_area</th>\n",
       "      <th>kitchen_area</th>\n",
       "      <th>floor</th>\n",
       "      <th>type</th>\n",
       "      <th>height</th>\n",
       "      <th>bathrooms</th>\n",
       "      <th>balconies</th>\n",
       "      <th>...</th>\n",
       "      <th>renovation</th>\n",
       "      <th>view</th>\n",
       "      <th>rooms</th>\n",
       "      <th>city</th>\n",
       "      <th>area</th>\n",
       "      <th>neighborhood</th>\n",
       "      <th>street</th>\n",
       "      <th>metro_name</th>\n",
       "      <th>metro_km</th>\n",
       "      <th>number_of_floors</th>\n",
       "    </tr>\n",
       "  </thead>\n",
       "  <tbody>\n",
       "    <tr>\n",
       "      <th>0</th>\n",
       "      <td>https://spb.cian.ru/sale/flat/234775065/</td>\n",
       "      <td>13143249.0</td>\n",
       "      <td>74.13</td>\n",
       "      <td>26.3</td>\n",
       "      <td>22.0</td>\n",
       "      <td>3</td>\n",
       "      <td>Новостройка</td>\n",
       "      <td>3.3</td>\n",
       "      <td>2.0</td>\n",
       "      <td>1.0</td>\n",
       "      <td>...</td>\n",
       "      <td>NaN</td>\n",
       "      <td>NaN</td>\n",
       "      <td>2</td>\n",
       "      <td>Санкт-Петербург</td>\n",
       "      <td>р-н Приморский</td>\n",
       "      <td>Юнтолово</td>\n",
       "      <td>Планерная ул., 94</td>\n",
       "      <td>Комендантский проспект</td>\n",
       "      <td>1.98</td>\n",
       "      <td>12</td>\n",
       "    </tr>\n",
       "    <tr>\n",
       "      <th>1</th>\n",
       "      <td>https://spb.cian.ru/sale/flat/239273301/</td>\n",
       "      <td>12430600.0</td>\n",
       "      <td>47.81</td>\n",
       "      <td>NaN</td>\n",
       "      <td>NaN</td>\n",
       "      <td>2</td>\n",
       "      <td>Новостройка</td>\n",
       "      <td>NaN</td>\n",
       "      <td>0.0</td>\n",
       "      <td>0.0</td>\n",
       "      <td>...</td>\n",
       "      <td>NaN</td>\n",
       "      <td>NaN</td>\n",
       "      <td>1</td>\n",
       "      <td>Санкт-Петербург</td>\n",
       "      <td>р-н Петроградский</td>\n",
       "      <td>Посадский</td>\n",
       "      <td>ул. Рентгена, 25</td>\n",
       "      <td>Петроградская</td>\n",
       "      <td>1.04</td>\n",
       "      <td>8</td>\n",
       "    </tr>\n",
       "    <tr>\n",
       "      <th>2</th>\n",
       "      <td>https://spb.cian.ru/sale/flat/250966190/</td>\n",
       "      <td>13800000.0</td>\n",
       "      <td>44.10</td>\n",
       "      <td>14.1</td>\n",
       "      <td>19.4</td>\n",
       "      <td>2</td>\n",
       "      <td>Новостройка</td>\n",
       "      <td>NaN</td>\n",
       "      <td>0.0</td>\n",
       "      <td>0.0</td>\n",
       "      <td>...</td>\n",
       "      <td>NaN</td>\n",
       "      <td>NaN</td>\n",
       "      <td>1</td>\n",
       "      <td>Санкт-Петербург</td>\n",
       "      <td>р-н Курортный</td>\n",
       "      <td>мкр. Сестрорецк</td>\n",
       "      <td>ул. Максима Горького, 2Ас2</td>\n",
       "      <td>Беговая</td>\n",
       "      <td>9.57</td>\n",
       "      <td>5</td>\n",
       "    </tr>\n",
       "    <tr>\n",
       "      <th>3</th>\n",
       "      <td>https://spb.cian.ru/sale/flat/249950664/</td>\n",
       "      <td>8730851.0</td>\n",
       "      <td>56.29</td>\n",
       "      <td>29.3</td>\n",
       "      <td>10.9</td>\n",
       "      <td>5</td>\n",
       "      <td>Новостройка</td>\n",
       "      <td>NaN</td>\n",
       "      <td>2.0</td>\n",
       "      <td>2.0</td>\n",
       "      <td>...</td>\n",
       "      <td>NaN</td>\n",
       "      <td>NaN</td>\n",
       "      <td>2</td>\n",
       "      <td>Санкт-Петербург</td>\n",
       "      <td>р-н Приморский</td>\n",
       "      <td>Юнтолово</td>\n",
       "      <td>Нью Тайм жилой комплекс</td>\n",
       "      <td>Комендантский проспект</td>\n",
       "      <td>1.98</td>\n",
       "      <td>13</td>\n",
       "    </tr>\n",
       "    <tr>\n",
       "      <th>4</th>\n",
       "      <td>https://spb.cian.ru/sale/flat/250766812/</td>\n",
       "      <td>13650000.0</td>\n",
       "      <td>70.80</td>\n",
       "      <td>NaN</td>\n",
       "      <td>10.0</td>\n",
       "      <td>13</td>\n",
       "      <td>Вторичка</td>\n",
       "      <td>2.8</td>\n",
       "      <td>1.0</td>\n",
       "      <td>1.0</td>\n",
       "      <td>...</td>\n",
       "      <td>Евроремонт</td>\n",
       "      <td>На улицу и двор</td>\n",
       "      <td>2</td>\n",
       "      <td>Санкт-Петербург</td>\n",
       "      <td>р-н Приморский</td>\n",
       "      <td>Комендантский аэродром</td>\n",
       "      <td>аллея Поликарпова, 6к1</td>\n",
       "      <td>Пионерская</td>\n",
       "      <td>1.04</td>\n",
       "      <td>19</td>\n",
       "    </tr>\n",
       "  </tbody>\n",
       "</table>\n",
       "<p>5 rows × 23 columns</p>\n",
       "</div>"
      ],
      "text/plain": [
       "                                       link       price  total_area  \\\n",
       "0  https://spb.cian.ru/sale/flat/234775065/  13143249.0       74.13   \n",
       "1  https://spb.cian.ru/sale/flat/239273301/  12430600.0       47.81   \n",
       "2  https://spb.cian.ru/sale/flat/250966190/  13800000.0       44.10   \n",
       "3  https://spb.cian.ru/sale/flat/249950664/   8730851.0       56.29   \n",
       "4  https://spb.cian.ru/sale/flat/250766812/  13650000.0       70.80   \n",
       "\n",
       "   living_area  kitchen_area  floor         type  height  bathrooms  \\\n",
       "0         26.3          22.0      3  Новостройка     3.3        2.0   \n",
       "1          NaN           NaN      2  Новостройка     NaN        0.0   \n",
       "2         14.1          19.4      2  Новостройка     NaN        0.0   \n",
       "3         29.3          10.9      5  Новостройка     NaN        2.0   \n",
       "4          NaN          10.0     13     Вторичка     2.8        1.0   \n",
       "\n",
       "   balconies  ...  renovation             view rooms             city  \\\n",
       "0        1.0  ...         NaN              NaN     2  Санкт-Петербург   \n",
       "1        0.0  ...         NaN              NaN     1  Санкт-Петербург   \n",
       "2        0.0  ...         NaN              NaN     1  Санкт-Петербург   \n",
       "3        2.0  ...         NaN              NaN     2  Санкт-Петербург   \n",
       "4        1.0  ...  Евроремонт  На улицу и двор     2  Санкт-Петербург   \n",
       "\n",
       "                 area             neighborhood                       street  \\\n",
       "0      р-н Приморский                 Юнтолово            Планерная ул., 94   \n",
       "1   р-н Петроградский                Посадский             ул. Рентгена, 25   \n",
       "2       р-н Курортный          мкр. Сестрорецк   ул. Максима Горького, 2Ас2   \n",
       "3      р-н Приморский                 Юнтолово      Нью Тайм жилой комплекс   \n",
       "4      р-н Приморский   Комендантский аэродром       аллея Поликарпова, 6к1   \n",
       "\n",
       "                metro_name metro_km number_of_floors  \n",
       "0  Комендантский проспект      1.98               12  \n",
       "1           Петроградская      1.04                8  \n",
       "2                 Беговая      9.57                5  \n",
       "3  Комендантский проспект      1.98               13  \n",
       "4              Пионерская      1.04               19  \n",
       "\n",
       "[5 rows x 23 columns]"
      ]
     },
     "execution_count": 2,
     "metadata": {},
     "output_type": "execute_result"
    }
   ],
   "source": [
    "flats=pd.read_csv('data/flats_all.csv',sep=';')\n",
    "flats.head()"
   ]
  },
  {
   "cell_type": "markdown",
   "metadata": {},
   "source": [
    "Features description."
   ]
  },
  {
   "cell_type": "markdown",
   "metadata": {},
   "source": [
    "<table>\n",
    "    <tr>\n",
    "        <th>N</th>\n",
    "        <th>Name</th>\n",
    "        <th>Description</th>\n",
    "    </tr>\n",
    "    <tr>\n",
    "        <td>1</td>\n",
    "        <td>link</td>\n",
    "        <td>Link to the page with the flat on cian.ru</td>\n",
    "    </tr>\n",
    "    <tr>\n",
    "        <td>2</td>       \n",
    "        <td>price</td>\n",
    "        <td>Flat price</td>\n",
    "    </tr>\n",
    "    <tr>\n",
    "        <td>3</td>\n",
    "        <td>total_area</td>\n",
    "        <td>The total area of the flat in square meters</td>\n",
    "    </tr>\n",
    "    <tr>\n",
    "        <td>4</td>        \n",
    "        <td>living_area</td>\n",
    "        <td>All bedrooms area plus living room in square meters</td>\n",
    "    </tr>\n",
    "    <tr>\n",
    "        <td>5</td>\n",
    "        <td>kitchen_area</td>\n",
    "        <td>Kitchen area in square meters</td>\n",
    "    </tr>\n",
    "    <tr>\n",
    "        <td>6</td>\n",
    "        <td>floor</td>\n",
    "        <td>Floor number where the flat is located</td>\n",
    "    </tr>\n",
    "    <tr>\n",
    "        <td>7</td>\n",
    "        <td>type</td>\n",
    "        <td>Building type: new (still under construction) or old</td>\n",
    "    </tr>\n",
    "    <tr>\n",
    "        <td>8</td>\n",
    "        <td>height</td>\n",
    "        <td>Ceiling height</td>\n",
    "    </tr>    \n",
    "    <tr>\n",
    "        <td>9</td>\n",
    "        <td>bathrooms</td>\n",
    "        <td>Number of bathrooms</td>\n",
    "    </tr>\n",
    "    <tr>\n",
    "        <td>10</td>\n",
    "        <td>balconies</td>\n",
    "        <td>Number of balconies</td>\n",
    "    </tr>\n",
    "    <tr>\n",
    "        <td>11</td>\n",
    "        <td>finishing</td>\n",
    "        <td>Finishing type of new flats: renovated and without</td>\n",
    "    </tr>    \n",
    "    <tr>\n",
    "        <td>12</td>\n",
    "        <td>year_of_construction</td>\n",
    "        <td>Year when the building was or will be built</td>\n",
    "    </tr>    \n",
    "    <tr>\n",
    "        <td>13</td>\n",
    "        <td>layout</td>\n",
    "        <td>The layout determines how the entrance to the rooms is located: through another room or through a corridor</td>\n",
    "    </tr>    \n",
    "    <tr>\n",
    "        <td>14</td>\n",
    "        <td>renovation</td>\n",
    "        <td>Type of renovation</td>\n",
    "    </tr>    \n",
    "    <tr>\n",
    "        <td>15</td>\n",
    "        <td>view</td>\n",
    "        <td>View from windows</td>\n",
    "    </tr> \n",
    "    <tr>\n",
    "        <td>16</td>\n",
    "        <td>rooms</td>\n",
    "        <td>Number of rooms</td>\n",
    "    </tr>     \n",
    "    <tr>\n",
    "        <td>17</td>\n",
    "        <td>city</td>\n",
    "        <td>City name</td>\n",
    "    </tr>     \n",
    "    <tr>\n",
    "        <td>18</td>\n",
    "        <td>area</td>\n",
    "        <td>Area name</td>\n",
    "    </tr>     \n",
    "    <tr>\n",
    "        <td>19</td>\n",
    "        <td>neighborhood</td>\n",
    "        <td>Neighborhood name</td>\n",
    "    </tr> \n",
    "    <tr>\n",
    "        <td>20</td>\n",
    "        <td>street</td>\n",
    "        <td>Street name</td>\n",
    "    </tr>     \n",
    "    <tr>\n",
    "        <td>21</td>\n",
    "        <td>metro_name</td>\n",
    "        <td>The closest metro station</td>\n",
    "    </tr>     \n",
    "    <tr>\n",
    "        <td>22</td>\n",
    "        <td>metro_km</td>\n",
    "        <td>Distance to the closest metro station in km</td>\n",
    "    </tr>     \n",
    "    <tr>\n",
    "        <td>23</td>\n",
    "        <td>number_of_floors</td>\n",
    "        <td>Number of floors in the buildings</td>\n",
    "    </tr>\n",
    "</table>"
   ]
  },
  {
   "cell_type": "markdown",
   "metadata": {},
   "source": [
    "I calcuclate the price for a square meter."
   ]
  },
  {
   "cell_type": "code",
   "execution_count": 3,
   "metadata": {},
   "outputs": [],
   "source": [
    "flats.insert(0,'price_meter',0.0)\n",
    "flats['price_meter']=flats['price']/flats['total_area']"
   ]
  },
  {
   "cell_type": "markdown",
   "metadata": {},
   "source": [
    "Let's check the dependence between price per meter and most perspective variables."
   ]
  },
  {
   "cell_type": "code",
   "execution_count": 4,
   "metadata": {},
   "outputs": [
    {
     "data": {
      "text/plain": [
       "<AxesSubplot:title={'center':'Dependence between price_meter and living_area'}, xlabel='living_area', ylabel='price_meter'>"
      ]
     },
     "execution_count": 4,
     "metadata": {},
     "output_type": "execute_result"
    },
    {
     "data": {
      "image/png": "[encoded data removed]",
      "text/plain": [
       "<Figure size 1080x432 with 1 Axes>"
      ]
     },
     "metadata": {
      "needs_background": "light"
     },
     "output_type": "display_data"
    }
   ],
   "source": [
    "flats.plot(kind='scatter',x='living_area',y='price_meter',figsize=(15,6),\n",
    "           title='Dependence between price_meter and living_area')"
   ]
  },
  {
   "cell_type": "code",
   "execution_count": 5,
   "metadata": {},
   "outputs": [
    {
     "data": {
      "text/plain": [
       "<AxesSubplot:title={'center':'Dependence between floor and living_area'}, xlabel='floor', ylabel='price_meter'>"
      ]
     },
     "execution_count": 5,
     "metadata": {},
     "output_type": "execute_result"
    },
    {
     "data": {
      "image/png": "[encoded data removed]",
      "text/plain": [
       "<Figure size 1080x432 with 1 Axes>"
      ]
     },
     "metadata": {
      "needs_background": "light"
     },
     "output_type": "display_data"
    }
   ],
   "source": [
    "flats.plot(kind='scatter',x='floor',y='price_meter',figsize=(15,6),\n",
    "           title='Dependence between floor and living_area')"
   ]
  },
  {
   "cell_type": "code",
   "execution_count": 6,
   "metadata": {},
   "outputs": [
    {
     "data": {
      "text/plain": [
       "<AxesSubplot:title={'center':'Dependence between price_meter and height'}, xlabel='height', ylabel='price_meter'>"
      ]
     },
     "execution_count": 6,
     "metadata": {},
     "output_type": "execute_result"
    },
    {
     "data": {
      "image/png": "[encoded data removed]",
      "text/plain": [
       "<Figure size 1080x432 with 1 Axes>"
      ]
     },
     "metadata": {
      "needs_background": "light"
     },
     "output_type": "display_data"
    }
   ],
   "source": [
    "flats.plot(kind='scatter',x='height',y='price_meter',figsize=(15,6),\n",
    "           title='Dependence between price_meter and height')"
   ]
  },
  {
   "cell_type": "code",
   "execution_count": 7,
   "metadata": {},
   "outputs": [
    {
     "data": {
      "text/plain": [
       "<AxesSubplot:title={'center':'Dependence between price_meter and year_of_construction'}, xlabel='year_of_construction', ylabel='price_meter'>"
      ]
     },
     "execution_count": 7,
     "metadata": {},
     "output_type": "execute_result"
    },
    {
     "data": {
      "image/png": "[encoded data removed]",
      "text/plain": [
       "<Figure size 1080x432 with 1 Axes>"
      ]
     },
     "metadata": {
      "needs_background": "light"
     },
     "output_type": "display_data"
    }
   ],
   "source": [
    "flats.plot(kind='scatter',x='year_of_construction',y='price_meter',figsize=(15,6),\n",
    "           title='Dependence between price_meter and year_of_construction')"
   ]
  },
  {
   "cell_type": "code",
   "execution_count": 8,
   "metadata": {},
   "outputs": [
    {
     "data": {
      "text/plain": [
       "<AxesSubplot:title={'center':'Dependence between price_meter and metro_km'}, xlabel='metro_km', ylabel='price_meter'>"
      ]
     },
     "execution_count": 8,
     "metadata": {},
     "output_type": "execute_result"
    },
    {
     "data": {
      "image/png": "[encoded data removed]",
      "text/plain": [
       "<Figure size 1080x432 with 1 Axes>"
      ]
     },
     "metadata": {
      "needs_background": "light"
     },
     "output_type": "display_data"
    }
   ],
   "source": [
    "flats.plot(kind='scatter',x='metro_km',y='price_meter',figsize=(15,6),\n",
    "           title='Dependence between price_meter and metro_km')"
   ]
  },
  {
   "cell_type": "markdown",
   "metadata": {},
   "source": [
    "As we see, the price mostly has a big scatter. There are not the visible and clear dependence. Nevertheless, I will try to build a predictive model."
   ]
  },
  {
   "cell_type": "markdown",
   "metadata": {},
   "source": [
    "<h2>Data Preprocessing</h2>"
   ]
  },
  {
   "cell_type": "markdown",
   "metadata": {},
   "source": [
    "Let's check values in the column 'rooms'."
   ]
  },
  {
   "cell_type": "code",
   "execution_count": 9,
   "metadata": {},
   "outputs": [
    {
     "data": {
      "text/plain": [
       "2                 353\n",
       "3                 333\n",
       "1                 309\n",
       "Студия            169\n",
       "4                 122\n",
       "5                  52\n",
       "Многокомнатная     39\n",
       "Апартаменты        31\n",
       "Квартира            6\n",
       "Name: rooms, dtype: int64"
      ]
     },
     "execution_count": 9,
     "metadata": {},
     "output_type": "execute_result"
    }
   ],
   "source": [
    "flats['rooms'].value_counts()"
   ]
  },
  {
   "cell_type": "markdown",
   "metadata": {},
   "source": [
    "Next, I replace 'Студия' with 0.5 and 'Многокомнатная' with 6. Values 'Апартаменты', 'Квартира' don't contain information about the number of rooms so I replace them with the most frequent value. Also, I convert the column into the float format."
   ]
  },
  {
   "cell_type": "code",
   "execution_count": 10,
   "metadata": {
    "pycharm": {
     "is_executing": true
    }
   },
   "outputs": [
    {
     "data": {
      "text/html": [
       "<div>\n",
       "<style scoped>\n",
       "    .dataframe tbody tr th:only-of-type {\n",
       "        vertical-align: middle;\n",
       "    }\n",
       "\n",
       "    .dataframe tbody tr th {\n",
       "        vertical-align: top;\n",
       "    }\n",
       "\n",
       "    .dataframe thead th {\n",
       "        text-align: right;\n",
       "    }\n",
       "</style>\n",
       "<table border=\"1\" class=\"dataframe\">\n",
       "  <thead>\n",
       "    <tr style=\"text-align: right;\">\n",
       "      <th></th>\n",
       "      <th>rooms</th>\n",
       "    </tr>\n",
       "  </thead>\n",
       "  <tbody>\n",
       "    <tr>\n",
       "      <th>0</th>\n",
       "      <td>2.0</td>\n",
       "    </tr>\n",
       "    <tr>\n",
       "      <th>1</th>\n",
       "      <td>1.0</td>\n",
       "    </tr>\n",
       "    <tr>\n",
       "      <th>2</th>\n",
       "      <td>1.0</td>\n",
       "    </tr>\n",
       "    <tr>\n",
       "      <th>3</th>\n",
       "      <td>2.0</td>\n",
       "    </tr>\n",
       "    <tr>\n",
       "      <th>4</th>\n",
       "      <td>2.0</td>\n",
       "    </tr>\n",
       "  </tbody>\n",
       "</table>\n",
       "</div>"
      ],
      "text/plain": [
       "   rooms\n",
       "0    2.0\n",
       "1    1.0\n",
       "2    1.0\n",
       "3    2.0\n",
       "4    2.0"
      ]
     },
     "execution_count": 10,
     "metadata": {},
     "output_type": "execute_result"
    }
   ],
   "source": [
    "flats['rooms']=flats['rooms'].replace(['Студия','Многокомнатная','Многокомнатные'],['0.5',6,6])\n",
    "flats['rooms']=flats['rooms'].replace(['Апартаменты','Квартира'],flats['rooms'].value_counts().idxmax())\n",
    "flats['rooms']=flats['rooms'].astype(float)\n",
    "flats[['rooms']].head()"
   ]
  },
  {
   "cell_type": "markdown",
   "metadata": {},
   "source": [
    "Next, I will translate all categorical values into English."
   ]
  },
  {
   "cell_type": "code",
   "execution_count": 11,
   "metadata": {
    "pycharm": {
     "is_executing": true
    }
   },
   "outputs": [],
   "source": [
    "flats['type']=flats['type'].replace(['Вторичка','Новостройка'],['secondary','new'])\n",
    "flats['view']=flats['view'].replace(['На улицу и двор','Во двор','На улицу'],['both','view_courtyard','view_street'])\n",
    "flats['finishing']=flats['finishing'].replace(['Чистовая','Нет','Черновая'],['fine','none','rough'])\n",
    "flats['layout']=flats['layout'].replace(['Изолированная','Смежно-изолированная','Смежная'],['isolated','mixed','adjoining'])\n",
    "flats['renovation']=flats['renovation'].replace(['Евроремонт','Без ремонта','Косметический','Дизайнерский'],\n",
    "                                                ['euro','none','redecorating','designer'])"
   ]
  },
  {
   "cell_type": "markdown",
   "metadata": {},
   "source": [
    "The next step is finding and removing missing data. Firstly, let's identify NaNs and zeros."
   ]
  },
  {
   "cell_type": "code",
   "execution_count": 12,
   "metadata": {
    "pycharm": {
     "is_executing": true,
     "name": "#%%\n"
    }
   },
   "outputs": [
    {
     "data": {
      "text/plain": [
       "price_meter                0\n",
       "link                       0\n",
       "price                      0\n",
       "total_area                 0\n",
       "living_area              159\n",
       "kitchen_area             261\n",
       "floor                      0\n",
       "type                       0\n",
       "height                   685\n",
       "bathrooms                  0\n",
       "balconies                  0\n",
       "finishing               1187\n",
       "year_of_construction     203\n",
       "layout                   898\n",
       "renovation               462\n",
       "view                     560\n",
       "rooms                      0\n",
       "city                       0\n",
       "area                       0\n",
       "neighborhood              13\n",
       "street                    13\n",
       "metro_name               135\n",
       "metro_km                   0\n",
       "number_of_floors           0\n",
       "dtype: int64"
      ]
     },
     "execution_count": 12,
     "metadata": {},
     "output_type": "execute_result"
    }
   ],
   "source": [
    "pd.isna(flats).sum()"
   ]
  },
  {
   "cell_type": "markdown",
   "metadata": {},
   "source": [
    "Now I will find out the proportion between living_area, kitchen_area, total_area and replace missing data with the most common proportion."
   ]
  },
  {
   "cell_type": "code",
   "execution_count": 13,
   "metadata": {
    "pycharm": {
     "is_executing": true,
     "name": "#%%\n"
    }
   },
   "outputs": [],
   "source": [
    "flats['living_part']=flats['living_area']/flats['total_area']\n",
    "flats['kitchen_part']=flats['kitchen_area']/flats['total_area']\n",
    "flats['living_area']=flats['living_area'].combine_first(flats['total_area']*flats['living_part'].mean())\n",
    "flats['kitchen_area']=flats['kitchen_area'].combine_first(flats['total_area']*flats['kitchen_part'].mean())\n",
    "flats.drop(['living_part','kitchen_part'],axis='columns',inplace=True)"
   ]
  },
  {
   "cell_type": "markdown",
   "metadata": {},
   "source": [
    "I replace missing data in columns 'view', 'finishing', 'layout', 'renovation','year_of_construction' with the most popular value."
   ]
  },
  {
   "cell_type": "code",
   "execution_count": 14,
   "metadata": {
    "pycharm": {
     "is_executing": true,
     "name": "#%%\n"
    }
   },
   "outputs": [],
   "source": [
    "flats['view']=flats['view'].replace(np.nan,flats['view'].value_counts().idxmax())\n",
    "flats['finishing']=flats['finishing'].replace(np.nan,flats['finishing'].value_counts().idxmax())\n",
    "flats['layout']=flats['layout'].replace(np.nan,flats['layout'].value_counts().idxmax())\n",
    "flats['renovation']=flats['renovation'].replace(np.nan,flats['renovation'].value_counts().idxmax())\n",
    "flats['year_of_construction']=flats['year_of_construction'].replace(np.nan,flats['year_of_construction'].value_counts().idxmax())"
   ]
  },
  {
   "cell_type": "markdown",
   "metadata": {},
   "source": [
    "I replace the height with the mean value. "
   ]
  },
  {
   "cell_type": "code",
   "execution_count": 15,
   "metadata": {
    "pycharm": {
     "is_executing": true,
     "name": "#%%\n"
    }
   },
   "outputs": [],
   "source": [
    "flats['height']=flats['height'].replace(np.nan,flats['height'].mean())"
   ]
  },
  {
   "cell_type": "markdown",
   "metadata": {},
   "source": [
    "Finally, I drop lines with missing values in 'street'"
   ]
  },
  {
   "cell_type": "code",
   "execution_count": 16,
   "metadata": {},
   "outputs": [],
   "source": [
    "flats.drop(flats[flats['street'].isna()].index,axis='rows',inplace=True)"
   ]
  },
  {
   "cell_type": "markdown",
   "metadata": {},
   "source": [
    "<h2>Model building</h2>"
   ]
  },
  {
   "cell_type": "markdown",
   "metadata": {},
   "source": [
    "Here I am going to build a predictive model. Price per meter is a dependent value. The rest of the characteristics are independent values. First, I need to prepare a dataframe. I create a copy of the \"flats\". I decided not to use geolocation data. Otherwise, there will be too many categorical variables that probably won't improve my model. Geodata requires one more analysis."
   ]
  },
  {
   "cell_type": "code",
   "execution_count": 17,
   "metadata": {
    "pycharm": {
     "is_executing": true,
     "name": "#%%\n"
    }
   },
   "outputs": [],
   "source": [
    "flats_model=flats.copy()\n",
    "flats_model.drop(['link','price','city','street','neighborhood','metro_name','area'],axis='columns',inplace=True)"
   ]
  },
  {
   "cell_type": "code",
   "execution_count": 18,
   "metadata": {},
   "outputs": [
    {
     "name": "stdout",
     "output_type": "stream",
     "text": [
      "<class 'pandas.core.frame.DataFrame'>\n",
      "Int64Index: 1401 entries, 0 to 1413\n",
      "Data columns (total 17 columns):\n",
      " #   Column                Non-Null Count  Dtype  \n",
      "---  ------                --------------  -----  \n",
      " 0   price_meter           1401 non-null   float64\n",
      " 1   total_area            1401 non-null   float64\n",
      " 2   living_area           1401 non-null   float64\n",
      " 3   kitchen_area          1401 non-null   float64\n",
      " 4   floor                 1401 non-null   int64  \n",
      " 5   type                  1401 non-null   object \n",
      " 6   height                1401 non-null   float64\n",
      " 7   bathrooms             1401 non-null   float64\n",
      " 8   balconies             1401 non-null   float64\n",
      " 9   finishing             1401 non-null   object \n",
      " 10  year_of_construction  1401 non-null   float64\n",
      " 11  layout                1401 non-null   object \n",
      " 12  renovation            1401 non-null   object \n",
      " 13  view                  1401 non-null   object \n",
      " 14  rooms                 1401 non-null   float64\n",
      " 15  metro_km              1401 non-null   float64\n",
      " 16  number_of_floors      1401 non-null   int64  \n",
      "dtypes: float64(10), int64(2), object(5)\n",
      "memory usage: 197.0+ KB\n"
     ]
    }
   ],
   "source": [
    "flats_model.info()"
   ]
  },
  {
   "cell_type": "markdown",
   "metadata": {},
   "source": [
    "Next, I need to turn all categorical values into numerical. I use 'get_dummies' function from pandas."
   ]
  },
  {
   "cell_type": "code",
   "execution_count": 20,
   "metadata": {
    "pycharm": {
     "is_executing": true,
     "name": "#%%\n"
    }
   },
   "outputs": [
    {
     "name": "stdout",
     "output_type": "stream",
     "text": [
      "<class 'pandas.core.frame.DataFrame'>\n",
      "Int64Index: 1401 entries, 0 to 1413\n",
      "Data columns (total 22 columns):\n",
      " #   Column                   Non-Null Count  Dtype  \n",
      "---  ------                   --------------  -----  \n",
      " 0   price_meter              1401 non-null   float64\n",
      " 1   total_area               1401 non-null   float64\n",
      " 2   living_area              1401 non-null   float64\n",
      " 3   kitchen_area             1401 non-null   float64\n",
      " 4   floor                    1401 non-null   int64  \n",
      " 5   height                   1401 non-null   float64\n",
      " 6   bathrooms                1401 non-null   float64\n",
      " 7   balconies                1401 non-null   float64\n",
      " 8   year_of_construction     1401 non-null   float64\n",
      " 9   rooms                    1401 non-null   float64\n",
      " 10  metro_km                 1401 non-null   float64\n",
      " 11  number_of_floors         1401 non-null   int64  \n",
      " 12  type_secondary           1401 non-null   uint8  \n",
      " 13  view_view_courtyard      1401 non-null   uint8  \n",
      " 14  view_view_street         1401 non-null   uint8  \n",
      " 15  finishing_none           1401 non-null   uint8  \n",
      " 16  finishing_rough          1401 non-null   uint8  \n",
      " 17  layout_isolated          1401 non-null   uint8  \n",
      " 18  layout_mixed             1401 non-null   uint8  \n",
      " 19  renovation_euro          1401 non-null   uint8  \n",
      " 20  renovation_none          1401 non-null   uint8  \n",
      " 21  renovation_redecorating  1401 non-null   uint8  \n",
      "dtypes: float64(10), int64(2), uint8(10)\n",
      "memory usage: 156.0 KB\n"
     ]
    }
   ],
   "source": [
    "cat_df=flats_model[['type','view','finishing','layout','renovation']]\n",
    "cat_df=pd.get_dummies(data=cat_df,drop_first=True)\n",
    "\n",
    "#Join all the dataframes in one\n",
    "flats_model=pd.concat([flats_model,cat_df],axis=1)\n",
    "flats_model.drop(['type','view','finishing','layout','renovation'],axis='columns',inplace=True)\n",
    "\n",
    "# Check the result\n",
    "flats_model.info()"
   ]
  },
  {
   "cell_type": "markdown",
   "metadata": {
    "pycharm": {
     "is_executing": true,
     "name": "#%%\n"
    }
   },
   "source": [
    "Let's check correlation among features. We need to remove features with strong correlation (>0.9). Otherwise they can spoil the model"
   ]
  },
  {
   "cell_type": "code",
   "execution_count": 21,
   "metadata": {
    "pycharm": {
     "is_executing": true,
     "name": "#%%\n"
    }
   },
   "outputs": [
    {
     "data": {
      "text/html": [
       "<div>\n",
       "<style scoped>\n",
       "    .dataframe tbody tr th:only-of-type {\n",
       "        vertical-align: middle;\n",
       "    }\n",
       "\n",
       "    .dataframe tbody tr th {\n",
       "        vertical-align: top;\n",
       "    }\n",
       "\n",
       "    .dataframe thead th {\n",
       "        text-align: right;\n",
       "    }\n",
       "</style>\n",
       "<table border=\"1\" class=\"dataframe\">\n",
       "  <thead>\n",
       "    <tr style=\"text-align: right;\">\n",
       "      <th></th>\n",
       "      <th>total_area</th>\n",
       "      <th>living_area</th>\n",
       "      <th>kitchen_area</th>\n",
       "      <th>floor</th>\n",
       "      <th>height</th>\n",
       "      <th>bathrooms</th>\n",
       "      <th>balconies</th>\n",
       "      <th>year_of_construction</th>\n",
       "      <th>rooms</th>\n",
       "      <th>metro_km</th>\n",
       "      <th>...</th>\n",
       "      <th>type_secondary</th>\n",
       "      <th>view_view_courtyard</th>\n",
       "      <th>view_view_street</th>\n",
       "      <th>finishing_none</th>\n",
       "      <th>finishing_rough</th>\n",
       "      <th>layout_isolated</th>\n",
       "      <th>layout_mixed</th>\n",
       "      <th>renovation_euro</th>\n",
       "      <th>renovation_none</th>\n",
       "      <th>renovation_redecorating</th>\n",
       "    </tr>\n",
       "  </thead>\n",
       "  <tbody>\n",
       "    <tr>\n",
       "      <th>total_area</th>\n",
       "      <td>1.000000</td>\n",
       "      <td>0.977648</td>\n",
       "      <td>NaN</td>\n",
       "      <td>NaN</td>\n",
       "      <td>NaN</td>\n",
       "      <td>NaN</td>\n",
       "      <td>NaN</td>\n",
       "      <td>NaN</td>\n",
       "      <td>NaN</td>\n",
       "      <td>NaN</td>\n",
       "      <td>...</td>\n",
       "      <td>NaN</td>\n",
       "      <td>NaN</td>\n",
       "      <td>NaN</td>\n",
       "      <td>NaN</td>\n",
       "      <td>NaN</td>\n",
       "      <td>NaN</td>\n",
       "      <td>NaN</td>\n",
       "      <td>NaN</td>\n",
       "      <td>NaN</td>\n",
       "      <td>NaN</td>\n",
       "    </tr>\n",
       "    <tr>\n",
       "      <th>living_area</th>\n",
       "      <td>0.977648</td>\n",
       "      <td>1.000000</td>\n",
       "      <td>NaN</td>\n",
       "      <td>NaN</td>\n",
       "      <td>NaN</td>\n",
       "      <td>NaN</td>\n",
       "      <td>NaN</td>\n",
       "      <td>NaN</td>\n",
       "      <td>NaN</td>\n",
       "      <td>NaN</td>\n",
       "      <td>...</td>\n",
       "      <td>NaN</td>\n",
       "      <td>NaN</td>\n",
       "      <td>NaN</td>\n",
       "      <td>NaN</td>\n",
       "      <td>NaN</td>\n",
       "      <td>NaN</td>\n",
       "      <td>NaN</td>\n",
       "      <td>NaN</td>\n",
       "      <td>NaN</td>\n",
       "      <td>NaN</td>\n",
       "    </tr>\n",
       "    <tr>\n",
       "      <th>kitchen_area</th>\n",
       "      <td>NaN</td>\n",
       "      <td>NaN</td>\n",
       "      <td>1.0</td>\n",
       "      <td>NaN</td>\n",
       "      <td>NaN</td>\n",
       "      <td>NaN</td>\n",
       "      <td>NaN</td>\n",
       "      <td>NaN</td>\n",
       "      <td>NaN</td>\n",
       "      <td>NaN</td>\n",
       "      <td>...</td>\n",
       "      <td>NaN</td>\n",
       "      <td>NaN</td>\n",
       "      <td>NaN</td>\n",
       "      <td>NaN</td>\n",
       "      <td>NaN</td>\n",
       "      <td>NaN</td>\n",
       "      <td>NaN</td>\n",
       "      <td>NaN</td>\n",
       "      <td>NaN</td>\n",
       "      <td>NaN</td>\n",
       "    </tr>\n",
       "    <tr>\n",
       "      <th>floor</th>\n",
       "      <td>NaN</td>\n",
       "      <td>NaN</td>\n",
       "      <td>NaN</td>\n",
       "      <td>1.0</td>\n",
       "      <td>NaN</td>\n",
       "      <td>NaN</td>\n",
       "      <td>NaN</td>\n",
       "      <td>NaN</td>\n",
       "      <td>NaN</td>\n",
       "      <td>NaN</td>\n",
       "      <td>...</td>\n",
       "      <td>NaN</td>\n",
       "      <td>NaN</td>\n",
       "      <td>NaN</td>\n",
       "      <td>NaN</td>\n",
       "      <td>NaN</td>\n",
       "      <td>NaN</td>\n",
       "      <td>NaN</td>\n",
       "      <td>NaN</td>\n",
       "      <td>NaN</td>\n",
       "      <td>NaN</td>\n",
       "    </tr>\n",
       "    <tr>\n",
       "      <th>height</th>\n",
       "      <td>NaN</td>\n",
       "      <td>NaN</td>\n",
       "      <td>NaN</td>\n",
       "      <td>NaN</td>\n",
       "      <td>1.0</td>\n",
       "      <td>NaN</td>\n",
       "      <td>NaN</td>\n",
       "      <td>NaN</td>\n",
       "      <td>NaN</td>\n",
       "      <td>NaN</td>\n",
       "      <td>...</td>\n",
       "      <td>NaN</td>\n",
       "      <td>NaN</td>\n",
       "      <td>NaN</td>\n",
       "      <td>NaN</td>\n",
       "      <td>NaN</td>\n",
       "      <td>NaN</td>\n",
       "      <td>NaN</td>\n",
       "      <td>NaN</td>\n",
       "      <td>NaN</td>\n",
       "      <td>NaN</td>\n",
       "    </tr>\n",
       "    <tr>\n",
       "      <th>bathrooms</th>\n",
       "      <td>NaN</td>\n",
       "      <td>NaN</td>\n",
       "      <td>NaN</td>\n",
       "      <td>NaN</td>\n",
       "      <td>NaN</td>\n",
       "      <td>1.0</td>\n",
       "      <td>NaN</td>\n",
       "      <td>NaN</td>\n",
       "      <td>NaN</td>\n",
       "      <td>NaN</td>\n",
       "      <td>...</td>\n",
       "      <td>NaN</td>\n",
       "      <td>NaN</td>\n",
       "      <td>NaN</td>\n",
       "      <td>NaN</td>\n",
       "      <td>NaN</td>\n",
       "      <td>NaN</td>\n",
       "      <td>NaN</td>\n",
       "      <td>NaN</td>\n",
       "      <td>NaN</td>\n",
       "      <td>NaN</td>\n",
       "    </tr>\n",
       "    <tr>\n",
       "      <th>balconies</th>\n",
       "      <td>NaN</td>\n",
       "      <td>NaN</td>\n",
       "      <td>NaN</td>\n",
       "      <td>NaN</td>\n",
       "      <td>NaN</td>\n",
       "      <td>NaN</td>\n",
       "      <td>1.0</td>\n",
       "      <td>NaN</td>\n",
       "      <td>NaN</td>\n",
       "      <td>NaN</td>\n",
       "      <td>...</td>\n",
       "      <td>NaN</td>\n",
       "      <td>NaN</td>\n",
       "      <td>NaN</td>\n",
       "      <td>NaN</td>\n",
       "      <td>NaN</td>\n",
       "      <td>NaN</td>\n",
       "      <td>NaN</td>\n",
       "      <td>NaN</td>\n",
       "      <td>NaN</td>\n",
       "      <td>NaN</td>\n",
       "    </tr>\n",
       "    <tr>\n",
       "      <th>year_of_construction</th>\n",
       "      <td>NaN</td>\n",
       "      <td>NaN</td>\n",
       "      <td>NaN</td>\n",
       "      <td>NaN</td>\n",
       "      <td>NaN</td>\n",
       "      <td>NaN</td>\n",
       "      <td>NaN</td>\n",
       "      <td>1.0</td>\n",
       "      <td>NaN</td>\n",
       "      <td>NaN</td>\n",
       "      <td>...</td>\n",
       "      <td>NaN</td>\n",
       "      <td>NaN</td>\n",
       "      <td>NaN</td>\n",
       "      <td>NaN</td>\n",
       "      <td>NaN</td>\n",
       "      <td>NaN</td>\n",
       "      <td>NaN</td>\n",
       "      <td>NaN</td>\n",
       "      <td>NaN</td>\n",
       "      <td>NaN</td>\n",
       "    </tr>\n",
       "    <tr>\n",
       "      <th>rooms</th>\n",
       "      <td>NaN</td>\n",
       "      <td>NaN</td>\n",
       "      <td>NaN</td>\n",
       "      <td>NaN</td>\n",
       "      <td>NaN</td>\n",
       "      <td>NaN</td>\n",
       "      <td>NaN</td>\n",
       "      <td>NaN</td>\n",
       "      <td>1.0</td>\n",
       "      <td>NaN</td>\n",
       "      <td>...</td>\n",
       "      <td>NaN</td>\n",
       "      <td>NaN</td>\n",
       "      <td>NaN</td>\n",
       "      <td>NaN</td>\n",
       "      <td>NaN</td>\n",
       "      <td>NaN</td>\n",
       "      <td>NaN</td>\n",
       "      <td>NaN</td>\n",
       "      <td>NaN</td>\n",
       "      <td>NaN</td>\n",
       "    </tr>\n",
       "    <tr>\n",
       "      <th>metro_km</th>\n",
       "      <td>NaN</td>\n",
       "      <td>NaN</td>\n",
       "      <td>NaN</td>\n",
       "      <td>NaN</td>\n",
       "      <td>NaN</td>\n",
       "      <td>NaN</td>\n",
       "      <td>NaN</td>\n",
       "      <td>NaN</td>\n",
       "      <td>NaN</td>\n",
       "      <td>1.0</td>\n",
       "      <td>...</td>\n",
       "      <td>NaN</td>\n",
       "      <td>NaN</td>\n",
       "      <td>NaN</td>\n",
       "      <td>NaN</td>\n",
       "      <td>NaN</td>\n",
       "      <td>NaN</td>\n",
       "      <td>NaN</td>\n",
       "      <td>NaN</td>\n",
       "      <td>NaN</td>\n",
       "      <td>NaN</td>\n",
       "    </tr>\n",
       "    <tr>\n",
       "      <th>number_of_floors</th>\n",
       "      <td>NaN</td>\n",
       "      <td>NaN</td>\n",
       "      <td>NaN</td>\n",
       "      <td>NaN</td>\n",
       "      <td>NaN</td>\n",
       "      <td>NaN</td>\n",
       "      <td>NaN</td>\n",
       "      <td>NaN</td>\n",
       "      <td>NaN</td>\n",
       "      <td>NaN</td>\n",
       "      <td>...</td>\n",
       "      <td>NaN</td>\n",
       "      <td>NaN</td>\n",
       "      <td>NaN</td>\n",
       "      <td>NaN</td>\n",
       "      <td>NaN</td>\n",
       "      <td>NaN</td>\n",
       "      <td>NaN</td>\n",
       "      <td>NaN</td>\n",
       "      <td>NaN</td>\n",
       "      <td>NaN</td>\n",
       "    </tr>\n",
       "    <tr>\n",
       "      <th>type_secondary</th>\n",
       "      <td>NaN</td>\n",
       "      <td>NaN</td>\n",
       "      <td>NaN</td>\n",
       "      <td>NaN</td>\n",
       "      <td>NaN</td>\n",
       "      <td>NaN</td>\n",
       "      <td>NaN</td>\n",
       "      <td>NaN</td>\n",
       "      <td>NaN</td>\n",
       "      <td>NaN</td>\n",
       "      <td>...</td>\n",
       "      <td>1.0</td>\n",
       "      <td>NaN</td>\n",
       "      <td>NaN</td>\n",
       "      <td>NaN</td>\n",
       "      <td>NaN</td>\n",
       "      <td>NaN</td>\n",
       "      <td>NaN</td>\n",
       "      <td>NaN</td>\n",
       "      <td>NaN</td>\n",
       "      <td>NaN</td>\n",
       "    </tr>\n",
       "    <tr>\n",
       "      <th>view_view_courtyard</th>\n",
       "      <td>NaN</td>\n",
       "      <td>NaN</td>\n",
       "      <td>NaN</td>\n",
       "      <td>NaN</td>\n",
       "      <td>NaN</td>\n",
       "      <td>NaN</td>\n",
       "      <td>NaN</td>\n",
       "      <td>NaN</td>\n",
       "      <td>NaN</td>\n",
       "      <td>NaN</td>\n",
       "      <td>...</td>\n",
       "      <td>NaN</td>\n",
       "      <td>1.0</td>\n",
       "      <td>NaN</td>\n",
       "      <td>NaN</td>\n",
       "      <td>NaN</td>\n",
       "      <td>NaN</td>\n",
       "      <td>NaN</td>\n",
       "      <td>NaN</td>\n",
       "      <td>NaN</td>\n",
       "      <td>NaN</td>\n",
       "    </tr>\n",
       "    <tr>\n",
       "      <th>view_view_street</th>\n",
       "      <td>NaN</td>\n",
       "      <td>NaN</td>\n",
       "      <td>NaN</td>\n",
       "      <td>NaN</td>\n",
       "      <td>NaN</td>\n",
       "      <td>NaN</td>\n",
       "      <td>NaN</td>\n",
       "      <td>NaN</td>\n",
       "      <td>NaN</td>\n",
       "      <td>NaN</td>\n",
       "      <td>...</td>\n",
       "      <td>NaN</td>\n",
       "      <td>NaN</td>\n",
       "      <td>1.0</td>\n",
       "      <td>NaN</td>\n",
       "      <td>NaN</td>\n",
       "      <td>NaN</td>\n",
       "      <td>NaN</td>\n",
       "      <td>NaN</td>\n",
       "      <td>NaN</td>\n",
       "      <td>NaN</td>\n",
       "    </tr>\n",
       "    <tr>\n",
       "      <th>finishing_none</th>\n",
       "      <td>NaN</td>\n",
       "      <td>NaN</td>\n",
       "      <td>NaN</td>\n",
       "      <td>NaN</td>\n",
       "      <td>NaN</td>\n",
       "      <td>NaN</td>\n",
       "      <td>NaN</td>\n",
       "      <td>NaN</td>\n",
       "      <td>NaN</td>\n",
       "      <td>NaN</td>\n",
       "      <td>...</td>\n",
       "      <td>NaN</td>\n",
       "      <td>NaN</td>\n",
       "      <td>NaN</td>\n",
       "      <td>1.0</td>\n",
       "      <td>NaN</td>\n",
       "      <td>NaN</td>\n",
       "      <td>NaN</td>\n",
       "      <td>NaN</td>\n",
       "      <td>NaN</td>\n",
       "      <td>NaN</td>\n",
       "    </tr>\n",
       "    <tr>\n",
       "      <th>finishing_rough</th>\n",
       "      <td>NaN</td>\n",
       "      <td>NaN</td>\n",
       "      <td>NaN</td>\n",
       "      <td>NaN</td>\n",
       "      <td>NaN</td>\n",
       "      <td>NaN</td>\n",
       "      <td>NaN</td>\n",
       "      <td>NaN</td>\n",
       "      <td>NaN</td>\n",
       "      <td>NaN</td>\n",
       "      <td>...</td>\n",
       "      <td>NaN</td>\n",
       "      <td>NaN</td>\n",
       "      <td>NaN</td>\n",
       "      <td>NaN</td>\n",
       "      <td>1.0</td>\n",
       "      <td>NaN</td>\n",
       "      <td>NaN</td>\n",
       "      <td>NaN</td>\n",
       "      <td>NaN</td>\n",
       "      <td>NaN</td>\n",
       "    </tr>\n",
       "    <tr>\n",
       "      <th>layout_isolated</th>\n",
       "      <td>NaN</td>\n",
       "      <td>NaN</td>\n",
       "      <td>NaN</td>\n",
       "      <td>NaN</td>\n",
       "      <td>NaN</td>\n",
       "      <td>NaN</td>\n",
       "      <td>NaN</td>\n",
       "      <td>NaN</td>\n",
       "      <td>NaN</td>\n",
       "      <td>NaN</td>\n",
       "      <td>...</td>\n",
       "      <td>NaN</td>\n",
       "      <td>NaN</td>\n",
       "      <td>NaN</td>\n",
       "      <td>NaN</td>\n",
       "      <td>NaN</td>\n",
       "      <td>1.0</td>\n",
       "      <td>NaN</td>\n",
       "      <td>NaN</td>\n",
       "      <td>NaN</td>\n",
       "      <td>NaN</td>\n",
       "    </tr>\n",
       "    <tr>\n",
       "      <th>layout_mixed</th>\n",
       "      <td>NaN</td>\n",
       "      <td>NaN</td>\n",
       "      <td>NaN</td>\n",
       "      <td>NaN</td>\n",
       "      <td>NaN</td>\n",
       "      <td>NaN</td>\n",
       "      <td>NaN</td>\n",
       "      <td>NaN</td>\n",
       "      <td>NaN</td>\n",
       "      <td>NaN</td>\n",
       "      <td>...</td>\n",
       "      <td>NaN</td>\n",
       "      <td>NaN</td>\n",
       "      <td>NaN</td>\n",
       "      <td>NaN</td>\n",
       "      <td>NaN</td>\n",
       "      <td>NaN</td>\n",
       "      <td>1.0</td>\n",
       "      <td>NaN</td>\n",
       "      <td>NaN</td>\n",
       "      <td>NaN</td>\n",
       "    </tr>\n",
       "    <tr>\n",
       "      <th>renovation_euro</th>\n",
       "      <td>NaN</td>\n",
       "      <td>NaN</td>\n",
       "      <td>NaN</td>\n",
       "      <td>NaN</td>\n",
       "      <td>NaN</td>\n",
       "      <td>NaN</td>\n",
       "      <td>NaN</td>\n",
       "      <td>NaN</td>\n",
       "      <td>NaN</td>\n",
       "      <td>NaN</td>\n",
       "      <td>...</td>\n",
       "      <td>NaN</td>\n",
       "      <td>NaN</td>\n",
       "      <td>NaN</td>\n",
       "      <td>NaN</td>\n",
       "      <td>NaN</td>\n",
       "      <td>NaN</td>\n",
       "      <td>NaN</td>\n",
       "      <td>1.0</td>\n",
       "      <td>NaN</td>\n",
       "      <td>NaN</td>\n",
       "    </tr>\n",
       "    <tr>\n",
       "      <th>renovation_none</th>\n",
       "      <td>NaN</td>\n",
       "      <td>NaN</td>\n",
       "      <td>NaN</td>\n",
       "      <td>NaN</td>\n",
       "      <td>NaN</td>\n",
       "      <td>NaN</td>\n",
       "      <td>NaN</td>\n",
       "      <td>NaN</td>\n",
       "      <td>NaN</td>\n",
       "      <td>NaN</td>\n",
       "      <td>...</td>\n",
       "      <td>NaN</td>\n",
       "      <td>NaN</td>\n",
       "      <td>NaN</td>\n",
       "      <td>NaN</td>\n",
       "      <td>NaN</td>\n",
       "      <td>NaN</td>\n",
       "      <td>NaN</td>\n",
       "      <td>NaN</td>\n",
       "      <td>1.0</td>\n",
       "      <td>NaN</td>\n",
       "    </tr>\n",
       "    <tr>\n",
       "      <th>renovation_redecorating</th>\n",
       "      <td>NaN</td>\n",
       "      <td>NaN</td>\n",
       "      <td>NaN</td>\n",
       "      <td>NaN</td>\n",
       "      <td>NaN</td>\n",
       "      <td>NaN</td>\n",
       "      <td>NaN</td>\n",
       "      <td>NaN</td>\n",
       "      <td>NaN</td>\n",
       "      <td>NaN</td>\n",
       "      <td>...</td>\n",
       "      <td>NaN</td>\n",
       "      <td>NaN</td>\n",
       "      <td>NaN</td>\n",
       "      <td>NaN</td>\n",
       "      <td>NaN</td>\n",
       "      <td>NaN</td>\n",
       "      <td>NaN</td>\n",
       "      <td>NaN</td>\n",
       "      <td>NaN</td>\n",
       "      <td>1.0</td>\n",
       "    </tr>\n",
       "  </tbody>\n",
       "</table>\n",
       "<p>21 rows × 21 columns</p>\n",
       "</div>"
      ],
      "text/plain": [
       "                         total_area  living_area  kitchen_area  floor  height  \\\n",
       "total_area                 1.000000     0.977648           NaN    NaN     NaN   \n",
       "living_area                0.977648     1.000000           NaN    NaN     NaN   \n",
       "kitchen_area                    NaN          NaN           1.0    NaN     NaN   \n",
       "floor                           NaN          NaN           NaN    1.0     NaN   \n",
       "height                          NaN          NaN           NaN    NaN     1.0   \n",
       "bathrooms                       NaN          NaN           NaN    NaN     NaN   \n",
       "balconies                       NaN          NaN           NaN    NaN     NaN   \n",
       "year_of_construction            NaN          NaN           NaN    NaN     NaN   \n",
       "rooms                           NaN          NaN           NaN    NaN     NaN   \n",
       "metro_km                        NaN          NaN           NaN    NaN     NaN   \n",
       "number_of_floors                NaN          NaN           NaN    NaN     NaN   \n",
       "type_secondary                  NaN          NaN           NaN    NaN     NaN   \n",
       "view_view_courtyard             NaN          NaN           NaN    NaN     NaN   \n",
       "view_view_street                NaN          NaN           NaN    NaN     NaN   \n",
       "finishing_none                  NaN          NaN           NaN    NaN     NaN   \n",
       "finishing_rough                 NaN          NaN           NaN    NaN     NaN   \n",
       "layout_isolated                 NaN          NaN           NaN    NaN     NaN   \n",
       "layout_mixed                    NaN          NaN           NaN    NaN     NaN   \n",
       "renovation_euro                 NaN          NaN           NaN    NaN     NaN   \n",
       "renovation_none                 NaN          NaN           NaN    NaN     NaN   \n",
       "renovation_redecorating         NaN          NaN           NaN    NaN     NaN   \n",
       "\n",
       "                         bathrooms  balconies  year_of_construction  rooms  \\\n",
       "total_area                     NaN        NaN                   NaN    NaN   \n",
       "living_area                    NaN        NaN                   NaN    NaN   \n",
       "kitchen_area                   NaN        NaN                   NaN    NaN   \n",
       "floor                          NaN        NaN                   NaN    NaN   \n",
       "height                         NaN        NaN                   NaN    NaN   \n",
       "bathrooms                      1.0        NaN                   NaN    NaN   \n",
       "balconies                      NaN        1.0                   NaN    NaN   \n",
       "year_of_construction           NaN        NaN                   1.0    NaN   \n",
       "rooms                          NaN        NaN                   NaN    1.0   \n",
       "metro_km                       NaN        NaN                   NaN    NaN   \n",
       "number_of_floors               NaN        NaN                   NaN    NaN   \n",
       "type_secondary                 NaN        NaN                   NaN    NaN   \n",
       "view_view_courtyard            NaN        NaN                   NaN    NaN   \n",
       "view_view_street               NaN        NaN                   NaN    NaN   \n",
       "finishing_none                 NaN        NaN                   NaN    NaN   \n",
       "finishing_rough                NaN        NaN                   NaN    NaN   \n",
       "layout_isolated                NaN        NaN                   NaN    NaN   \n",
       "layout_mixed                   NaN        NaN                   NaN    NaN   \n",
       "renovation_euro                NaN        NaN                   NaN    NaN   \n",
       "renovation_none                NaN        NaN                   NaN    NaN   \n",
       "renovation_redecorating        NaN        NaN                   NaN    NaN   \n",
       "\n",
       "                         metro_km  ...  type_secondary  view_view_courtyard  \\\n",
       "total_area                    NaN  ...             NaN                  NaN   \n",
       "living_area                   NaN  ...             NaN                  NaN   \n",
       "kitchen_area                  NaN  ...             NaN                  NaN   \n",
       "floor                         NaN  ...             NaN                  NaN   \n",
       "height                        NaN  ...             NaN                  NaN   \n",
       "bathrooms                     NaN  ...             NaN                  NaN   \n",
       "balconies                     NaN  ...             NaN                  NaN   \n",
       "year_of_construction          NaN  ...             NaN                  NaN   \n",
       "rooms                         NaN  ...             NaN                  NaN   \n",
       "metro_km                      1.0  ...             NaN                  NaN   \n",
       "number_of_floors              NaN  ...             NaN                  NaN   \n",
       "type_secondary                NaN  ...             1.0                  NaN   \n",
       "view_view_courtyard           NaN  ...             NaN                  1.0   \n",
       "view_view_street              NaN  ...             NaN                  NaN   \n",
       "finishing_none                NaN  ...             NaN                  NaN   \n",
       "finishing_rough               NaN  ...             NaN                  NaN   \n",
       "layout_isolated               NaN  ...             NaN                  NaN   \n",
       "layout_mixed                  NaN  ...             NaN                  NaN   \n",
       "renovation_euro               NaN  ...             NaN                  NaN   \n",
       "renovation_none               NaN  ...             NaN                  NaN   \n",
       "renovation_redecorating       NaN  ...             NaN                  NaN   \n",
       "\n",
       "                         view_view_street  finishing_none  finishing_rough  \\\n",
       "total_area                            NaN             NaN              NaN   \n",
       "living_area                           NaN             NaN              NaN   \n",
       "kitchen_area                          NaN             NaN              NaN   \n",
       "floor                                 NaN             NaN              NaN   \n",
       "height                                NaN             NaN              NaN   \n",
       "bathrooms                             NaN             NaN              NaN   \n",
       "balconies                             NaN             NaN              NaN   \n",
       "year_of_construction                  NaN             NaN              NaN   \n",
       "rooms                                 NaN             NaN              NaN   \n",
       "metro_km                              NaN             NaN              NaN   \n",
       "number_of_floors                      NaN             NaN              NaN   \n",
       "type_secondary                        NaN             NaN              NaN   \n",
       "view_view_courtyard                   NaN             NaN              NaN   \n",
       "view_view_street                      1.0             NaN              NaN   \n",
       "finishing_none                        NaN             1.0              NaN   \n",
       "finishing_rough                       NaN             NaN              1.0   \n",
       "layout_isolated                       NaN             NaN              NaN   \n",
       "layout_mixed                          NaN             NaN              NaN   \n",
       "renovation_euro                       NaN             NaN              NaN   \n",
       "renovation_none                       NaN             NaN              NaN   \n",
       "renovation_redecorating               NaN             NaN              NaN   \n",
       "\n",
       "                         layout_isolated  layout_mixed  renovation_euro  \\\n",
       "total_area                           NaN           NaN              NaN   \n",
       "living_area                          NaN           NaN              NaN   \n",
       "kitchen_area                         NaN           NaN              NaN   \n",
       "floor                                NaN           NaN              NaN   \n",
       "height                               NaN           NaN              NaN   \n",
       "bathrooms                            NaN           NaN              NaN   \n",
       "balconies                            NaN           NaN              NaN   \n",
       "year_of_construction                 NaN           NaN              NaN   \n",
       "rooms                                NaN           NaN              NaN   \n",
       "metro_km                             NaN           NaN              NaN   \n",
       "number_of_floors                     NaN           NaN              NaN   \n",
       "type_secondary                       NaN           NaN              NaN   \n",
       "view_view_courtyard                  NaN           NaN              NaN   \n",
       "view_view_street                     NaN           NaN              NaN   \n",
       "finishing_none                       NaN           NaN              NaN   \n",
       "finishing_rough                      NaN           NaN              NaN   \n",
       "layout_isolated                      1.0           NaN              NaN   \n",
       "layout_mixed                         NaN           1.0              NaN   \n",
       "renovation_euro                      NaN           NaN              1.0   \n",
       "renovation_none                      NaN           NaN              NaN   \n",
       "renovation_redecorating              NaN           NaN              NaN   \n",
       "\n",
       "                         renovation_none  renovation_redecorating  \n",
       "total_area                           NaN                      NaN  \n",
       "living_area                          NaN                      NaN  \n",
       "kitchen_area                         NaN                      NaN  \n",
       "floor                                NaN                      NaN  \n",
       "height                               NaN                      NaN  \n",
       "bathrooms                            NaN                      NaN  \n",
       "balconies                            NaN                      NaN  \n",
       "year_of_construction                 NaN                      NaN  \n",
       "rooms                                NaN                      NaN  \n",
       "metro_km                             NaN                      NaN  \n",
       "number_of_floors                     NaN                      NaN  \n",
       "type_secondary                       NaN                      NaN  \n",
       "view_view_courtyard                  NaN                      NaN  \n",
       "view_view_street                     NaN                      NaN  \n",
       "finishing_none                       NaN                      NaN  \n",
       "finishing_rough                      NaN                      NaN  \n",
       "layout_isolated                      NaN                      NaN  \n",
       "layout_mixed                         NaN                      NaN  \n",
       "renovation_euro                      NaN                      NaN  \n",
       "renovation_none                      1.0                      NaN  \n",
       "renovation_redecorating              NaN                      1.0  \n",
       "\n",
       "[21 rows x 21 columns]"
      ]
     },
     "execution_count": 21,
     "metadata": {},
     "output_type": "execute_result"
    }
   ],
   "source": [
    "corr=flats_model.iloc[:,1:].corr()\n",
    "corr[corr.loc[:]>0.9]"
   ]
  },
  {
   "cell_type": "markdown",
   "metadata": {},
   "source": [
    "\"total_area\" and \"living_area\" have strong correlation. I think it is better to remove \"total_area\" because this feature has already been taken into account when I calculated \"price_meter\"."
   ]
  },
  {
   "cell_type": "code",
   "execution_count": 22,
   "metadata": {
    "pycharm": {
     "is_executing": true,
     "name": "#%%\n"
    }
   },
   "outputs": [],
   "source": [
    "flats_model.drop(['total_area'],axis='columns',inplace=True)"
   ]
  },
  {
   "cell_type": "markdown",
   "metadata": {},
   "source": [
    "Let's separate dependent and independent values. After that, I divided them into training and test sets. "
   ]
  },
  {
   "cell_type": "code",
   "execution_count": 31,
   "metadata": {},
   "outputs": [],
   "source": [
    "#separation flats_model on X (independent variables) and Y (dependent)\n",
    "Y=flats_model['price_meter']\n",
    "X=flats_model.drop(['price_meter'],axis=1)\n",
    "\n",
    "#split on test and train sets\n",
    "from sklearn.model_selection import train_test_split\n",
    "X_train, X_test, Y_train, Y_test = train_test_split(X, Y, test_size=0.3)"
   ]
  },
  {
   "cell_type": "markdown",
   "metadata": {},
   "source": [
    "I will build models using different kinds of regression Also, we should scaling data because of the big difference among features. I will use r2 in order to assess my models. "
   ]
  },
  {
   "cell_type": "code",
   "execution_count": 32,
   "metadata": {},
   "outputs": [
    {
     "name": "stdout",
     "output_type": "stream",
     "text": [
      "r2 for LinearRegression = 0.3326599274228468\n",
      "r2 for RandomForestRegressor = 0.4105536015096334\n",
      "r2 for RidgeCV = 0.33074580182994684\n",
      "r2 for Lasso = 0.33265217838473937\n"
     ]
    }
   ],
   "source": [
    "from sklearn.linear_model import LinearRegression\n",
    "from sklearn.ensemble import RandomForestRegressor\n",
    "from sklearn.linear_model import RidgeCV\n",
    "from sklearn.linear_model import Lasso\n",
    "from sklearn.preprocessing import StandardScaler\n",
    "\n",
    "#scaling\n",
    "scale=StandardScaler().fit(X_train)\n",
    "X_train_sc=scale.transform(X_train)\n",
    "X_test_sc=scale.transform(X_test)\n",
    "\n",
    "#array of methods\n",
    "models=[LinearRegression(),RandomForestRegressor(),RidgeCV(),Lasso()]\n",
    "for model in models:\n",
    "    #fir the model\n",
    "    model.fit(X_train_sc,Y_train)\n",
    "    #calculate R squarred\n",
    "    r2=model.score(X_test_sc,Y_test)\n",
    "    #print the result\n",
    "    m=str(model)\n",
    "    print('r2 for',m[:m.index('(')],'=',r2)"
   ]
  },
  {
   "cell_type": "markdown",
   "metadata": {},
   "source": [
    "As we see r2 is little. The best value is r2 for RandomForestRegressor. Let's try to improve the accuracy of models. The next step is changing the set of dependent variables. "
   ]
  },
  {
   "cell_type": "code",
   "execution_count": 33,
   "metadata": {},
   "outputs": [],
   "source": [
    "from sklearn.feature_selection import RFE\n",
    "\n",
    "#create dataframe for R squarred from different models \n",
    "r2=pd.DataFrame()\n",
    "j=-1\n",
    "#loop in the models\n",
    "for model in models:\n",
    "    j+=1\n",
    "    #write the name of model into r2 dataframe\n",
    "    m=str(model)\n",
    "    r2.loc[0,j]=m[:m.index('(')]\n",
    "    #loop from 20 (number of params) down to 1\n",
    "    for i in range(X_train.shape[1],0,-1):\n",
    "        #rank features\n",
    "        selector=RFE(model,n_features_to_select=i)\n",
    "        selector.fit(X_train_sc,Y_train)\n",
    "        #calculate and write R squarred\n",
    "        r2.loc[i,j]=selector.score(X_test_sc,Y_test)\n",
    "\n",
    "#rename the head of dataframe\n",
    "r2.rename(columns=r2.loc[0],inplace=True)\n",
    "r2=r2.drop(0,axis=0)\n",
    "#convert the dataframe into float\n",
    "r2=r2.astype(float)"
   ]
  },
  {
   "cell_type": "markdown",
   "metadata": {},
   "source": [
    "<h2>Results</h1>"
   ]
  },
  {
   "cell_type": "markdown",
   "metadata": {},
   "source": [
    "Let's check the results"
   ]
  },
  {
   "cell_type": "code",
   "execution_count": 34,
   "metadata": {},
   "outputs": [
    {
     "name": "stdout",
     "output_type": "stream",
     "text": [
      "The max R2 = 0.44598709842492235\n",
      "The best methods is RandomForestRegressor\n",
      "The number of params for the max R2 = 15\n"
     ]
    }
   ],
   "source": [
    "r2_max=r2.max().max()\n",
    "print('The max R2 =',r2_max)\n",
    "best_method=r2.max().idxmax()\n",
    "print('The best methods is',best_method)\n",
    "number_of_params=r2.idxmax()[best_method]\n",
    "print('The number of params for the max R2 =',number_of_params)"
   ]
  },
  {
   "cell_type": "markdown",
   "metadata": {},
   "source": [
    "Above we see the best R2 for the best method - Random Forest Regression. Below I check the parameters for the model."
   ]
  },
  {
   "cell_type": "code",
   "execution_count": 35,
   "metadata": {},
   "outputs": [
    {
     "name": "stdout",
     "output_type": "stream",
     "text": [
      "Selected params:\n",
      "living_area\n",
      "kitchen_area\n",
      "floor\n",
      "height\n",
      "bathrooms\n",
      "balconies\n",
      "year_of_construction\n",
      "rooms\n",
      "metro_km\n",
      "number_of_floors\n",
      "type_secondary\n",
      "view_view_courtyard\n",
      "renovation_euro\n",
      "renovation_none\n",
      "renovation_redecorating\n"
     ]
    }
   ],
   "source": [
    "selector=RFE(RandomForestRegressor(),n_features_to_select=number_of_params)\n",
    "selector.fit(X_train_sc,Y_train)\n",
    "best_params=selector.support_\n",
    "new_X=[]\n",
    "print('Selected params:')\n",
    "for param,x in zip(best_params,X):\n",
    "    if param:\n",
    "        new_X.append(x)\n",
    "        print(x)"
   ]
  },
  {
   "cell_type": "markdown",
   "metadata": {},
   "source": [
    "<h2>Conclusion</h2>"
   ]
  },
  {
   "cell_type": "markdown",
   "metadata": {},
   "source": [
    "Summarising all above\n",
    "- I cleaned and preprocessed the data. I replace missing data with the most frequent value. Also, I turned categorical variables into numerical using get_dummies.\n",
    "- I removed the variable \"Total_area\" because of the strong correlation (>0.9) with living_area. \n",
    "- I created regression models for predicting a price per meter for flats in Saint Petersburg using methods: Linear Regression, Random Forest Regression, RidgeCV, Lasso\n",
    "- The best method is Random Forest Regression. R2 for this is bigger than R2 for other methods\n",
    "- I tried to improve the models using RFE - recursive function for selection dependent variables. The best method is Random Forest Regression again. The accuracy (R2) of the model rose a little. Variables that impact the most are listed above.\n",
    "\n",
    "Thus, I could create a model which explains almost half of the dispersion of the price per meter of flats on St. Petersburg. "
   ]
  }
 ],
 "metadata": {
  "kernelspec": {
   "display_name": "Python 3",
   "language": "python",
   "name": "python3"
  },
  "language_info": {
   "codemirror_mode": {
    "name": "ipython",
    "version": 3
   },
   "file_extension": ".py",
   "mimetype": "text/x-python",
   "name": "python",
   "nbconvert_exporter": "python",
   "pygments_lexer": "ipython3",
   "version": "3.8.5"
  }
 },
 "nbformat": 4,
 "nbformat_minor": 1
}