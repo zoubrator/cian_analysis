{
 "cells": [
  {
   "cell_type": "markdown",
   "metadata": {
    "pycharm": {
     "name": "#%%\n"
    }
   },
   "source": [
    "import flats as flats\n",
    "<h1>Flat prices analysis in St. Petersburg</h1>"
   ]
  },
  {
   "cell_type": "markdown",
   "metadata": {},
   "source": [
    "<div style=\"background:#abd5f5; border:1px solid #b3deff; padding: 20px\">\n",
    "    <h2 style=\"color:#002b63\">Table of content</h2>\n",
    "<ul>\n",
    "    <li>Indroduction</li>\n",
    "    <li>Data Preprocessing</li>\n",
    "    <li>Visualization</li>\n",
    "    <li>Model building</li>\n",
    "    <li>Results</li>\n",
    "    <li>Conclusion</li>\n",
    "</ul>\n",
    "    </div>"
   ]
  },
  {
   "cell_type": "markdown",
   "metadata": {},
   "source": [
    "<h2>Indroduction</h2>"
   ]
  },
  {
   "cell_type": "markdown",
   "metadata": {},
   "source": [
    "This analysis focuses on flat prices in St. Petersburg."
   ]
  },
  {
   "cell_type": "markdown",
   "metadata": {},
   "source": [
    "<h2>Data Preprocessing</h2>"
   ]
  },
  {
   "cell_type": "markdown",
   "metadata": {},
   "source": [
    "I am going to use my own CSV file. I created it using data from https://spb.cian.ru/kupit-kvartiru/ This file contains a list of St. Petersburg flats for sale."
   ]
  },
  {
   "cell_type": "code",
   "execution_count": 1,
   "metadata": {
    "pycharm": {
     "name": "#%%\n"
    }
   },
   "outputs": [],
   "source": [
    "import pandas as pd\n",
    "import numpy as np\n",
    "import re #regexp\n",
    "from ipywidgets import IntProgress #for progress bar\n",
    "from IPython.display import display"
   ]
  },
  {
   "cell_type": "code",
   "execution_count": 2,
   "metadata": {},
   "outputs": [
    {
     "data": {
      "text/html": [
       "<div>\n",
       "<style scoped>\n",
       "    .dataframe tbody tr th:only-of-type {\n",
       "        vertical-align: middle;\n",
       "    }\n",
       "\n",
       "    .dataframe tbody tr th {\n",
       "        vertical-align: top;\n",
       "    }\n",
       "\n",
       "    .dataframe thead th {\n",
       "        text-align: right;\n",
       "    }\n",
       "</style>\n",
       "<table border=\"1\" class=\"dataframe\">\n",
       "  <thead>\n",
       "    <tr style=\"text-align: right;\">\n",
       "      <th></th>\n",
       "      <th>link</th>\n",
       "      <th>price</th>\n",
       "      <th>total_area</th>\n",
       "      <th>living_area</th>\n",
       "      <th>kitchen_area</th>\n",
       "      <th>floor</th>\n",
       "      <th>type</th>\n",
       "      <th>height</th>\n",
       "      <th>bathrooms</th>\n",
       "      <th>balconies</th>\n",
       "      <th>...</th>\n",
       "      <th>renovation</th>\n",
       "      <th>view</th>\n",
       "      <th>rooms</th>\n",
       "      <th>city</th>\n",
       "      <th>area</th>\n",
       "      <th>neighborhood</th>\n",
       "      <th>street</th>\n",
       "      <th>metro_name</th>\n",
       "      <th>metro_km</th>\n",
       "      <th>number_of_floors</th>\n",
       "    </tr>\n",
       "  </thead>\n",
       "  <tbody>\n",
       "    <tr>\n",
       "      <th>0</th>\n",
       "      <td>https://spb.cian.ru/sale/flat/234775065/</td>\n",
       "      <td>13143249.0</td>\n",
       "      <td>74.13</td>\n",
       "      <td>26.3</td>\n",
       "      <td>22.0</td>\n",
       "      <td>3</td>\n",
       "      <td>Новостройка</td>\n",
       "      <td>3.3</td>\n",
       "      <td>2.0</td>\n",
       "      <td>1.0</td>\n",
       "      <td>...</td>\n",
       "      <td>NaN</td>\n",
       "      <td>NaN</td>\n",
       "      <td>2</td>\n",
       "      <td>Санкт-Петербург</td>\n",
       "      <td>р-н Приморский</td>\n",
       "      <td>Юнтолово</td>\n",
       "      <td>Планерная ул., 94</td>\n",
       "      <td>Комендантский проспект</td>\n",
       "      <td>1.98</td>\n",
       "      <td>12</td>\n",
       "    </tr>\n",
       "    <tr>\n",
       "      <th>1</th>\n",
       "      <td>https://spb.cian.ru/sale/flat/239273301/</td>\n",
       "      <td>12430600.0</td>\n",
       "      <td>47.81</td>\n",
       "      <td>NaN</td>\n",
       "      <td>NaN</td>\n",
       "      <td>2</td>\n",
       "      <td>Новостройка</td>\n",
       "      <td>NaN</td>\n",
       "      <td>0.0</td>\n",
       "      <td>0.0</td>\n",
       "      <td>...</td>\n",
       "      <td>NaN</td>\n",
       "      <td>NaN</td>\n",
       "      <td>1</td>\n",
       "      <td>Санкт-Петербург</td>\n",
       "      <td>р-н Петроградский</td>\n",
       "      <td>Посадский</td>\n",
       "      <td>ул. Рентгена, 25</td>\n",
       "      <td>Петроградская</td>\n",
       "      <td>1.04</td>\n",
       "      <td>8</td>\n",
       "    </tr>\n",
       "    <tr>\n",
       "      <th>2</th>\n",
       "      <td>https://spb.cian.ru/sale/flat/250966190/</td>\n",
       "      <td>13800000.0</td>\n",
       "      <td>44.10</td>\n",
       "      <td>14.1</td>\n",
       "      <td>19.4</td>\n",
       "      <td>2</td>\n",
       "      <td>Новостройка</td>\n",
       "      <td>NaN</td>\n",
       "      <td>0.0</td>\n",
       "      <td>0.0</td>\n",
       "      <td>...</td>\n",
       "      <td>NaN</td>\n",
       "      <td>NaN</td>\n",
       "      <td>1</td>\n",
       "      <td>Санкт-Петербург</td>\n",
       "      <td>р-н Курортный</td>\n",
       "      <td>мкр. Сестрорецк</td>\n",
       "      <td>ул. Максима Горького, 2Ас2</td>\n",
       "      <td>Беговая</td>\n",
       "      <td>9.57</td>\n",
       "      <td>5</td>\n",
       "    </tr>\n",
       "    <tr>\n",
       "      <th>3</th>\n",
       "      <td>https://spb.cian.ru/sale/flat/249950664/</td>\n",
       "      <td>8730851.0</td>\n",
       "      <td>56.29</td>\n",
       "      <td>29.3</td>\n",
       "      <td>10.9</td>\n",
       "      <td>5</td>\n",
       "      <td>Новостройка</td>\n",
       "      <td>NaN</td>\n",
       "      <td>2.0</td>\n",
       "      <td>2.0</td>\n",
       "      <td>...</td>\n",
       "      <td>NaN</td>\n",
       "      <td>NaN</td>\n",
       "      <td>2</td>\n",
       "      <td>Санкт-Петербург</td>\n",
       "      <td>р-н Приморский</td>\n",
       "      <td>Юнтолово</td>\n",
       "      <td>Нью Тайм жилой комплекс</td>\n",
       "      <td>Комендантский проспект</td>\n",
       "      <td>1.98</td>\n",
       "      <td>13</td>\n",
       "    </tr>\n",
       "    <tr>\n",
       "      <th>4</th>\n",
       "      <td>https://spb.cian.ru/sale/flat/250766812/</td>\n",
       "      <td>13650000.0</td>\n",
       "      <td>70.80</td>\n",
       "      <td>NaN</td>\n",
       "      <td>10.0</td>\n",
       "      <td>13</td>\n",
       "      <td>Вторичка</td>\n",
       "      <td>2.8</td>\n",
       "      <td>1.0</td>\n",
       "      <td>1.0</td>\n",
       "      <td>...</td>\n",
       "      <td>Евроремонт</td>\n",
       "      <td>На улицу и двор</td>\n",
       "      <td>2</td>\n",
       "      <td>Санкт-Петербург</td>\n",
       "      <td>р-н Приморский</td>\n",
       "      <td>Комендантский аэродром</td>\n",
       "      <td>аллея Поликарпова, 6к1</td>\n",
       "      <td>Пионерская</td>\n",
       "      <td>1.04</td>\n",
       "      <td>19</td>\n",
       "    </tr>\n",
       "  </tbody>\n",
       "</table>\n",
       "<p>5 rows × 23 columns</p>\n",
       "</div>"
      ],
      "text/plain": [
       "                                       link       price  total_area  \\\n",
       "0  https://spb.cian.ru/sale/flat/234775065/  13143249.0       74.13   \n",
       "1  https://spb.cian.ru/sale/flat/239273301/  12430600.0       47.81   \n",
       "2  https://spb.cian.ru/sale/flat/250966190/  13800000.0       44.10   \n",
       "3  https://spb.cian.ru/sale/flat/249950664/   8730851.0       56.29   \n",
       "4  https://spb.cian.ru/sale/flat/250766812/  13650000.0       70.80   \n",
       "\n",
       "   living_area  kitchen_area  floor         type  height  bathrooms  \\\n",
       "0         26.3          22.0      3  Новостройка     3.3        2.0   \n",
       "1          NaN           NaN      2  Новостройка     NaN        0.0   \n",
       "2         14.1          19.4      2  Новостройка     NaN        0.0   \n",
       "3         29.3          10.9      5  Новостройка     NaN        2.0   \n",
       "4          NaN          10.0     13     Вторичка     2.8        1.0   \n",
       "\n",
       "   balconies  ...  renovation             view rooms             city  \\\n",
       "0        1.0  ...         NaN              NaN     2  Санкт-Петербург   \n",
       "1        0.0  ...         NaN              NaN     1  Санкт-Петербург   \n",
       "2        0.0  ...         NaN              NaN     1  Санкт-Петербург   \n",
       "3        2.0  ...         NaN              NaN     2  Санкт-Петербург   \n",
       "4        1.0  ...  Евроремонт  На улицу и двор     2  Санкт-Петербург   \n",
       "\n",
       "                 area             neighborhood                       street  \\\n",
       "0      р-н Приморский                 Юнтолово            Планерная ул., 94   \n",
       "1   р-н Петроградский                Посадский             ул. Рентгена, 25   \n",
       "2       р-н Курортный          мкр. Сестрорецк   ул. Максима Горького, 2Ас2   \n",
       "3      р-н Приморский                 Юнтолово      Нью Тайм жилой комплекс   \n",
       "4      р-н Приморский   Комендантский аэродром       аллея Поликарпова, 6к1   \n",
       "\n",
       "                metro_name metro_km number_of_floors  \n",
       "0  Комендантский проспект      1.98               12  \n",
       "1           Петроградская      1.04                8  \n",
       "2                 Беговая      9.57                5  \n",
       "3  Комендантский проспект      1.98               13  \n",
       "4              Пионерская      1.04               19  \n",
       "\n",
       "[5 rows x 23 columns]"
      ]
     },
     "execution_count": 2,
     "metadata": {},
     "output_type": "execute_result"
    }
   ],
   "source": [
    "flats=pd.read_csv('data/flats_all.csv',sep=';')\n",
    "flats.head()"
   ]
  },
  {
   "cell_type": "markdown",
   "metadata": {},
   "source": [
    "Next, I will describe structure of dataframe."
   ]
  },
  {
   "cell_type": "markdown",
   "metadata": {},
   "source": [
    "<table>\n",
    "    <tr>\n",
    "        <th>N</th>\n",
    "        <th>Name</th>\n",
    "        <th>Description</th>\n",
    "    </tr>\n",
    "    <tr>\n",
    "        <td>1</td>\n",
    "        <td>link</td>\n",
    "        <td>Link to the page with the flat on cian.ru</td>\n",
    "    </tr>\n",
    "    <tr>\n",
    "        <td>2</td>       \n",
    "        <td>price</td>\n",
    "        <td>Flat price</td>\n",
    "    </tr>\n",
    "    <tr>\n",
    "        <td>3</td>\n",
    "        <td>total_area</td>\n",
    "        <td>The total area of the flat in square meters</td>\n",
    "    </tr>\n",
    "    <tr>\n",
    "        <td>4</td>        \n",
    "        <td>living_area</td>\n",
    "        <td>All bedrooms area plus living room in square meters</td>\n",
    "    </tr>\n",
    "    <tr>\n",
    "        <td>5</td>\n",
    "        <td>kitchen_area</td>\n",
    "        <td>Kitchen area in square meters</td>\n",
    "    </tr>\n",
    "    <tr>\n",
    "        <td>6</td>\n",
    "        <td>floor</td>\n",
    "        <td>Floor number where the flat is located</td>\n",
    "    </tr>\n",
    "    <tr>\n",
    "        <td>7</td>\n",
    "        <td>type</td>\n",
    "        <td>Building type: new (still under construction) or old</td>\n",
    "    </tr>\n",
    "    <tr>\n",
    "        <td>8</td>\n",
    "        <td>height</td>\n",
    "        <td>Ceiling height</td>\n",
    "    </tr>    \n",
    "    <tr>\n",
    "        <td>9</td>\n",
    "        <td>bathrooms</td>\n",
    "        <td>Number of bathrooms</td>\n",
    "    </tr>\n",
    "    <tr>\n",
    "        <td>10</td>\n",
    "        <td>balconies</td>\n",
    "        <td>Number of balconies</td>\n",
    "    </tr>\n",
    "    <tr>\n",
    "        <td>11</td>\n",
    "        <td>finishing</td>\n",
    "        <td>Finishing type of new flats: renovated and without</td>\n",
    "    </tr>    \n",
    "    <tr>\n",
    "        <td>12</td>\n",
    "        <td>year_of_construction</td>\n",
    "        <td>Year when the building was or will be built</td>\n",
    "    </tr>    \n",
    "    <tr>\n",
    "        <td>13</td>\n",
    "        <td>layout</td>\n",
    "        <td>The layout determines how the entrance to the rooms is located: through another room or through a corridor</td>\n",
    "    </tr>    \n",
    "    <tr>\n",
    "        <td>14</td>\n",
    "        <td>renovation</td>\n",
    "        <td>Type of renovation</td>\n",
    "    </tr>    \n",
    "    <tr>\n",
    "        <td>15</td>\n",
    "        <td>view</td>\n",
    "        <td>View from windows</td>\n",
    "    </tr> \n",
    "    <tr>\n",
    "        <td>16</td>\n",
    "        <td>rooms</td>\n",
    "        <td>Number of rooms</td>\n",
    "    </tr>     \n",
    "    <tr>\n",
    "        <td>17</td>\n",
    "        <td>city</td>\n",
    "        <td>City name</td>\n",
    "    </tr>     \n",
    "    <tr>\n",
    "        <td>18</td>\n",
    "        <td>area</td>\n",
    "        <td>Area name</td>\n",
    "    </tr>     \n",
    "    <tr>\n",
    "        <td>19</td>\n",
    "        <td>neighborhood</td>\n",
    "        <td>Neighborhood name</td>\n",
    "    </tr> \n",
    "    <tr>\n",
    "        <td>20</td>\n",
    "        <td>street</td>\n",
    "        <td>Street name</td>\n",
    "    </tr>     \n",
    "    <tr>\n",
    "        <td>21</td>\n",
    "        <td>metro_name</td>\n",
    "        <td>The closest metro station</td>\n",
    "    </tr>     \n",
    "    <tr>\n",
    "        <td>22</td>\n",
    "        <td>metro_km</td>\n",
    "        <td>Distance to the closest metro station in km</td>\n",
    "    </tr>     \n",
    "    <tr>\n",
    "        <td>23</td>\n",
    "        <td>number_of_floors</td>\n",
    "        <td>Number of floors in the buildings</td>\n",
    "    </tr>\n",
    "</table>"
   ]
  },
  {
   "cell_type": "markdown",
   "metadata": {},
   "source": [
    "First, I count the price for a square meter."
   ]
  },
  {
   "cell_type": "code",
   "execution_count": 22,
   "metadata": {},
   "outputs": [],
   "source": [
    "flats['price_meter']=flats['price']/flats['total_area']"
   ]
  },
  {
   "cell_type": "markdown",
   "metadata": {},
   "source": [
    "Let's check values in the column 'rooms'."
   ]
  },
  {
   "cell_type": "code",
   "execution_count": 4,
   "metadata": {},
   "outputs": [
    {
     "data": {
      "text/plain": [
       "2                 353\n",
       "3                 333\n",
       "1                 309\n",
       "Студия            169\n",
       "4                 122\n",
       "5                  52\n",
       "Многокомнатная     39\n",
       "Апартаменты        31\n",
       "Квартира            6\n",
       "Name: rooms, dtype: int64"
      ]
     },
     "execution_count": 4,
     "metadata": {},
     "output_type": "execute_result"
    }
   ],
   "source": [
    "flats['rooms'].value_counts()"
   ]
  },
  {
   "cell_type": "markdown",
   "metadata": {},
   "source": [
    "Next, I replace 'Студия' with 0.5 and 'Многокомнатная' with 6. Values 'Апартаменты', 'Квартира' don't contain information about the number of rooms so I replace them with the most frequent value. Also, I convert the column into the float format."
   ]
  },
  {
   "cell_type": "code",
   "execution_count": 5,
   "metadata": {
    "pycharm": {
     "is_executing": true
    }
   },
   "outputs": [
    {
     "data": {
      "text/html": [
       "<div>\n",
       "<style scoped>\n",
       "    .dataframe tbody tr th:only-of-type {\n",
       "        vertical-align: middle;\n",
       "    }\n",
       "\n",
       "    .dataframe tbody tr th {\n",
       "        vertical-align: top;\n",
       "    }\n",
       "\n",
       "    .dataframe thead th {\n",
       "        text-align: right;\n",
       "    }\n",
       "</style>\n",
       "<table border=\"1\" class=\"dataframe\">\n",
       "  <thead>\n",
       "    <tr style=\"text-align: right;\">\n",
       "      <th></th>\n",
       "      <th>rooms</th>\n",
       "    </tr>\n",
       "  </thead>\n",
       "  <tbody>\n",
       "    <tr>\n",
       "      <th>0</th>\n",
       "      <td>2.0</td>\n",
       "    </tr>\n",
       "    <tr>\n",
       "      <th>1</th>\n",
       "      <td>1.0</td>\n",
       "    </tr>\n",
       "    <tr>\n",
       "      <th>2</th>\n",
       "      <td>1.0</td>\n",
       "    </tr>\n",
       "    <tr>\n",
       "      <th>3</th>\n",
       "      <td>2.0</td>\n",
       "    </tr>\n",
       "    <tr>\n",
       "      <th>4</th>\n",
       "      <td>2.0</td>\n",
       "    </tr>\n",
       "  </tbody>\n",
       "</table>\n",
       "</div>"
      ],
      "text/plain": [
       "   rooms\n",
       "0    2.0\n",
       "1    1.0\n",
       "2    1.0\n",
       "3    2.0\n",
       "4    2.0"
      ]
     },
     "execution_count": 5,
     "metadata": {},
     "output_type": "execute_result"
    }
   ],
   "source": [
    "flats['rooms']=flats['rooms'].replace(['Студия','Многокомнатная','Многокомнатные'],['0.5',6,6])\n",
    "flats['rooms']=flats['rooms'].replace(['Апартаменты','Квартира'],flats['rooms'].value_counts().idxmax())\n",
    "flats['rooms']=flats['rooms'].astype(float)\n",
    "flats[['rooms']].head()"
   ]
  },
  {
   "cell_type": "markdown",
   "metadata": {},
   "source": [
    "Next, I will translate all categorical values into English."
   ]
  },
  {
   "cell_type": "code",
   "execution_count": 6,
   "metadata": {
    "pycharm": {
     "is_executing": true
    }
   },
   "outputs": [],
   "source": [
    "flats['type']=flats['type'].replace(['Вторичка','Новостройка'],['secondary','new'])\n",
    "flats['view']=flats['view'].replace(['На улицу и двор','Во двор','На улицу'],['both','view_courtyard','view_street'])\n",
    "flats['finishing']=flats['finishing'].replace(['Чистовая','Нет','Черновая'],['fine','none','rough'])\n",
    "flats['layout']=flats['layout'].replace(['Изолированная','Смежно-изолированная','Смежная'],['isolated','mixed','adjoining'])\n",
    "flats['renovation']=flats['renovation'].replace(['Евроремонт','Без ремонта','Косметический','Дизайнерский'],\n",
    "                                                ['euro','none','redecorating','designer'])"
   ]
  },
  {
   "cell_type": "markdown",
   "metadata": {},
   "source": [
    "The next step is finding and removing missing data. Firstly, let's identify NaNs and zeros."
   ]
  },
  {
   "cell_type": "code",
   "execution_count": 7,
   "metadata": {
    "pycharm": {
     "is_executing": true,
     "name": "#%%\n"
    }
   },
   "outputs": [
    {
     "data": {
      "text/plain": [
       "link                       0\n",
       "price                      0\n",
       "total_area                 0\n",
       "living_area              159\n",
       "kitchen_area             261\n",
       "floor                      0\n",
       "type                       0\n",
       "height                   685\n",
       "bathrooms                  0\n",
       "balconies                  0\n",
       "finishing               1187\n",
       "year_of_construction     203\n",
       "layout                   898\n",
       "renovation               462\n",
       "view                     560\n",
       "rooms                      0\n",
       "city                       0\n",
       "area                       0\n",
       "neighborhood              13\n",
       "street                    13\n",
       "metro_name               135\n",
       "metro_km                   0\n",
       "number_of_floors           0\n",
       "dtype: int64"
      ]
     },
     "execution_count": 7,
     "metadata": {},
     "output_type": "execute_result"
    }
   ],
   "source": [
    "pd.isna(flats).sum()"
   ]
  },
  {
   "cell_type": "markdown",
   "metadata": {},
   "source": [
    "Now I will find out the proportion between living_area, kitchen_area, total_area and replace missing data with the most common proportion."
   ]
  },
  {
   "cell_type": "code",
   "execution_count": 8,
   "metadata": {
    "pycharm": {
     "is_executing": true,
     "name": "#%%\n"
    }
   },
   "outputs": [],
   "source": [
    "flats['living_part']=flats['living_area']/flats['total_area']\n",
    "flats['kitchen_part']=flats['kitchen_area']/flats['total_area']\n",
    "flats['living_area']=flats['living_area'].combine_first(flats['total_area']*flats['living_part'].mean())\n",
    "flats['kitchen_area']=flats['kitchen_area'].combine_first(flats['total_area']*flats['kitchen_part'].mean())\n",
    "flats.drop(['living_part','kitchen_part'],axis='columns',inplace=True)"
   ]
  },
  {
   "cell_type": "markdown",
   "metadata": {},
   "source": [
    "I replace missing data in columns 'view', 'finishing', 'layout', 'renovation','year_of_construction' with the most popular value."
   ]
  },
  {
   "cell_type": "code",
   "execution_count": 9,
   "metadata": {
    "pycharm": {
     "is_executing": true,
     "name": "#%%\n"
    }
   },
   "outputs": [],
   "source": [
    "flats['view']=flats['view'].replace(np.nan,flats['view'].value_counts().idxmax())\n",
    "flats['finishing']=flats['finishing'].replace(np.nan,flats['finishing'].value_counts().idxmax())\n",
    "flats['layout']=flats['layout'].replace(np.nan,flats['layout'].value_counts().idxmax())\n",
    "flats['renovation']=flats['renovation'].replace(np.nan,flats['renovation'].value_counts().idxmax())\n",
    "flats['year_of_construction']=flats['year_of_construction'].replace(np.nan,flats['year_of_construction'].value_counts().idxmax())"
   ]
  },
  {
   "cell_type": "markdown",
   "metadata": {},
   "source": [
    "I replace the height with the mean value. "
   ]
  },
  {
   "cell_type": "code",
   "execution_count": 10,
   "metadata": {
    "pycharm": {
     "is_executing": true,
     "name": "#%%\n"
    }
   },
   "outputs": [],
   "source": [
    "flats['height']=flats['height'].replace(np.nan,flats['height'].mean())"
   ]
  },
  {
   "cell_type": "markdown",
   "metadata": {},
   "source": [
    "Finally, I drop lines with missing values in 'street'"
   ]
  },
  {
   "cell_type": "code",
   "execution_count": 18,
   "metadata": {},
   "outputs": [],
   "source": [
    "flats.drop(flats[flats['street'].isna()].index,axis='rows',inplace=True)"
   ]
  },
  {
   "cell_type": "markdown",
   "metadata": {},
   "source": [
    "<h2>Visualization</h2>"
   ]
  },
  {
   "cell_type": "code",
   "execution_count": null,
   "metadata": {
    "pycharm": {
     "is_executing": true,
     "name": "#%%\n"
    }
   },
   "outputs": [],
   "source": [
    "import googlemaps\n",
    "f=open('keys/api_google_maps_key')\n",
    "mykey=f.read()\n",
    "f.close()\n",
    "gmaps = googlemaps.Client(key=mykey)"
   ]
  },
  {
   "cell_type": "code",
   "execution_count": null,
   "metadata": {
    "pycharm": {
     "is_executing": true,
     "name": "#%%\n"
    }
   },
   "outputs": [],
   "source": [
    "flats['lat']=0.0\n",
    "flats['lng']=0.0\n",
    "\n",
    "progress = IntProgress(min=0, max=len(flats), value=0) #progress bar\n",
    "display(progress)\n",
    "\n",
    "for i in range(len(flats)):\n",
    "    geocode_result = gmaps.geocode(flats.loc[i,'city']+', '+flats.loc[i,'street'])\n",
    "    flats.loc[i,'lat']=geocode_result[0]['geometry']['location']['lat']\n",
    "    flats.loc[i,'lng']=geocode_result[0]['geometry']['location']['lng']\n",
    "    progress.value = i"
   ]
  },
  {
   "cell_type": "code",
   "execution_count": null,
   "metadata": {
    "pycharm": {
     "is_executing": true,
     "name": "#%%\n"
    }
   },
   "outputs": [],
   "source": [
    "flats.to_csv('flats_cian_1.csv',sep=';',index=False)"
   ]
  },
  {
   "cell_type": "code",
   "execution_count": null,
   "metadata": {
    "pycharm": {
     "is_executing": true,
     "name": "#%%\n"
    }
   },
   "outputs": [],
   "source": [
    "flats=pd.read_csv('flats_cian_1.csv',sep=';')"
   ]
  },
  {
   "cell_type": "markdown",
   "metadata": {},
   "source": [
    "Next I create a map"
   ]
  },
  {
   "cell_type": "code",
   "execution_count": null,
   "metadata": {
    "pycharm": {
     "is_executing": true,
     "name": "#%%\n"
    }
   },
   "outputs": [],
   "source": [
    "import folium\n",
    "map_piter = folium.Map(location=[59.9810199, 30.3540484], zoom_start=9)\n",
    "\n",
    "# add markers to map\n",
    "for lat, lng, price, name in zip(flats['lat'],flats['lng'],flats['price'],flats['link']):\n",
    "    label = '{}'.format(round(price))\n",
    "    label = folium.Popup(label, parse_html=True)\n",
    "    if price<5000000:\n",
    "        clr='#00ffff'\n",
    "    elif price<10000000:\n",
    "        clr='#91e2da'\n",
    "    elif price<15000000:\n",
    "        clr='#d9a694'\n",
    "    elif price<20000000:\n",
    "        clr='#eb8473'\n",
    "    elif price<25000000:\n",
    "        clr='#f75b53'\n",
    "    else:\n",
    "        clr='#ff0035'\n",
    "    folium.CircleMarker(\n",
    "        [lat, lng],\n",
    "        radius=5,\n",
    "        popup=label,\n",
    "        color=clr,\n",
    "        fill=True,\n",
    "        fill_color=clr,\n",
    "        fill_opacity=0.8,\n",
    "        parse_html=False).add_to(map_piter)\n",
    "    \n",
    "map_piter"
   ]
  },
  {
   "cell_type": "markdown",
   "metadata": {},
   "source": [
    "<h1>Model building</h1>"
   ]
  },
  {
   "cell_type": "markdown",
   "metadata": {},
   "source": [
    "Here I'm going to build the predictive model. Price is dependent value. Other features are independent ones. "
   ]
  },
  {
   "cell_type": "markdown",
   "metadata": {},
   "source": [
    "Firstly, I need to prepare the dataframe. I create a copy of 'flats' and delete unnecessary fielda"
   ]
  },
  {
   "cell_type": "code",
   "execution_count": null,
   "metadata": {
    "pycharm": {
     "is_executing": true,
     "name": "#%%\n"
    }
   },
   "outputs": [],
   "source": [
    "flats_model=flats.copy()\n",
    "flats_model.drop(['link','city','neighborhood','street','lat','lng','type','view','finishing','layout',\n",
    "                  'renovation','area','metro_name'],axis='columns',inplace=True)"
   ]
  },
  {
   "cell_type": "markdown",
   "metadata": {},
   "source": [
    "Next I need to turn all categorical values into numerical. I use 'get_dummies' function from pandas."
   ]
  },
  {
   "cell_type": "code",
   "execution_count": null,
   "metadata": {
    "pycharm": {
     "is_executing": true,
     "name": "#%%\n"
    }
   },
   "outputs": [],
   "source": [
    "cat_df=flats[['type','view','finishing','layout','renovation']]\n",
    "cat_df=pd.get_dummies(data=cat_df,drop_first=True)\n",
    "\n",
    "#area_df=pd.get_dummies(flats_model['area'])\n",
    "#metro_name_df=pd.get_dummies(flats_model['metro_name'])\n",
    "\n",
    "#Join all the dataframes in one\n",
    "flats_model=pd.concat([flats_model,cat_df],axis=1)\n",
    "\n",
    "# Check the result\n",
    "flats_model.head()"
   ]
  },
  {
   "cell_type": "markdown",
   "metadata": {},
   "source": [
    "Next step is searching correlation among all features."
   ]
  },
  {
   "cell_type": "code",
   "execution_count": null,
   "metadata": {
    "pycharm": {
     "is_executing": true,
     "name": "#%%\n"
    }
   },
   "outputs": [],
   "source": [
    "import seaborn as sns\n",
    "import matplotlib.pyplot as plt\n",
    "\n",
    "corr=flats_model.corr()\n",
    "fig, ax = plt.subplots(figsize=(15,10))\n",
    "\n",
    "heatmap=sns.heatmap(corr,center=0,ax=ax)"
   ]
  },
  {
   "cell_type": "code",
   "execution_count": null,
   "metadata": {
    "pycharm": {
     "is_executing": true,
     "name": "#%%\n"
    }
   },
   "outputs": [],
   "source": [
    "corr[(corr['price']<-0.2)|(corr['price']>0.2)]['price']"
   ]
  },
  {
   "cell_type": "code",
   "execution_count": null,
   "metadata": {
    "pycharm": {
     "is_executing": true,
     "name": "#%%\n"
    }
   },
   "outputs": [],
   "source": [
    "drop_columns=corr[(corr['price']>=-0.2)&(corr['price']<=0.2)].index\n",
    "flats_model.drop(drop_columns,axis='columns',inplace=True)"
   ]
  },
  {
   "cell_type": "code",
   "execution_count": null,
   "metadata": {
    "pycharm": {
     "is_executing": true,
     "name": "#%%\n"
    }
   },
   "outputs": [],
   "source": [
    "corr=flats_model.iloc[:,1:].corr()\n",
    "corr[corr.iloc[:]>0.7]"
   ]
  },
  {
   "cell_type": "code",
   "execution_count": null,
   "metadata": {
    "pycharm": {
     "is_executing": true,
     "name": "#%%\n"
    }
   },
   "outputs": [],
   "source": [
    "flats_model.drop(['living_area'],axis='columns',inplace=True)"
   ]
  },
  {
   "cell_type": "code",
   "execution_count": null,
   "metadata": {
    "pycharm": {
     "is_executing": true,
     "name": "#%%\n"
    }
   },
   "outputs": [],
   "source": [
    "flats_model.head()"
   ]
  },
  {
   "cell_type": "code",
   "execution_count": null,
   "metadata": {
    "pycharm": {
     "is_executing": true,
     "name": "#%%\n"
    }
   },
   "outputs": [],
   "source": [
    "flats_model.corr()"
   ]
  },
  {
   "cell_type": "code",
   "execution_count": null,
   "metadata": {
    "pycharm": {
     "is_executing": true,
     "name": "#%%\n"
    }
   },
   "outputs": [],
   "source": [
    "#Построить модели для r=0.1 и для всех параметров\n",
    "#Построить модели для цены за квадратный метр\n",
    "#Разделить файла на вебскрапинг и анализ"
   ]
  }
 ],
 "metadata": {
  "kernelspec": {
   "display_name": "Python 3",
   "language": "python",
   "name": "python3"
  },
  "language_info": {
   "codemirror_mode": {
    "name": "ipython",
    "version": 3
   },
   "file_extension": ".py",
   "mimetype": "text/x-python",
   "name": "python",
   "nbconvert_exporter": "python",
   "pygments_lexer": "ipython3",
   "version": "3.8.5"
  }
 },
 "nbformat": 4,
 "nbformat_minor": 1
}