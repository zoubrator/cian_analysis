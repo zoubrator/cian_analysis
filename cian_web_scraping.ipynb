{
 "cells": [
  {
   "cell_type": "markdown",
   "metadata": {
    "pycharm": {
     "name": "#%%\n"
    }
   },
   "source": [
    "<h1>Flat prices analysis in St. Petersburg</h1>"
   ]
  },
  {
   "cell_type": "markdown",
   "metadata": {},
   "source": [
    "<div style=\"background:#abd5f5; border:1px solid #b3deff; padding: 20px\">\n",
    "    <h2 style=\"color:#002b63\">Table of content</h2>\n",
    "<ul>\n",
    "    <li>Indroduction</li>\n",
    "    <li>Data 1: web scraping</li>\n",
    "    <li>Data 2: data cleaning</li>\n",
    "</ul>\n",
    "    </div>"
   ]
  },
  {
   "cell_type": "markdown",
   "metadata": {},
   "source": [
    "<h2>Indroduction</h2>"
   ]
  },
  {
   "cell_type": "markdown",
   "metadata": {},
   "source": [
    "This notebook introduces web scraping work. I will parse data from https://spb.cian.ru/. At the exit, I will have a CSV file with a list of flats saling in St. Petersburg. The file will contain a link to the page of the apartment, price, area, number of rooms, and other parameters from the site. This file can be used for the analysis of the flat market and to predict prices."
   ]
  },
  {
   "cell_type": "markdown",
   "metadata": {},
   "source": [
    "<h2>Data 1: web scraping</h2>"
   ]
  },
  {
   "cell_type": "markdown",
   "metadata": {},
   "source": [
    "Firstly, I import libraries"
   ]
  },
  {
   "cell_type": "code",
   "execution_count": 1,
   "metadata": {
    "pycharm": {
     "name": "#%%\n"
    }
   },
   "outputs": [],
   "source": [
    "import requests\n",
    "from bs4 import BeautifulSoup # for web scraping\n",
    "import pandas as pd\n",
    "import numpy as np\n",
    "import re #regexp\n",
    "from ipywidgets import IntProgress #for progress bar\n",
    "from IPython.display import display"
   ]
  },
  {
   "cell_type": "markdown",
   "metadata": {},
   "source": [
    "Let's get HTML code from the page https://spb.cian.ru/kupit-kvartiru/. It is the start page with a flat list. "
   ]
  },
  {
   "cell_type": "code",
   "execution_count": 2,
   "metadata": {
    "pycharm": {
     "name": "#%%\n"
    }
   },
   "outputs": [],
   "source": [
    "req = requests.get('https://spb.cian.ru/kupit-kvartiru/')\n",
    "soup = BeautifulSoup(req.text, \"lxml\")"
   ]
  },
  {
   "cell_type": "markdown",
   "metadata": {},
   "source": [
    "Let's get all links on apartments from the page. Links start with \"https://spb.cian.ru/sale/flat/\"."
   ]
  },
  {
   "cell_type": "code",
   "execution_count": 3,
   "metadata": {
    "pycharm": {
     "name": "#%%\n"
    }
   },
   "outputs": [
    {
     "data": {
      "text/plain": [
       "['https://spb.cian.ru/sale/flat/234775065/',\n",
       " 'https://spb.cian.ru/sale/flat/239273301/',\n",
       " 'https://spb.cian.ru/sale/flat/250966190/',\n",
       " 'https://spb.cian.ru/sale/flat/249950664/',\n",
       " 'https://spb.cian.ru/sale/flat/250766812/']"
      ]
     },
     "execution_count": 3,
     "metadata": {},
     "output_type": "execute_result"
    }
   ],
   "source": [
    "all_hrefs = [a.get('href') for a in soup.find_all('a')] #list of all links\n",
    "flat_hrefs=[a for a in all_hrefs if 'https://spb.cian.ru/sale/flat/' in str(a)] #filtering the list\n",
    "flat_hrefs=list(set(flat_hrefs)) #removing duplicates in the list\n",
    "flat_hrefs[0:5]"
   ]
  },
  {
   "cell_type": "markdown",
   "metadata": {},
   "source": [
    "It is a function for getting all parameters from an apartment page."
   ]
  },
  {
   "cell_type": "code",
   "execution_count": 4,
   "metadata": {
    "pycharm": {
     "name": "#%%\n"
    }
   },
   "outputs": [],
   "source": [
    "def add_flats(hrefs,descr_attr):\n",
    "    flats=pd.DataFrame()\n",
    "    progressbar=IntProgress(min=0, max=len(hrefs), value=0) #progress bar\n",
    "    display(progressbar)\n",
    "    for i,href in enumerate(hrefs):\n",
    "        # getting html code of the flat page\n",
    "        try:\n",
    "            req1 = requests.get(href)\n",
    "        except requests.exceptions.RequestException as e:  \n",
    "            raise SystemExit(e)\n",
    "        \n",
    "        soup = BeautifulSoup(req1.text, \"lxml\")\n",
    "        # if we don't have header we stop parsing\n",
    "        if soup.h1 is None:\n",
    "            print('Parsing is stopped')\n",
    "            break\n",
    "        flats.loc[i,'link']=href\n",
    "        flats.loc[i,'head']=soup.h1.text # header contains the number of rooms\n",
    "        flats.loc[i,'addr']=soup.address.text # getting the address\n",
    "        flats.loc[i,'price']=soup.find(attrs= {\"itemprop\":\"price\"}).text #getting the price\n",
    "        \n",
    "        #getting distances from nearby metro stations\n",
    "        metros=[t.text for t in soup.find_all(attrs= {\"data-name\":\"renderUnderground\"})]\n",
    "        for k,val in enumerate(metros):\n",
    "            flats.loc[i,'metro'+str(k)]=val\n",
    "            \n",
    "        #getting description which contains the square, the floor and the year of built \n",
    "        descr=str(soup.find(attrs= {\"data-name\":\"Description\"}))\n",
    "        while '\">' in descr:\n",
    "            if (descr.find('\">')+2)<descr.find('<'):\n",
    "                if descr[descr.find('\">')+2:descr.find('<')] in descr_attr:\n",
    "                    flats.loc[i,descr[descr.find('\">')+2:descr.find('<')]]=t\n",
    "                t=descr[descr.find('\">')+2:descr.find('<')]\n",
    "            descr=descr[descr.find('<')+2:]\n",
    "            \n",
    "        #getting features\n",
    "        label_info=[t.span.text for t in soup.find_all(attrs= {\"data-name\":\"AdditionalFeatureItem\"})]\n",
    "        info=[t.text for t in soup.find_all(attrs= {\"data-name\":\"AdditionalFeatureItem\"})]\n",
    "        for val,label in zip(info,label_info):\n",
    "            flats.loc[i,label]=val[val.find(label)+len(label):]\n",
    "        progressbar.value = i+1\n",
    "    return flats"
   ]
  },
  {
   "cell_type": "markdown",
   "metadata": {},
   "source": [
    "Let's get flats from the first page"
   ]
  },
  {
   "cell_type": "code",
   "execution_count": 5,
   "metadata": {
    "pycharm": {
     "name": "#%%\n"
    }
   },
   "outputs": [
    {
     "data": {
      "application/vnd.jupyter.widget-view+json": {
       "model_id": "ccbd15844b804e248cbaf4b1ed3833fa",
       "version_major": 2,
       "version_minor": 0
      },
      "text/plain": [
       "IntProgress(value=0, max=28)"
      ]
     },
     "metadata": {},
     "output_type": "display_data"
    },
    {
     "data": {
      "text/html": [
       "<div>\n",
       "<style scoped>\n",
       "    .dataframe tbody tr th:only-of-type {\n",
       "        vertical-align: middle;\n",
       "    }\n",
       "\n",
       "    .dataframe tbody tr th {\n",
       "        vertical-align: top;\n",
       "    }\n",
       "\n",
       "    .dataframe thead th {\n",
       "        text-align: right;\n",
       "    }\n",
       "</style>\n",
       "<table border=\"1\" class=\"dataframe\">\n",
       "  <thead>\n",
       "    <tr style=\"text-align: right;\">\n",
       "      <th></th>\n",
       "      <th>link</th>\n",
       "      <th>head</th>\n",
       "      <th>addr</th>\n",
       "      <th>price</th>\n",
       "      <th>metro0</th>\n",
       "      <th>metro1</th>\n",
       "      <th>metro2</th>\n",
       "      <th>Общая</th>\n",
       "      <th>Жилая</th>\n",
       "      <th>Кухня</th>\n",
       "      <th>...</th>\n",
       "      <th>Срок сдачи</th>\n",
       "      <th>Тип жилья</th>\n",
       "      <th>Высота потолков</th>\n",
       "      <th>Санузел</th>\n",
       "      <th>Балкон/лоджия</th>\n",
       "      <th>Отделка</th>\n",
       "      <th>Построен</th>\n",
       "      <th>Планировка</th>\n",
       "      <th>Ремонт</th>\n",
       "      <th>Вид из окон</th>\n",
       "    </tr>\n",
       "  </thead>\n",
       "  <tbody>\n",
       "    <tr>\n",
       "      <th>0</th>\n",
       "      <td>https://spb.cian.ru/sale/flat/234775065/</td>\n",
       "      <td>2-комн. квартира, 74,13 м²</td>\n",
       "      <td>Санкт-Петербург, р-н Приморский, Юнтолово, Пла...</td>\n",
       "      <td>13 143 249 ₽</td>\n",
       "      <td>Комендантский проспект ⋅  6 мин. на транспорте</td>\n",
       "      <td>Беговая ⋅  7 мин. на транспорте</td>\n",
       "      <td>Старая Деревня ⋅  8 мин. на транспорте</td>\n",
       "      <td>74,13 м²</td>\n",
       "      <td>26,3 м²</td>\n",
       "      <td>22 м²</td>\n",
       "      <td>...</td>\n",
       "      <td>3 кв. 2022</td>\n",
       "      <td>Новостройка</td>\n",
       "      <td>3,3 м</td>\n",
       "      <td>1 совмещенный, 1 раздельный</td>\n",
       "      <td>1 лоджия</td>\n",
       "      <td>NaN</td>\n",
       "      <td>NaN</td>\n",
       "      <td>NaN</td>\n",
       "      <td>NaN</td>\n",
       "      <td>NaN</td>\n",
       "    </tr>\n",
       "    <tr>\n",
       "      <th>1</th>\n",
       "      <td>https://spb.cian.ru/sale/flat/239273301/</td>\n",
       "      <td>1-комн. квартира, 47,81 м²</td>\n",
       "      <td>Санкт-Петербург, р-н Петроградский, Посадский,...</td>\n",
       "      <td>12 430 600 ₽</td>\n",
       "      <td>Петроградская ⋅  13 мин. пешком</td>\n",
       "      <td>Выборгская ⋅  17 мин. пешком</td>\n",
       "      <td>Горьковская ⋅  20 мин. пешком</td>\n",
       "      <td>47,81 м²</td>\n",
       "      <td>NaN</td>\n",
       "      <td>NaN</td>\n",
       "      <td>...</td>\n",
       "      <td>1 кв. 2021</td>\n",
       "      <td>Новостройка</td>\n",
       "      <td>NaN</td>\n",
       "      <td>NaN</td>\n",
       "      <td>NaN</td>\n",
       "      <td>NaN</td>\n",
       "      <td>NaN</td>\n",
       "      <td>NaN</td>\n",
       "      <td>NaN</td>\n",
       "      <td>NaN</td>\n",
       "    </tr>\n",
       "    <tr>\n",
       "      <th>2</th>\n",
       "      <td>https://spb.cian.ru/sale/flat/250966190/</td>\n",
       "      <td>1-комн. апартаменты, 44,1 м²</td>\n",
       "      <td>Санкт-Петербург, р-н Курортный, мкр. Сестрорец...</td>\n",
       "      <td>13 800 000 ₽</td>\n",
       "      <td>Беговая ⋅  29 мин. на транспорте</td>\n",
       "      <td>Комендантский проспект ⋅  31 мин. на транспорте</td>\n",
       "      <td>Зенит ⋅  32 мин. на транспорте</td>\n",
       "      <td>44,1 м²</td>\n",
       "      <td>14,1 м²</td>\n",
       "      <td>19,4 м²</td>\n",
       "      <td>...</td>\n",
       "      <td>4 кв. 2020</td>\n",
       "      <td>Новостройка Апартаменты</td>\n",
       "      <td>NaN</td>\n",
       "      <td>NaN</td>\n",
       "      <td>NaN</td>\n",
       "      <td>Чистовая</td>\n",
       "      <td>NaN</td>\n",
       "      <td>NaN</td>\n",
       "      <td>NaN</td>\n",
       "      <td>NaN</td>\n",
       "    </tr>\n",
       "    <tr>\n",
       "      <th>3</th>\n",
       "      <td>https://spb.cian.ru/sale/flat/249950664/</td>\n",
       "      <td>2-комн. квартира, 56,29 м²</td>\n",
       "      <td>Санкт-Петербург, р-н Приморский, Юнтолово, Нью...</td>\n",
       "      <td>8 730 851 ₽</td>\n",
       "      <td>Комендантский проспект ⋅  6 мин. на транспорте</td>\n",
       "      <td>Беговая ⋅  7 мин. на транспорте</td>\n",
       "      <td>Старая Деревня ⋅  9 мин. на транспорте</td>\n",
       "      <td>56,29 м²</td>\n",
       "      <td>29,3 м²</td>\n",
       "      <td>10,9 м²</td>\n",
       "      <td>...</td>\n",
       "      <td>3 кв. 2021</td>\n",
       "      <td>Новостройка</td>\n",
       "      <td>NaN</td>\n",
       "      <td>2 раздельных</td>\n",
       "      <td>2 лоджии</td>\n",
       "      <td>NaN</td>\n",
       "      <td>NaN</td>\n",
       "      <td>NaN</td>\n",
       "      <td>NaN</td>\n",
       "      <td>NaN</td>\n",
       "    </tr>\n",
       "    <tr>\n",
       "      <th>4</th>\n",
       "      <td>https://spb.cian.ru/sale/flat/250766812/</td>\n",
       "      <td>2-комн. квартира, 70,8 м²</td>\n",
       "      <td>Санкт-Петербург, р-н Приморский, Комендантский...</td>\n",
       "      <td>13 650 000 ₽</td>\n",
       "      <td>Пионерская ⋅  13 мин. пешком</td>\n",
       "      <td>Комендантский проспект ⋅  3 мин. на транспорте</td>\n",
       "      <td>Удельная ⋅  5 мин. на транспорте</td>\n",
       "      <td>70,8 м²</td>\n",
       "      <td>NaN</td>\n",
       "      <td>10 м²</td>\n",
       "      <td>...</td>\n",
       "      <td>NaN</td>\n",
       "      <td>Вторичка</td>\n",
       "      <td>2,8 м</td>\n",
       "      <td>1 раздельный</td>\n",
       "      <td>1 лоджия</td>\n",
       "      <td>NaN</td>\n",
       "      <td>2006</td>\n",
       "      <td>Изолированная</td>\n",
       "      <td>Евроремонт</td>\n",
       "      <td>На улицу и двор</td>\n",
       "    </tr>\n",
       "  </tbody>\n",
       "</table>\n",
       "<p>5 rows × 21 columns</p>\n",
       "</div>"
      ],
      "text/plain": [
       "                                       link                          head  \\\n",
       "0  https://spb.cian.ru/sale/flat/234775065/    2-комн. квартира, 74,13 м²   \n",
       "1  https://spb.cian.ru/sale/flat/239273301/    1-комн. квартира, 47,81 м²   \n",
       "2  https://spb.cian.ru/sale/flat/250966190/  1-комн. апартаменты, 44,1 м²   \n",
       "3  https://spb.cian.ru/sale/flat/249950664/    2-комн. квартира, 56,29 м²   \n",
       "4  https://spb.cian.ru/sale/flat/250766812/     2-комн. квартира, 70,8 м²   \n",
       "\n",
       "                                                addr         price  \\\n",
       "0  Санкт-Петербург, р-н Приморский, Юнтолово, Пла...  13 143 249 ₽   \n",
       "1  Санкт-Петербург, р-н Петроградский, Посадский,...  12 430 600 ₽   \n",
       "2  Санкт-Петербург, р-н Курортный, мкр. Сестрорец...  13 800 000 ₽   \n",
       "3  Санкт-Петербург, р-н Приморский, Юнтолово, Нью...   8 730 851 ₽   \n",
       "4  Санкт-Петербург, р-н Приморский, Комендантский...  13 650 000 ₽   \n",
       "\n",
       "                                           metro0  \\\n",
       "0  Комендантский проспект ⋅  6 мин. на транспорте   \n",
       "1                 Петроградская ⋅  13 мин. пешком   \n",
       "2                Беговая ⋅  29 мин. на транспорте   \n",
       "3  Комендантский проспект ⋅  6 мин. на транспорте   \n",
       "4                    Пионерская ⋅  13 мин. пешком   \n",
       "\n",
       "                                            metro1  \\\n",
       "0                  Беговая ⋅  7 мин. на транспорте   \n",
       "1                     Выборгская ⋅  17 мин. пешком   \n",
       "2  Комендантский проспект ⋅  31 мин. на транспорте   \n",
       "3                  Беговая ⋅  7 мин. на транспорте   \n",
       "4   Комендантский проспект ⋅  3 мин. на транспорте   \n",
       "\n",
       "                                   metro2     Общая    Жилая    Кухня  ...  \\\n",
       "0  Старая Деревня ⋅  8 мин. на транспорте  74,13 м²  26,3 м²    22 м²  ...   \n",
       "1           Горьковская ⋅  20 мин. пешком  47,81 м²      NaN      NaN  ...   \n",
       "2          Зенит ⋅  32 мин. на транспорте   44,1 м²  14,1 м²  19,4 м²  ...   \n",
       "3  Старая Деревня ⋅  9 мин. на транспорте  56,29 м²  29,3 м²  10,9 м²  ...   \n",
       "4        Удельная ⋅  5 мин. на транспорте   70,8 м²      NaN    10 м²  ...   \n",
       "\n",
       "   Срок сдачи                Тип жилья Высота потолков  \\\n",
       "0  3 кв. 2022              Новостройка           3,3 м   \n",
       "1  1 кв. 2021              Новостройка             NaN   \n",
       "2  4 кв. 2020  Новостройка Апартаменты             NaN   \n",
       "3  3 кв. 2021              Новостройка             NaN   \n",
       "4         NaN                 Вторичка           2,8 м   \n",
       "\n",
       "                       Санузел Балкон/лоджия   Отделка Построен  \\\n",
       "0  1 совмещенный, 1 раздельный      1 лоджия       NaN      NaN   \n",
       "1                          NaN           NaN       NaN      NaN   \n",
       "2                          NaN           NaN  Чистовая      NaN   \n",
       "3                 2 раздельных      2 лоджии       NaN      NaN   \n",
       "4                 1 раздельный      1 лоджия       NaN     2006   \n",
       "\n",
       "      Планировка      Ремонт      Вид из окон  \n",
       "0            NaN         NaN              NaN  \n",
       "1            NaN         NaN              NaN  \n",
       "2            NaN         NaN              NaN  \n",
       "3            NaN         NaN              NaN  \n",
       "4  Изолированная  Евроремонт  На улицу и двор  \n",
       "\n",
       "[5 rows x 21 columns]"
      ]
     },
     "execution_count": 5,
     "metadata": {},
     "output_type": "execute_result"
    }
   ],
   "source": [
    "descr_attr=['Общая','Жилая','Кухня','Этаж','Срок сдачи','Построен'] \n",
    "flats=add_flats(flat_hrefs,descr_attr)\n",
    "flats.head()"
   ]
  },
  {
   "cell_type": "markdown",
   "metadata": {},
   "source": [
    "Let's add all flats into flats_all. It is a dataframe where I will collect all flats."
   ]
  },
  {
   "cell_type": "code",
   "execution_count": 6,
   "metadata": {
    "pycharm": {
     "name": "#%%\n"
    }
   },
   "outputs": [
    {
     "data": {
      "text/plain": [
       "(28, 21)"
      ]
     },
     "execution_count": 6,
     "metadata": {},
     "output_type": "execute_result"
    }
   ],
   "source": [
    "flats_all=pd.DataFrame()\n",
    "flats_all=flats_all.append(flats,ignore_index=True)\n",
    "flats_all.shape"
   ]
  },
  {
   "cell_type": "markdown",
   "metadata": {},
   "source": [
    "Let's go through all pages."
   ]
  },
  {
   "cell_type": "code",
   "execution_count": 7,
   "metadata": {
    "pycharm": {
     "name": "#%%\n"
    }
   },
   "outputs": [
    {
     "name": "stdout",
     "output_type": "stream",
     "text": [
      "page number: 1\n"
     ]
    },
    {
     "data": {
      "application/vnd.jupyter.widget-view+json": {
       "model_id": "d5124458ecef4fffa9a69ab3e0a5e6d7",
       "version_major": 2,
       "version_minor": 0
      },
      "text/plain": [
       "IntProgress(value=0, max=28)"
      ]
     },
     "metadata": {},
     "output_type": "display_data"
    },
    {
     "name": "stdout",
     "output_type": "stream",
     "text": [
      "number of rows 56\n",
      "page number: 2\n"
     ]
    },
    {
     "data": {
      "application/vnd.jupyter.widget-view+json": {
       "model_id": "df45cae7f7fc4e798aee4a407fc3e6da",
       "version_major": 2,
       "version_minor": 0
      },
      "text/plain": [
       "IntProgress(value=0, max=28)"
      ]
     },
     "metadata": {},
     "output_type": "display_data"
    },
    {
     "name": "stdout",
     "output_type": "stream",
     "text": [
      "number of rows 84\n",
      "page number: 3\n"
     ]
    },
    {
     "data": {
      "application/vnd.jupyter.widget-view+json": {
       "model_id": "4dc8b03f91524cc6bbfc8f6a6f5fe27e",
       "version_major": 2,
       "version_minor": 0
      },
      "text/plain": [
       "IntProgress(value=0, max=28)"
      ]
     },
     "metadata": {},
     "output_type": "display_data"
    },
    {
     "name": "stdout",
     "output_type": "stream",
     "text": [
      "number of rows 112\n",
      "page number: 4\n"
     ]
    },
    {
     "data": {
      "application/vnd.jupyter.widget-view+json": {
       "model_id": "80b53ad9e9794244be02b463d34202a4",
       "version_major": 2,
       "version_minor": 0
      },
      "text/plain": [
       "IntProgress(value=0, max=28)"
      ]
     },
     "metadata": {},
     "output_type": "display_data"
    },
    {
     "name": "stdout",
     "output_type": "stream",
     "text": [
      "number of rows 140\n",
      "page number: 5\n"
     ]
    },
    {
     "data": {
      "application/vnd.jupyter.widget-view+json": {
       "model_id": "a6eb479ae1404c0da1f505931a000fb5",
       "version_major": 2,
       "version_minor": 0
      },
      "text/plain": [
       "IntProgress(value=0, max=28)"
      ]
     },
     "metadata": {},
     "output_type": "display_data"
    },
    {
     "name": "stdout",
     "output_type": "stream",
     "text": [
      "number of rows 168\n",
      "page number: 6\n"
     ]
    },
    {
     "data": {
      "application/vnd.jupyter.widget-view+json": {
       "model_id": "ecda1557ff6648c8abe5dc450a9d8791",
       "version_major": 2,
       "version_minor": 0
      },
      "text/plain": [
       "IntProgress(value=0, max=28)"
      ]
     },
     "metadata": {},
     "output_type": "display_data"
    },
    {
     "name": "stdout",
     "output_type": "stream",
     "text": [
      "number of rows 196\n",
      "page number: 7\n"
     ]
    },
    {
     "data": {
      "application/vnd.jupyter.widget-view+json": {
       "model_id": "7d257bf8cb944442bf58125d34072fb2",
       "version_major": 2,
       "version_minor": 0
      },
      "text/plain": [
       "IntProgress(value=0, max=28)"
      ]
     },
     "metadata": {},
     "output_type": "display_data"
    },
    {
     "name": "stdout",
     "output_type": "stream",
     "text": [
      "number of rows 224\n",
      "page number: 8\n"
     ]
    },
    {
     "data": {
      "application/vnd.jupyter.widget-view+json": {
       "model_id": "3feaeecf34d74a2c809c5f99daba75fb",
       "version_major": 2,
       "version_minor": 0
      },
      "text/plain": [
       "IntProgress(value=0, max=28)"
      ]
     },
     "metadata": {},
     "output_type": "display_data"
    },
    {
     "name": "stdout",
     "output_type": "stream",
     "text": [
      "number of rows 252\n",
      "page number: 9\n"
     ]
    },
    {
     "data": {
      "application/vnd.jupyter.widget-view+json": {
       "model_id": "a668fbae64024d0e9e11221026e5d7f0",
       "version_major": 2,
       "version_minor": 0
      },
      "text/plain": [
       "IntProgress(value=0, max=28)"
      ]
     },
     "metadata": {},
     "output_type": "display_data"
    },
    {
     "name": "stdout",
     "output_type": "stream",
     "text": [
      "number of rows 280\n",
      "page number: 10\n"
     ]
    },
    {
     "data": {
      "application/vnd.jupyter.widget-view+json": {
       "model_id": "8a9d48a1ca114a30889d518ab4c9aad3",
       "version_major": 2,
       "version_minor": 0
      },
      "text/plain": [
       "IntProgress(value=0, max=28)"
      ]
     },
     "metadata": {},
     "output_type": "display_data"
    },
    {
     "name": "stdout",
     "output_type": "stream",
     "text": [
      "number of rows 308\n",
      "page number: 11\n"
     ]
    },
    {
     "data": {
      "application/vnd.jupyter.widget-view+json": {
       "model_id": "b277ecf121db4027bb7a6e8d8f3487c9",
       "version_major": 2,
       "version_minor": 0
      },
      "text/plain": [
       "IntProgress(value=0, max=28)"
      ]
     },
     "metadata": {},
     "output_type": "display_data"
    },
    {
     "name": "stdout",
     "output_type": "stream",
     "text": [
      "number of rows 336\n",
      "page number: 12\n"
     ]
    },
    {
     "data": {
      "application/vnd.jupyter.widget-view+json": {
       "model_id": "0bc6457a9e3f4f79ae7a4b78236d407b",
       "version_major": 2,
       "version_minor": 0
      },
      "text/plain": [
       "IntProgress(value=0, max=28)"
      ]
     },
     "metadata": {},
     "output_type": "display_data"
    },
    {
     "name": "stdout",
     "output_type": "stream",
     "text": [
      "number of rows 364\n",
      "page number: 13\n"
     ]
    },
    {
     "data": {
      "application/vnd.jupyter.widget-view+json": {
       "model_id": "72b5bca154604ec9b808be1dabe552fd",
       "version_major": 2,
       "version_minor": 0
      },
      "text/plain": [
       "IntProgress(value=0, max=28)"
      ]
     },
     "metadata": {},
     "output_type": "display_data"
    },
    {
     "name": "stdout",
     "output_type": "stream",
     "text": [
      "number of rows 392\n",
      "page number: 14\n"
     ]
    },
    {
     "data": {
      "application/vnd.jupyter.widget-view+json": {
       "model_id": "07feb550b0e1499db4c2605fdc9fe730",
       "version_major": 2,
       "version_minor": 0
      },
      "text/plain": [
       "IntProgress(value=0, max=28)"
      ]
     },
     "metadata": {},
     "output_type": "display_data"
    },
    {
     "name": "stdout",
     "output_type": "stream",
     "text": [
      "number of rows 420\n",
      "page number: 15\n"
     ]
    },
    {
     "data": {
      "application/vnd.jupyter.widget-view+json": {
       "model_id": "7202ecedd9da418ba0282ba4e9efc1f9",
       "version_major": 2,
       "version_minor": 0
      },
      "text/plain": [
       "IntProgress(value=0, max=28)"
      ]
     },
     "metadata": {},
     "output_type": "display_data"
    },
    {
     "name": "stdout",
     "output_type": "stream",
     "text": [
      "number of rows 448\n",
      "page number: 16\n"
     ]
    },
    {
     "data": {
      "application/vnd.jupyter.widget-view+json": {
       "model_id": "ab8ab551a9164b78ac487917929324a3",
       "version_major": 2,
       "version_minor": 0
      },
      "text/plain": [
       "IntProgress(value=0, max=28)"
      ]
     },
     "metadata": {},
     "output_type": "display_data"
    },
    {
     "name": "stdout",
     "output_type": "stream",
     "text": [
      "number of rows 476\n",
      "page number: 17\n"
     ]
    },
    {
     "data": {
      "application/vnd.jupyter.widget-view+json": {
       "model_id": "01254e7be23c41588ec664621b325681",
       "version_major": 2,
       "version_minor": 0
      },
      "text/plain": [
       "IntProgress(value=0, max=28)"
      ]
     },
     "metadata": {},
     "output_type": "display_data"
    },
    {
     "name": "stdout",
     "output_type": "stream",
     "text": [
      "number of rows 504\n",
      "page number: 18\n"
     ]
    },
    {
     "data": {
      "application/vnd.jupyter.widget-view+json": {
       "model_id": "4db3fc5b534f47eb9d046e2a5a6ba7c8",
       "version_major": 2,
       "version_minor": 0
      },
      "text/plain": [
       "IntProgress(value=0, max=28)"
      ]
     },
     "metadata": {},
     "output_type": "display_data"
    },
    {
     "name": "stdout",
     "output_type": "stream",
     "text": [
      "number of rows 532\n",
      "page number: 19\n"
     ]
    },
    {
     "data": {
      "application/vnd.jupyter.widget-view+json": {
       "model_id": "7b08c5e37e3e4b62aa6dbd79691e11c9",
       "version_major": 2,
       "version_minor": 0
      },
      "text/plain": [
       "IntProgress(value=0, max=28)"
      ]
     },
     "metadata": {},
     "output_type": "display_data"
    },
    {
     "name": "stdout",
     "output_type": "stream",
     "text": [
      "number of rows 560\n",
      "page number: 20\n"
     ]
    },
    {
     "data": {
      "application/vnd.jupyter.widget-view+json": {
       "model_id": "6b6ecec0389a471d8a35700e582fd79c",
       "version_major": 2,
       "version_minor": 0
      },
      "text/plain": [
       "IntProgress(value=0, max=28)"
      ]
     },
     "metadata": {},
     "output_type": "display_data"
    },
    {
     "name": "stdout",
     "output_type": "stream",
     "text": [
      "number of rows 588\n",
      "page number: 21\n"
     ]
    },
    {
     "data": {
      "application/vnd.jupyter.widget-view+json": {
       "model_id": "5254abe743004be2805b5c31f1c5446e",
       "version_major": 2,
       "version_minor": 0
      },
      "text/plain": [
       "IntProgress(value=0, max=28)"
      ]
     },
     "metadata": {},
     "output_type": "display_data"
    },
    {
     "name": "stdout",
     "output_type": "stream",
     "text": [
      "number of rows 616\n",
      "page number: 22\n"
     ]
    },
    {
     "data": {
      "application/vnd.jupyter.widget-view+json": {
       "model_id": "d130af6dca5b4ac0abf27334978a2d16",
       "version_major": 2,
       "version_minor": 0
      },
      "text/plain": [
       "IntProgress(value=0, max=28)"
      ]
     },
     "metadata": {},
     "output_type": "display_data"
    },
    {
     "name": "stdout",
     "output_type": "stream",
     "text": [
      "number of rows 644\n",
      "page number: 23\n"
     ]
    },
    {
     "data": {
      "application/vnd.jupyter.widget-view+json": {
       "model_id": "ab7988ad1460442193a8fd41ca285bc4",
       "version_major": 2,
       "version_minor": 0
      },
      "text/plain": [
       "IntProgress(value=0, max=28)"
      ]
     },
     "metadata": {},
     "output_type": "display_data"
    },
    {
     "name": "stdout",
     "output_type": "stream",
     "text": [
      "number of rows 672\n",
      "page number: 24\n"
     ]
    },
    {
     "data": {
      "application/vnd.jupyter.widget-view+json": {
       "model_id": "e3913680213d4cf283f3c9f1797fabec",
       "version_major": 2,
       "version_minor": 0
      },
      "text/plain": [
       "IntProgress(value=0, max=28)"
      ]
     },
     "metadata": {},
     "output_type": "display_data"
    },
    {
     "name": "stdout",
     "output_type": "stream",
     "text": [
      "number of rows 700\n",
      "page number: 25\n"
     ]
    },
    {
     "data": {
      "application/vnd.jupyter.widget-view+json": {
       "model_id": "ad4441bcf429458c96d665e93133ef12",
       "version_major": 2,
       "version_minor": 0
      },
      "text/plain": [
       "IntProgress(value=0, max=28)"
      ]
     },
     "metadata": {},
     "output_type": "display_data"
    },
    {
     "name": "stdout",
     "output_type": "stream",
     "text": [
      "number of rows 728\n",
      "page number: 26\n"
     ]
    },
    {
     "data": {
      "application/vnd.jupyter.widget-view+json": {
       "model_id": "e5d127e5e11d4d30bc67d47b61ea4443",
       "version_major": 2,
       "version_minor": 0
      },
      "text/plain": [
       "IntProgress(value=0, max=28)"
      ]
     },
     "metadata": {},
     "output_type": "display_data"
    },
    {
     "name": "stdout",
     "output_type": "stream",
     "text": [
      "number of rows 756\n",
      "page number: 27\n"
     ]
    },
    {
     "data": {
      "application/vnd.jupyter.widget-view+json": {
       "model_id": "c3f48e7f1ed44f25b9ba8277f7215778",
       "version_major": 2,
       "version_minor": 0
      },
      "text/plain": [
       "IntProgress(value=0, max=28)"
      ]
     },
     "metadata": {},
     "output_type": "display_data"
    },
    {
     "name": "stdout",
     "output_type": "stream",
     "text": [
      "number of rows 784\n",
      "page number: 28\n"
     ]
    },
    {
     "data": {
      "application/vnd.jupyter.widget-view+json": {
       "model_id": "9cf0ae1226d2496b9f682a2715ddff3d",
       "version_major": 2,
       "version_minor": 0
      },
      "text/plain": [
       "IntProgress(value=0, max=28)"
      ]
     },
     "metadata": {},
     "output_type": "display_data"
    },
    {
     "name": "stdout",
     "output_type": "stream",
     "text": [
      "number of rows 812\n",
      "page number: 29\n"
     ]
    },
    {
     "data": {
      "application/vnd.jupyter.widget-view+json": {
       "model_id": "8b3cfb4ac0174d78b845cbb40712d09b",
       "version_major": 2,
       "version_minor": 0
      },
      "text/plain": [
       "IntProgress(value=0, max=28)"
      ]
     },
     "metadata": {},
     "output_type": "display_data"
    },
    {
     "name": "stdout",
     "output_type": "stream",
     "text": [
      "number of rows 840\n",
      "page number: 30\n"
     ]
    },
    {
     "data": {
      "application/vnd.jupyter.widget-view+json": {
       "model_id": "94598151c88643ad872ec14e8b239c89",
       "version_major": 2,
       "version_minor": 0
      },
      "text/plain": [
       "IntProgress(value=0, max=28)"
      ]
     },
     "metadata": {},
     "output_type": "display_data"
    },
    {
     "name": "stdout",
     "output_type": "stream",
     "text": [
      "number of rows 868\n",
      "page number: 31\n"
     ]
    },
    {
     "data": {
      "application/vnd.jupyter.widget-view+json": {
       "model_id": "c8fd6c2fc2d94dde9b0cae1913d35116",
       "version_major": 2,
       "version_minor": 0
      },
      "text/plain": [
       "IntProgress(value=0, max=28)"
      ]
     },
     "metadata": {},
     "output_type": "display_data"
    },
    {
     "name": "stdout",
     "output_type": "stream",
     "text": [
      "number of rows 896\n",
      "page number: 32\n"
     ]
    },
    {
     "data": {
      "application/vnd.jupyter.widget-view+json": {
       "model_id": "195979239128459b83688ac901e4de46",
       "version_major": 2,
       "version_minor": 0
      },
      "text/plain": [
       "IntProgress(value=0, max=28)"
      ]
     },
     "metadata": {},
     "output_type": "display_data"
    },
    {
     "name": "stdout",
     "output_type": "stream",
     "text": [
      "number of rows 924\n",
      "page number: 33\n"
     ]
    },
    {
     "data": {
      "application/vnd.jupyter.widget-view+json": {
       "model_id": "11b6f78c32584f7da82c45c4e9007f12",
       "version_major": 2,
       "version_minor": 0
      },
      "text/plain": [
       "IntProgress(value=0, max=28)"
      ]
     },
     "metadata": {},
     "output_type": "display_data"
    },
    {
     "name": "stdout",
     "output_type": "stream",
     "text": [
      "number of rows 952\n",
      "page number: 34\n"
     ]
    },
    {
     "data": {
      "application/vnd.jupyter.widget-view+json": {
       "model_id": "151ae4d894724755bf8afad7f8ed92e5",
       "version_major": 2,
       "version_minor": 0
      },
      "text/plain": [
       "IntProgress(value=0, max=28)"
      ]
     },
     "metadata": {},
     "output_type": "display_data"
    },
    {
     "name": "stdout",
     "output_type": "stream",
     "text": [
      "number of rows 980\n",
      "page number: 35\n"
     ]
    },
    {
     "data": {
      "application/vnd.jupyter.widget-view+json": {
       "model_id": "b92ceb3a7f414b76a0455e6f486be4f2",
       "version_major": 2,
       "version_minor": 0
      },
      "text/plain": [
       "IntProgress(value=0, max=28)"
      ]
     },
     "metadata": {},
     "output_type": "display_data"
    },
    {
     "name": "stdout",
     "output_type": "stream",
     "text": [
      "number of rows 1008\n",
      "page number: 36\n"
     ]
    },
    {
     "data": {
      "application/vnd.jupyter.widget-view+json": {
       "model_id": "19d6ad97d8734f43b856c820534d1529",
       "version_major": 2,
       "version_minor": 0
      },
      "text/plain": [
       "IntProgress(value=0, max=28)"
      ]
     },
     "metadata": {},
     "output_type": "display_data"
    },
    {
     "name": "stdout",
     "output_type": "stream",
     "text": [
      "number of rows 1036\n",
      "page number: 37\n"
     ]
    },
    {
     "data": {
      "application/vnd.jupyter.widget-view+json": {
       "model_id": "f4612e0811974a40a6e031758a144005",
       "version_major": 2,
       "version_minor": 0
      },
      "text/plain": [
       "IntProgress(value=0, max=28)"
      ]
     },
     "metadata": {},
     "output_type": "display_data"
    },
    {
     "name": "stdout",
     "output_type": "stream",
     "text": [
      "number of rows 1064\n",
      "page number: 38\n"
     ]
    },
    {
     "data": {
      "application/vnd.jupyter.widget-view+json": {
       "model_id": "a11f40cba1ee408289376ca724bb74c4",
       "version_major": 2,
       "version_minor": 0
      },
      "text/plain": [
       "IntProgress(value=0, max=28)"
      ]
     },
     "metadata": {},
     "output_type": "display_data"
    },
    {
     "name": "stdout",
     "output_type": "stream",
     "text": [
      "number of rows 1092\n",
      "page number: 39\n"
     ]
    },
    {
     "data": {
      "application/vnd.jupyter.widget-view+json": {
       "model_id": "bb4bdcba4e9841d7963907c24c1312df",
       "version_major": 2,
       "version_minor": 0
      },
      "text/plain": [
       "IntProgress(value=0, max=28)"
      ]
     },
     "metadata": {},
     "output_type": "display_data"
    },
    {
     "name": "stdout",
     "output_type": "stream",
     "text": [
      "number of rows 1120\n",
      "page number: 40\n"
     ]
    },
    {
     "data": {
      "application/vnd.jupyter.widget-view+json": {
       "model_id": "3d2daa6a13b947659e9acaf47be09288",
       "version_major": 2,
       "version_minor": 0
      },
      "text/plain": [
       "IntProgress(value=0, max=28)"
      ]
     },
     "metadata": {},
     "output_type": "display_data"
    },
    {
     "name": "stdout",
     "output_type": "stream",
     "text": [
      "number of rows 1148\n",
      "page number: 41\n"
     ]
    },
    {
     "data": {
      "application/vnd.jupyter.widget-view+json": {
       "model_id": "784746a75f81453f831bd270c341858c",
       "version_major": 2,
       "version_minor": 0
      },
      "text/plain": [
       "IntProgress(value=0, max=28)"
      ]
     },
     "metadata": {},
     "output_type": "display_data"
    },
    {
     "name": "stdout",
     "output_type": "stream",
     "text": [
      "number of rows 1176\n",
      "page number: 42\n"
     ]
    },
    {
     "data": {
      "application/vnd.jupyter.widget-view+json": {
       "model_id": "53ef80b8701b4b6f858ddefc94f49d2b",
       "version_major": 2,
       "version_minor": 0
      },
      "text/plain": [
       "IntProgress(value=0, max=28)"
      ]
     },
     "metadata": {},
     "output_type": "display_data"
    },
    {
     "name": "stdout",
     "output_type": "stream",
     "text": [
      "number of rows 1204\n",
      "page number: 43\n"
     ]
    },
    {
     "data": {
      "application/vnd.jupyter.widget-view+json": {
       "model_id": "f30b2b2b6e8545679a712dead0fd1e37",
       "version_major": 2,
       "version_minor": 0
      },
      "text/plain": [
       "IntProgress(value=0, max=28)"
      ]
     },
     "metadata": {},
     "output_type": "display_data"
    },
    {
     "name": "stdout",
     "output_type": "stream",
     "text": [
      "number of rows 1232\n",
      "page number: 44\n"
     ]
    },
    {
     "data": {
      "application/vnd.jupyter.widget-view+json": {
       "model_id": "8e5f5e9181d54480919c7f044c1378b3",
       "version_major": 2,
       "version_minor": 0
      },
      "text/plain": [
       "IntProgress(value=0, max=28)"
      ]
     },
     "metadata": {},
     "output_type": "display_data"
    },
    {
     "name": "stdout",
     "output_type": "stream",
     "text": [
      "number of rows 1260\n",
      "page number: 45\n"
     ]
    },
    {
     "data": {
      "application/vnd.jupyter.widget-view+json": {
       "model_id": "15aba9b150a745d49dd2b7003778052e",
       "version_major": 2,
       "version_minor": 0
      },
      "text/plain": [
       "IntProgress(value=0, max=28)"
      ]
     },
     "metadata": {},
     "output_type": "display_data"
    },
    {
     "name": "stdout",
     "output_type": "stream",
     "text": [
      "number of rows 1288\n",
      "page number: 46\n"
     ]
    },
    {
     "data": {
      "application/vnd.jupyter.widget-view+json": {
       "model_id": "2036a47e119343e689c162405b146187",
       "version_major": 2,
       "version_minor": 0
      },
      "text/plain": [
       "IntProgress(value=0, max=28)"
      ]
     },
     "metadata": {},
     "output_type": "display_data"
    },
    {
     "name": "stdout",
     "output_type": "stream",
     "text": [
      "number of rows 1316\n",
      "page number: 47\n"
     ]
    },
    {
     "data": {
      "application/vnd.jupyter.widget-view+json": {
       "model_id": "1b3ec0384abd43b387ac53510b668820",
       "version_major": 2,
       "version_minor": 0
      },
      "text/plain": [
       "IntProgress(value=0, max=28)"
      ]
     },
     "metadata": {},
     "output_type": "display_data"
    },
    {
     "name": "stdout",
     "output_type": "stream",
     "text": [
      "number of rows 1344\n",
      "page number: 48\n"
     ]
    },
    {
     "data": {
      "application/vnd.jupyter.widget-view+json": {
       "model_id": "c2f83c77937a44f8a303f9536e521ce7",
       "version_major": 2,
       "version_minor": 0
      },
      "text/plain": [
       "IntProgress(value=0, max=28)"
      ]
     },
     "metadata": {},
     "output_type": "display_data"
    },
    {
     "name": "stdout",
     "output_type": "stream",
     "text": [
      "number of rows 1372\n",
      "page number: 49\n"
     ]
    },
    {
     "data": {
      "application/vnd.jupyter.widget-view+json": {
       "model_id": "25c56b7ffd1349c6827f75aae42172b5",
       "version_major": 2,
       "version_minor": 0
      },
      "text/plain": [
       "IntProgress(value=0, max=28)"
      ]
     },
     "metadata": {},
     "output_type": "display_data"
    },
    {
     "name": "stdout",
     "output_type": "stream",
     "text": [
      "number of rows 1400\n",
      "page number: 50\n"
     ]
    },
    {
     "data": {
      "application/vnd.jupyter.widget-view+json": {
       "model_id": "30bed43da6f142829e2a9b2d729b78fb",
       "version_major": 2,
       "version_minor": 0
      },
      "text/plain": [
       "IntProgress(value=0, max=28)"
      ]
     },
     "metadata": {},
     "output_type": "display_data"
    },
    {
     "name": "stdout",
     "output_type": "stream",
     "text": [
      "number of rows 1428\n",
      "page number: 51\n"
     ]
    },
    {
     "data": {
      "application/vnd.jupyter.widget-view+json": {
       "model_id": "f30e08bf2d964f99888e7f46494a875b",
       "version_major": 2,
       "version_minor": 0
      },
      "text/plain": [
       "IntProgress(value=0, max=28)"
      ]
     },
     "metadata": {},
     "output_type": "display_data"
    },
    {
     "name": "stdout",
     "output_type": "stream",
     "text": [
      "number of rows 1456\n",
      "page number: 52\n"
     ]
    },
    {
     "data": {
      "application/vnd.jupyter.widget-view+json": {
       "model_id": "c4aca5ee68814bda91a977976dbb906a",
       "version_major": 2,
       "version_minor": 0
      },
      "text/plain": [
       "IntProgress(value=0, max=28)"
      ]
     },
     "metadata": {},
     "output_type": "display_data"
    },
    {
     "name": "stdout",
     "output_type": "stream",
     "text": [
      "number of rows 1484\n",
      "page number: 53\n"
     ]
    },
    {
     "data": {
      "application/vnd.jupyter.widget-view+json": {
       "model_id": "89e9b173ed754b3e9172e3d150e6e13f",
       "version_major": 2,
       "version_minor": 0
      },
      "text/plain": [
       "IntProgress(value=0, max=28)"
      ]
     },
     "metadata": {},
     "output_type": "display_data"
    },
    {
     "name": "stdout",
     "output_type": "stream",
     "text": [
      "number of rows 1512\n",
      "page number: 54\n"
     ]
    },
    {
     "data": {
      "application/vnd.jupyter.widget-view+json": {
       "model_id": "f362cf1861d04747a6e6b04f6a5875ea",
       "version_major": 2,
       "version_minor": 0
      },
      "text/plain": [
       "IntProgress(value=0, max=25)"
      ]
     },
     "metadata": {},
     "output_type": "display_data"
    },
    {
     "name": "stdout",
     "output_type": "stream",
     "text": [
      "number of rows 1537\n"
     ]
    }
   ],
   "source": [
    "n_page=1\n",
    "while n_page<=54:\n",
    "    print('page number:',str(n_page))\n",
    "    #request to cian\n",
    "    try:\n",
    "        req = requests.get('https://spb.cian.ru/cat.php?deal_type=sale&engine_version=2&offer_type=flat&p='\n",
    "                           +str(n_page)+'&region=2')\n",
    "    except requests.exceptions.RequestException as e:  \n",
    "        raise SystemExit(e)\n",
    "\n",
    "    soup = BeautifulSoup(req.text, \"lxml\")\n",
    "    # if we don't have header we stop parsing\n",
    "    if soup.h1 is None:\n",
    "        print('Parsing is stopped')\n",
    "        break\n",
    "    #getting all links from the page\n",
    "    all_hrefs = [a.get('href') for a in soup.find_all('a')]\n",
    "    flat_hrefs=[a for a in all_hrefs if 'https://spb.cian.ru/sale/flat/' in str(a)]\n",
    "    #getting all parameters from an apartment page.\n",
    "    flat_hrefs=list(set(flat_hrefs))\n",
    "    flats=add_flats(flat_hrefs,descr_attr)\n",
    "    flats_all=flats_all.append(flats,ignore_index=True)\n",
    "    print('number of rows',flats_all.shape[0])\n",
    "    n_page+=1"
   ]
  },
  {
   "cell_type": "markdown",
   "metadata": {},
   "source": [
    "Let's check the counts of rows and columns in the result dataframe."
   ]
  },
  {
   "cell_type": "code",
   "execution_count": 8,
   "metadata": {
    "pycharm": {
     "name": "#%%\n"
    }
   },
   "outputs": [
    {
     "data": {
      "text/plain": [
       "(1537, 21)"
      ]
     },
     "execution_count": 8,
     "metadata": {},
     "output_type": "execute_result"
    }
   ],
   "source": [
    "flats_all.shape"
   ]
  },
  {
   "cell_type": "code",
   "execution_count": 9,
   "metadata": {
    "pycharm": {
     "name": "#%%\n"
    }
   },
   "outputs": [
    {
     "data": {
      "text/html": [
       "<div>\n",
       "<style scoped>\n",
       "    .dataframe tbody tr th:only-of-type {\n",
       "        vertical-align: middle;\n",
       "    }\n",
       "\n",
       "    .dataframe tbody tr th {\n",
       "        vertical-align: top;\n",
       "    }\n",
       "\n",
       "    .dataframe thead th {\n",
       "        text-align: right;\n",
       "    }\n",
       "</style>\n",
       "<table border=\"1\" class=\"dataframe\">\n",
       "  <thead>\n",
       "    <tr style=\"text-align: right;\">\n",
       "      <th></th>\n",
       "      <th>link</th>\n",
       "      <th>head</th>\n",
       "      <th>addr</th>\n",
       "      <th>price</th>\n",
       "      <th>metro0</th>\n",
       "      <th>metro1</th>\n",
       "      <th>metro2</th>\n",
       "      <th>Общая</th>\n",
       "      <th>Жилая</th>\n",
       "      <th>Кухня</th>\n",
       "      <th>...</th>\n",
       "      <th>Срок сдачи</th>\n",
       "      <th>Тип жилья</th>\n",
       "      <th>Высота потолков</th>\n",
       "      <th>Санузел</th>\n",
       "      <th>Балкон/лоджия</th>\n",
       "      <th>Отделка</th>\n",
       "      <th>Построен</th>\n",
       "      <th>Планировка</th>\n",
       "      <th>Ремонт</th>\n",
       "      <th>Вид из окон</th>\n",
       "    </tr>\n",
       "  </thead>\n",
       "  <tbody>\n",
       "    <tr>\n",
       "      <th>1532</th>\n",
       "      <td>https://spb.cian.ru/sale/flat/250580748/</td>\n",
       "      <td>2-комн. квартира, 55,02 м²</td>\n",
       "      <td>Санкт-Петербург, р-н Приморский, Лахта-Ольгино...</td>\n",
       "      <td>6 766 360 ₽</td>\n",
       "      <td>Беговая ⋅  9 мин. на транспорте</td>\n",
       "      <td>Комендантский проспект ⋅  11 мин. на транспорте</td>\n",
       "      <td>Зенит ⋅  12 мин. на транспорте</td>\n",
       "      <td>55,02 м²</td>\n",
       "      <td>26,1 м²</td>\n",
       "      <td>17,9 м²</td>\n",
       "      <td>...</td>\n",
       "      <td>2 кв. 2023</td>\n",
       "      <td>Новостройка</td>\n",
       "      <td>2,6 м</td>\n",
       "      <td>NaN</td>\n",
       "      <td>NaN</td>\n",
       "      <td>NaN</td>\n",
       "      <td>NaN</td>\n",
       "      <td>NaN</td>\n",
       "      <td>NaN</td>\n",
       "      <td>NaN</td>\n",
       "    </tr>\n",
       "    <tr>\n",
       "      <th>1533</th>\n",
       "      <td>https://spb.cian.ru/sale/flat/250580813/</td>\n",
       "      <td>2-комн. квартира, 54,87 м²</td>\n",
       "      <td>Санкт-Петербург, р-н Приморский, Лахта-Ольгино...</td>\n",
       "      <td>6 790 163 ₽</td>\n",
       "      <td>Беговая ⋅  9 мин. на транспорте</td>\n",
       "      <td>Комендантский проспект ⋅  11 мин. на транспорте</td>\n",
       "      <td>Зенит ⋅  12 мин. на транспорте</td>\n",
       "      <td>54,87 м²</td>\n",
       "      <td>21,2 м²</td>\n",
       "      <td>23,3 м²</td>\n",
       "      <td>...</td>\n",
       "      <td>2 кв. 2023</td>\n",
       "      <td>Новостройка</td>\n",
       "      <td>2,6 м</td>\n",
       "      <td>NaN</td>\n",
       "      <td>NaN</td>\n",
       "      <td>NaN</td>\n",
       "      <td>NaN</td>\n",
       "      <td>NaN</td>\n",
       "      <td>NaN</td>\n",
       "      <td>NaN</td>\n",
       "    </tr>\n",
       "    <tr>\n",
       "      <th>1534</th>\n",
       "      <td>https://spb.cian.ru/sale/flat/250213237/</td>\n",
       "      <td>1-комн. квартира, 31,6 м²</td>\n",
       "      <td>Санкт-Петербург, р-н Приморский, № 65, ул. Опт...</td>\n",
       "      <td>7 500 000 ₽</td>\n",
       "      <td>Беговая</td>\n",
       "      <td>Комендантский проспект</td>\n",
       "      <td>Старая Деревня</td>\n",
       "      <td>31,6 м²</td>\n",
       "      <td>14,3 м²</td>\n",
       "      <td>8,1 м²</td>\n",
       "      <td>...</td>\n",
       "      <td>NaN</td>\n",
       "      <td>Вторичка</td>\n",
       "      <td>NaN</td>\n",
       "      <td>1 раздельный</td>\n",
       "      <td>NaN</td>\n",
       "      <td>NaN</td>\n",
       "      <td>2019</td>\n",
       "      <td>NaN</td>\n",
       "      <td>Дизайнерский</td>\n",
       "      <td>NaN</td>\n",
       "    </tr>\n",
       "    <tr>\n",
       "      <th>1535</th>\n",
       "      <td>https://spb.cian.ru/sale/flat/249798150/</td>\n",
       "      <td>2-комн. квартира, 55,4 м²</td>\n",
       "      <td>Санкт-Петербург, р-н Приморский, Коломяги, Орл...</td>\n",
       "      <td>7 756 000 ₽</td>\n",
       "      <td>Проспект Просвещения ⋅  5 мин. на транспорте</td>\n",
       "      <td>Озерки ⋅  6 мин. на транспорте</td>\n",
       "      <td>Парнас ⋅  9 мин. на транспорте</td>\n",
       "      <td>55,4 м²</td>\n",
       "      <td>27,5 м²</td>\n",
       "      <td>13,7 м²</td>\n",
       "      <td>...</td>\n",
       "      <td>3 кв. 2021</td>\n",
       "      <td>Новостройка</td>\n",
       "      <td>2,6 м</td>\n",
       "      <td>1 раздельный</td>\n",
       "      <td>NaN</td>\n",
       "      <td>Чистовая</td>\n",
       "      <td>NaN</td>\n",
       "      <td>NaN</td>\n",
       "      <td>NaN</td>\n",
       "      <td>На улицу</td>\n",
       "    </tr>\n",
       "    <tr>\n",
       "      <th>1536</th>\n",
       "      <td>https://spb.cian.ru/sale/flat/244365478/</td>\n",
       "      <td>1-комн. квартира, 24,27 м²</td>\n",
       "      <td>Санкт-Петербург, р-н Приморский, Юнтолово, Пла...</td>\n",
       "      <td>3 754 569 ₽</td>\n",
       "      <td>Комендантский проспект ⋅  6 мин. на транспорте</td>\n",
       "      <td>Беговая ⋅  7 мин. на транспорте</td>\n",
       "      <td>Старая Деревня ⋅  8 мин. на транспорте</td>\n",
       "      <td>24,27 м²</td>\n",
       "      <td>17,8 м²</td>\n",
       "      <td>NaN</td>\n",
       "      <td>...</td>\n",
       "      <td>2 кв. 2022</td>\n",
       "      <td>Новостройка</td>\n",
       "      <td>NaN</td>\n",
       "      <td>1 совмещенный</td>\n",
       "      <td>1 лоджия</td>\n",
       "      <td>NaN</td>\n",
       "      <td>NaN</td>\n",
       "      <td>NaN</td>\n",
       "      <td>NaN</td>\n",
       "      <td>NaN</td>\n",
       "    </tr>\n",
       "  </tbody>\n",
       "</table>\n",
       "<p>5 rows × 21 columns</p>\n",
       "</div>"
      ],
      "text/plain": [
       "                                          link                        head  \\\n",
       "1532  https://spb.cian.ru/sale/flat/250580748/  2-комн. квартира, 55,02 м²   \n",
       "1533  https://spb.cian.ru/sale/flat/250580813/  2-комн. квартира, 54,87 м²   \n",
       "1534  https://spb.cian.ru/sale/flat/250213237/   1-комн. квартира, 31,6 м²   \n",
       "1535  https://spb.cian.ru/sale/flat/249798150/   2-комн. квартира, 55,4 м²   \n",
       "1536  https://spb.cian.ru/sale/flat/244365478/  1-комн. квартира, 24,27 м²   \n",
       "\n",
       "                                                   addr        price  \\\n",
       "1532  Санкт-Петербург, р-н Приморский, Лахта-Ольгино...  6 766 360 ₽   \n",
       "1533  Санкт-Петербург, р-н Приморский, Лахта-Ольгино...  6 790 163 ₽   \n",
       "1534  Санкт-Петербург, р-н Приморский, № 65, ул. Опт...  7 500 000 ₽   \n",
       "1535  Санкт-Петербург, р-н Приморский, Коломяги, Орл...  7 756 000 ₽   \n",
       "1536  Санкт-Петербург, р-н Приморский, Юнтолово, Пла...  3 754 569 ₽   \n",
       "\n",
       "                                              metro0  \\\n",
       "1532                 Беговая ⋅  9 мин. на транспорте   \n",
       "1533                 Беговая ⋅  9 мин. на транспорте   \n",
       "1534                                         Беговая   \n",
       "1535    Проспект Просвещения ⋅  5 мин. на транспорте   \n",
       "1536  Комендантский проспект ⋅  6 мин. на транспорте   \n",
       "\n",
       "                                               metro1  \\\n",
       "1532  Комендантский проспект ⋅  11 мин. на транспорте   \n",
       "1533  Комендантский проспект ⋅  11 мин. на транспорте   \n",
       "1534                           Комендантский проспект   \n",
       "1535                   Озерки ⋅  6 мин. на транспорте   \n",
       "1536                  Беговая ⋅  7 мин. на транспорте   \n",
       "\n",
       "                                      metro2     Общая    Жилая    Кухня  ...  \\\n",
       "1532          Зенит ⋅  12 мин. на транспорте  55,02 м²  26,1 м²  17,9 м²  ...   \n",
       "1533          Зенит ⋅  12 мин. на транспорте  54,87 м²  21,2 м²  23,3 м²  ...   \n",
       "1534                          Старая Деревня   31,6 м²  14,3 м²   8,1 м²  ...   \n",
       "1535          Парнас ⋅  9 мин. на транспорте   55,4 м²  27,5 м²  13,7 м²  ...   \n",
       "1536  Старая Деревня ⋅  8 мин. на транспорте  24,27 м²  17,8 м²      NaN  ...   \n",
       "\n",
       "      Срок сдачи    Тип жилья Высота потолков        Санузел Балкон/лоджия  \\\n",
       "1532  2 кв. 2023  Новостройка           2,6 м            NaN           NaN   \n",
       "1533  2 кв. 2023  Новостройка           2,6 м            NaN           NaN   \n",
       "1534         NaN     Вторичка             NaN   1 раздельный           NaN   \n",
       "1535  3 кв. 2021  Новостройка           2,6 м   1 раздельный           NaN   \n",
       "1536  2 кв. 2022  Новостройка             NaN  1 совмещенный      1 лоджия   \n",
       "\n",
       "       Отделка Построен Планировка        Ремонт Вид из окон  \n",
       "1532       NaN      NaN        NaN           NaN         NaN  \n",
       "1533       NaN      NaN        NaN           NaN         NaN  \n",
       "1534       NaN     2019        NaN  Дизайнерский         NaN  \n",
       "1535  Чистовая      NaN        NaN           NaN    На улицу  \n",
       "1536       NaN      NaN        NaN           NaN         NaN  \n",
       "\n",
       "[5 rows x 21 columns]"
      ]
     },
     "execution_count": 9,
     "metadata": {},
     "output_type": "execute_result"
    }
   ],
   "source": [
    "flats_all.tail()"
   ]
  },
  {
   "cell_type": "markdown",
   "metadata": {},
   "source": [
    "<h2>Data 2: data cleaning</h2>"
   ]
  },
  {
   "cell_type": "markdown",
   "metadata": {},
   "source": [
    "Let's rename fields and check the structure"
   ]
  },
  {
   "cell_type": "code",
   "execution_count": 10,
   "metadata": {
    "pycharm": {
     "name": "#%%\n"
    }
   },
   "outputs": [
    {
     "name": "stdout",
     "output_type": "stream",
     "text": [
      "<class 'pandas.core.frame.DataFrame'>\n",
      "RangeIndex: 1537 entries, 0 to 1536\n",
      "Data columns (total 21 columns):\n",
      " #   Column                Non-Null Count  Dtype \n",
      "---  ------                --------------  ----- \n",
      " 0   link                  1537 non-null   object\n",
      " 1   head                  1537 non-null   object\n",
      " 2   addr                  1537 non-null   object\n",
      " 3   price                 1537 non-null   object\n",
      " 4   metro0                1394 non-null   object\n",
      " 5   metro1                905 non-null    object\n",
      " 6   metro2                766 non-null    object\n",
      " 7   total_area            1537 non-null   object\n",
      " 8   living_area           1355 non-null   object\n",
      " 9   kitchen_area          1252 non-null   object\n",
      " 10  floor                 1537 non-null   object\n",
      " 11  deadline              422 non-null    object\n",
      " 12  type                  1537 non-null   object\n",
      " 13  height                796 non-null    object\n",
      " 14  bathrooms             1254 non-null   object\n",
      " 15  balconies             846 non-null    object\n",
      " 16  finishing             248 non-null    object\n",
      " 17  year_of_construction  878 non-null    object\n",
      " 18  layout                547 non-null    object\n",
      " 19  renovation            1032 non-null   object\n",
      " 20  view                  909 non-null    object\n",
      "dtypes: object(21)\n",
      "memory usage: 252.3+ KB\n"
     ]
    }
   ],
   "source": [
    "flats_all=flats_all.rename(columns={'Общая':'total_area','Жилая':'living_area','Кухня':'kitchen_area','Этаж':'floor'})\n",
    "flats_all=flats_all.rename(columns={'Срок сдачи':'deadline','Построен':'year_of_construction','Тип жилья':'type'})\n",
    "flats_all=flats_all.rename(columns={'Вид из окон':'view','Отделка':'finishing','Санузел':'bathrooms','Ремонт':'renovation'})\n",
    "flats_all=flats_all.rename(columns={'Высота потолков':'height','Балкон/лоджия':'balconies','Планировка':'layout'})\n",
    "flats_all.info()"
   ]
  },
  {
   "cell_type": "markdown",
   "metadata": {},
   "source": [
    "Sometimes a flat can be on different pages. Let's delete duplicates and check that number of rows become less."
   ]
  },
  {
   "cell_type": "code",
   "execution_count": 11,
   "metadata": {
    "pycharm": {
     "name": "#%%\n"
    }
   },
   "outputs": [
    {
     "data": {
      "text/plain": [
       "(1414, 21)"
      ]
     },
     "execution_count": 11,
     "metadata": {},
     "output_type": "execute_result"
    }
   ],
   "source": [
    "flats_all.drop_duplicates(ignore_index=True,inplace=True)\n",
    "flats_all.shape"
   ]
  },
  {
   "cell_type": "markdown",
   "metadata": {},
   "source": [
    "Let's check the first 5 lines in the column \"head\"."
   ]
  },
  {
   "cell_type": "code",
   "execution_count": 12,
   "metadata": {
    "pycharm": {
     "name": "#%%\n"
    }
   },
   "outputs": [
    {
     "data": {
      "text/html": [
       "<div>\n",
       "<style scoped>\n",
       "    .dataframe tbody tr th:only-of-type {\n",
       "        vertical-align: middle;\n",
       "    }\n",
       "\n",
       "    .dataframe tbody tr th {\n",
       "        vertical-align: top;\n",
       "    }\n",
       "\n",
       "    .dataframe thead th {\n",
       "        text-align: right;\n",
       "    }\n",
       "</style>\n",
       "<table border=\"1\" class=\"dataframe\">\n",
       "  <thead>\n",
       "    <tr style=\"text-align: right;\">\n",
       "      <th></th>\n",
       "      <th>head</th>\n",
       "    </tr>\n",
       "  </thead>\n",
       "  <tbody>\n",
       "    <tr>\n",
       "      <th>0</th>\n",
       "      <td>2-комн. квартира, 74,13 м²</td>\n",
       "    </tr>\n",
       "    <tr>\n",
       "      <th>1</th>\n",
       "      <td>1-комн. квартира, 47,81 м²</td>\n",
       "    </tr>\n",
       "    <tr>\n",
       "      <th>2</th>\n",
       "      <td>1-комн. апартаменты, 44,1 м²</td>\n",
       "    </tr>\n",
       "    <tr>\n",
       "      <th>3</th>\n",
       "      <td>2-комн. квартира, 56,29 м²</td>\n",
       "    </tr>\n",
       "    <tr>\n",
       "      <th>4</th>\n",
       "      <td>2-комн. квартира, 70,8 м²</td>\n",
       "    </tr>\n",
       "  </tbody>\n",
       "</table>\n",
       "</div>"
      ],
      "text/plain": [
       "                           head\n",
       "0    2-комн. квартира, 74,13 м²\n",
       "1    1-комн. квартира, 47,81 м²\n",
       "2  1-комн. апартаменты, 44,1 м²\n",
       "3    2-комн. квартира, 56,29 м²\n",
       "4     2-комн. квартира, 70,8 м²"
      ]
     },
     "execution_count": 12,
     "metadata": {},
     "output_type": "execute_result"
    }
   ],
   "source": [
    "flats_all[['head']].head()"
   ]
  },
  {
   "cell_type": "markdown",
   "metadata": {},
   "source": [
    "As we see the column \"head\" contains number of rooms and dublicates the column \"total_area\". Let's extract number of rooms into the column \"rooms\" and delete column \"head\""
   ]
  },
  {
   "cell_type": "code",
   "execution_count": 13,
   "metadata": {},
   "outputs": [
    {
     "data": {
      "text/plain": [
       "0    2\n",
       "1    1\n",
       "2    1\n",
       "3    2\n",
       "4    2\n",
       "Name: rooms, dtype: object"
      ]
     },
     "execution_count": 13,
     "metadata": {},
     "output_type": "execute_result"
    }
   ],
   "source": [
    "flats_all['rooms']=flats_all['head'].str.extract(r'(^\\w+)')\n",
    "flats_all.drop(['head'],axis='columns',inplace=True)\n",
    "flats_all[['rooms']].head()"
   ]
  },
  {
   "cell_type": "markdown",
   "metadata": {},
   "source": [
    "Let's check a random address."
   ]
  },
  {
   "cell_type": "code",
   "execution_count": 14,
   "metadata": {
    "pycharm": {
     "name": "#%%\n"
    }
   },
   "outputs": [
    {
     "data": {
      "text/plain": [
       "'Санкт-Петербург, р-н Петроградский, Чкаловское, Песочная наб., 12На карте'"
      ]
     },
     "execution_count": 14,
     "metadata": {},
     "output_type": "execute_result"
    }
   ],
   "source": [
    "flats_all.loc[123,'addr']"
   ]
  },
  {
   "cell_type": "markdown",
   "metadata": {},
   "source": [
    "As we see the address contains a city, an area, a neighborhood, and a street. Let's separate all of the features and check them."
   ]
  },
  {
   "cell_type": "code",
   "execution_count": 15,
   "metadata": {
    "pycharm": {
     "name": "#%%\n"
    }
   },
   "outputs": [
    {
     "name": "stdout",
     "output_type": "stream",
     "text": [
      "city: Санкт-Петербург\n",
      "area:  р-н Петроградский\n",
      "neighborhood:  Чкаловское\n",
      "street:  Песочная наб., 12\n"
     ]
    }
   ],
   "source": [
    "flats_all['city']=flats_all['addr'].str.extract(r'(.*?),')\n",
    "flats_all['area']=flats_all['addr'].str.extract(r',(.*?),')\n",
    "flats_all['neighborhood']=flats_all['addr'].str.extract(r',.*?,(.*?),')\n",
    "flats_all['street']=flats_all['addr'].str.extract(r',.*?,.*?,(.*?)На карте')\n",
    "flats_all.drop(['addr'],axis='columns',inplace=True)\n",
    "print('city:',flats_all.loc[123,'city'])\n",
    "print('area:',flats_all.loc[123,'area'])\n",
    "print('neighborhood:',flats_all.loc[123,'neighborhood'])\n",
    "print('street:',flats_all.loc[123,'street'])"
   ]
  },
  {
   "cell_type": "markdown",
   "metadata": {},
   "source": [
    "Let's check the 5 first prices."
   ]
  },
  {
   "cell_type": "code",
   "execution_count": 16,
   "metadata": {
    "pycharm": {
     "name": "#%%\n"
    }
   },
   "outputs": [
    {
     "data": {
      "text/html": [
       "<div>\n",
       "<style scoped>\n",
       "    .dataframe tbody tr th:only-of-type {\n",
       "        vertical-align: middle;\n",
       "    }\n",
       "\n",
       "    .dataframe tbody tr th {\n",
       "        vertical-align: top;\n",
       "    }\n",
       "\n",
       "    .dataframe thead th {\n",
       "        text-align: right;\n",
       "    }\n",
       "</style>\n",
       "<table border=\"1\" class=\"dataframe\">\n",
       "  <thead>\n",
       "    <tr style=\"text-align: right;\">\n",
       "      <th></th>\n",
       "      <th>price</th>\n",
       "    </tr>\n",
       "  </thead>\n",
       "  <tbody>\n",
       "    <tr>\n",
       "      <th>0</th>\n",
       "      <td>13 143 249 ₽</td>\n",
       "    </tr>\n",
       "    <tr>\n",
       "      <th>1</th>\n",
       "      <td>12 430 600 ₽</td>\n",
       "    </tr>\n",
       "    <tr>\n",
       "      <th>2</th>\n",
       "      <td>13 800 000 ₽</td>\n",
       "    </tr>\n",
       "    <tr>\n",
       "      <th>3</th>\n",
       "      <td>8 730 851 ₽</td>\n",
       "    </tr>\n",
       "    <tr>\n",
       "      <th>4</th>\n",
       "      <td>13 650 000 ₽</td>\n",
       "    </tr>\n",
       "  </tbody>\n",
       "</table>\n",
       "</div>"
      ],
      "text/plain": [
       "          price\n",
       "0  13 143 249 ₽\n",
       "1  12 430 600 ₽\n",
       "2  13 800 000 ₽\n",
       "3   8 730 851 ₽\n",
       "4  13 650 000 ₽"
      ]
     },
     "execution_count": 16,
     "metadata": {},
     "output_type": "execute_result"
    }
   ],
   "source": [
    "flats_all[['price']].head()"
   ]
  },
  {
   "cell_type": "markdown",
   "metadata": {},
   "source": [
    "It is necessary to remove all symbols except digits and convert a string price into a float format."
   ]
  },
  {
   "cell_type": "code",
   "execution_count": 17,
   "metadata": {
    "pycharm": {
     "name": "#%%\n"
    }
   },
   "outputs": [
    {
     "data": {
      "text/html": [
       "<div>\n",
       "<style scoped>\n",
       "    .dataframe tbody tr th:only-of-type {\n",
       "        vertical-align: middle;\n",
       "    }\n",
       "\n",
       "    .dataframe tbody tr th {\n",
       "        vertical-align: top;\n",
       "    }\n",
       "\n",
       "    .dataframe thead th {\n",
       "        text-align: right;\n",
       "    }\n",
       "</style>\n",
       "<table border=\"1\" class=\"dataframe\">\n",
       "  <thead>\n",
       "    <tr style=\"text-align: right;\">\n",
       "      <th></th>\n",
       "      <th>price</th>\n",
       "    </tr>\n",
       "  </thead>\n",
       "  <tbody>\n",
       "    <tr>\n",
       "      <th>0</th>\n",
       "      <td>13143249.0</td>\n",
       "    </tr>\n",
       "    <tr>\n",
       "      <th>1</th>\n",
       "      <td>12430600.0</td>\n",
       "    </tr>\n",
       "    <tr>\n",
       "      <th>2</th>\n",
       "      <td>13800000.0</td>\n",
       "    </tr>\n",
       "    <tr>\n",
       "      <th>3</th>\n",
       "      <td>8730851.0</td>\n",
       "    </tr>\n",
       "    <tr>\n",
       "      <th>4</th>\n",
       "      <td>13650000.0</td>\n",
       "    </tr>\n",
       "  </tbody>\n",
       "</table>\n",
       "</div>"
      ],
      "text/plain": [
       "        price\n",
       "0  13143249.0\n",
       "1  12430600.0\n",
       "2  13800000.0\n",
       "3   8730851.0\n",
       "4  13650000.0"
      ]
     },
     "execution_count": 17,
     "metadata": {},
     "output_type": "execute_result"
    }
   ],
   "source": [
    "flats_all['price']=flats_all['price'].str.replace(r'[^\\d]', '')\n",
    "flats_all['price']=flats_all['price'].astype(float)\n",
    "flats_all[['price']].head()"
   ]
  },
  {
   "cell_type": "markdown",
   "metadata": {},
   "source": [
    "Let's check information about metro stations. We need the first and the nearest station."
   ]
  },
  {
   "cell_type": "code",
   "execution_count": 18,
   "metadata": {
    "pycharm": {
     "name": "#%%\n"
    }
   },
   "outputs": [
    {
     "data": {
      "text/html": [
       "<div>\n",
       "<style scoped>\n",
       "    .dataframe tbody tr th:only-of-type {\n",
       "        vertical-align: middle;\n",
       "    }\n",
       "\n",
       "    .dataframe tbody tr th {\n",
       "        vertical-align: top;\n",
       "    }\n",
       "\n",
       "    .dataframe thead th {\n",
       "        text-align: right;\n",
       "    }\n",
       "</style>\n",
       "<table border=\"1\" class=\"dataframe\">\n",
       "  <thead>\n",
       "    <tr style=\"text-align: right;\">\n",
       "      <th></th>\n",
       "      <th>metro0</th>\n",
       "    </tr>\n",
       "  </thead>\n",
       "  <tbody>\n",
       "    <tr>\n",
       "      <th>0</th>\n",
       "      <td>Комендантский проспект ⋅  6 мин. на транспорте</td>\n",
       "    </tr>\n",
       "    <tr>\n",
       "      <th>1</th>\n",
       "      <td>Петроградская ⋅  13 мин. пешком</td>\n",
       "    </tr>\n",
       "    <tr>\n",
       "      <th>2</th>\n",
       "      <td>Беговая ⋅  29 мин. на транспорте</td>\n",
       "    </tr>\n",
       "    <tr>\n",
       "      <th>3</th>\n",
       "      <td>Комендантский проспект ⋅  6 мин. на транспорте</td>\n",
       "    </tr>\n",
       "    <tr>\n",
       "      <th>4</th>\n",
       "      <td>Пионерская ⋅  13 мин. пешком</td>\n",
       "    </tr>\n",
       "  </tbody>\n",
       "</table>\n",
       "</div>"
      ],
      "text/plain": [
       "                                           metro0\n",
       "0  Комендантский проспект ⋅  6 мин. на транспорте\n",
       "1                 Петроградская ⋅  13 мин. пешком\n",
       "2                Беговая ⋅  29 мин. на транспорте\n",
       "3  Комендантский проспект ⋅  6 мин. на транспорте\n",
       "4                    Пионерская ⋅  13 мин. пешком"
      ]
     },
     "execution_count": 18,
     "metadata": {},
     "output_type": "execute_result"
    }
   ],
   "source": [
    "flats_all[['metro0']].head()"
   ]
  },
  {
   "cell_type": "markdown",
   "metadata": {},
   "source": [
    "The column contains a metro station name and a distance to it. We need to separate them. Also, we need to remove unnecessary columns."
   ]
  },
  {
   "cell_type": "code",
   "execution_count": 19,
   "metadata": {
    "pycharm": {
     "name": "#%%\n"
    }
   },
   "outputs": [
    {
     "data": {
      "text/html": [
       "<div>\n",
       "<style scoped>\n",
       "    .dataframe tbody tr th:only-of-type {\n",
       "        vertical-align: middle;\n",
       "    }\n",
       "\n",
       "    .dataframe tbody tr th {\n",
       "        vertical-align: top;\n",
       "    }\n",
       "\n",
       "    .dataframe thead th {\n",
       "        text-align: right;\n",
       "    }\n",
       "</style>\n",
       "<table border=\"1\" class=\"dataframe\">\n",
       "  <thead>\n",
       "    <tr style=\"text-align: right;\">\n",
       "      <th></th>\n",
       "      <th>metro_name</th>\n",
       "      <th>metro_km</th>\n",
       "    </tr>\n",
       "  </thead>\n",
       "  <tbody>\n",
       "    <tr>\n",
       "      <th>0</th>\n",
       "      <td>Комендантский проспект</td>\n",
       "      <td>1.98</td>\n",
       "    </tr>\n",
       "    <tr>\n",
       "      <th>1</th>\n",
       "      <td>Петроградская</td>\n",
       "      <td>1.04</td>\n",
       "    </tr>\n",
       "    <tr>\n",
       "      <th>2</th>\n",
       "      <td>Беговая</td>\n",
       "      <td>9.57</td>\n",
       "    </tr>\n",
       "    <tr>\n",
       "      <th>3</th>\n",
       "      <td>Комендантский проспект</td>\n",
       "      <td>1.98</td>\n",
       "    </tr>\n",
       "    <tr>\n",
       "      <th>4</th>\n",
       "      <td>Пионерская</td>\n",
       "      <td>1.04</td>\n",
       "    </tr>\n",
       "  </tbody>\n",
       "</table>\n",
       "</div>"
      ],
      "text/plain": [
       "                metro_name  metro_km\n",
       "0  Комендантский проспект       1.98\n",
       "1           Петроградская       1.04\n",
       "2                 Беговая       9.57\n",
       "3  Комендантский проспект       1.98\n",
       "4              Пионерская       1.04"
      ]
     },
     "execution_count": 19,
     "metadata": {},
     "output_type": "execute_result"
    }
   ],
   "source": [
    "# It is function for calculating distances to metro stations in km\n",
    "#\"пешком\" means \"on foot\" (approximate speed=80 metros/min)\n",
    "#\"на транспорте\" means \"on transport\" (approximate speed=330 metros/min)\n",
    "def metro_distance(a):\n",
    "    if 'на транспорте' in a:\n",
    "        if '<1' in a:\n",
    "            dist=0.1\n",
    "        else:\n",
    "            dist=330*float(a[a.find('⋅')+1:a.find('мин')])/1000\n",
    "    elif 'пешком' in a:\n",
    "        if '<1' in a:\n",
    "            dist=0.05\n",
    "        else:\n",
    "            dist=80*float(a[a.find('⋅')+1:a.find('мин')])/1000\n",
    "    else:\n",
    "        dist=0\n",
    "    return(dist)\n",
    "\n",
    "#separating metro names and metro distances\n",
    "flats_all['metro0']=flats_all['metro0'].astype(str)\n",
    "flats_all['metro_name']=flats_all['metro0'].apply(lambda name:name[0:name.find('⋅')] if name.find('⋅')>-1 else name)\n",
    "flats_all['metro_km']=flats_all['metro0'].apply(metro_distance)\n",
    "flats_all.drop(['metro0','metro1','metro2'],axis='columns',inplace=True)\n",
    "flats_all[['metro_name','metro_km']].head()"
   ]
  },
  {
   "cell_type": "markdown",
   "metadata": {},
   "source": [
    "Let's check columns with areas and heights of flats."
   ]
  },
  {
   "cell_type": "code",
   "execution_count": 20,
   "metadata": {
    "pycharm": {
     "name": "#%%\n"
    }
   },
   "outputs": [
    {
     "data": {
      "text/html": [
       "<div>\n",
       "<style scoped>\n",
       "    .dataframe tbody tr th:only-of-type {\n",
       "        vertical-align: middle;\n",
       "    }\n",
       "\n",
       "    .dataframe tbody tr th {\n",
       "        vertical-align: top;\n",
       "    }\n",
       "\n",
       "    .dataframe thead th {\n",
       "        text-align: right;\n",
       "    }\n",
       "</style>\n",
       "<table border=\"1\" class=\"dataframe\">\n",
       "  <thead>\n",
       "    <tr style=\"text-align: right;\">\n",
       "      <th></th>\n",
       "      <th>total_area</th>\n",
       "      <th>living_area</th>\n",
       "      <th>kitchen_area</th>\n",
       "      <th>height</th>\n",
       "    </tr>\n",
       "  </thead>\n",
       "  <tbody>\n",
       "    <tr>\n",
       "      <th>0</th>\n",
       "      <td>74,13 м²</td>\n",
       "      <td>26,3 м²</td>\n",
       "      <td>22 м²</td>\n",
       "      <td>3,3 м</td>\n",
       "    </tr>\n",
       "    <tr>\n",
       "      <th>1</th>\n",
       "      <td>47,81 м²</td>\n",
       "      <td>NaN</td>\n",
       "      <td>NaN</td>\n",
       "      <td>NaN</td>\n",
       "    </tr>\n",
       "    <tr>\n",
       "      <th>2</th>\n",
       "      <td>44,1 м²</td>\n",
       "      <td>14,1 м²</td>\n",
       "      <td>19,4 м²</td>\n",
       "      <td>NaN</td>\n",
       "    </tr>\n",
       "    <tr>\n",
       "      <th>3</th>\n",
       "      <td>56,29 м²</td>\n",
       "      <td>29,3 м²</td>\n",
       "      <td>10,9 м²</td>\n",
       "      <td>NaN</td>\n",
       "    </tr>\n",
       "    <tr>\n",
       "      <th>4</th>\n",
       "      <td>70,8 м²</td>\n",
       "      <td>NaN</td>\n",
       "      <td>10 м²</td>\n",
       "      <td>2,8 м</td>\n",
       "    </tr>\n",
       "  </tbody>\n",
       "</table>\n",
       "</div>"
      ],
      "text/plain": [
       "  total_area living_area kitchen_area height\n",
       "0   74,13 м²     26,3 м²        22 м²  3,3 м\n",
       "1   47,81 м²         NaN          NaN    NaN\n",
       "2    44,1 м²     14,1 м²      19,4 м²    NaN\n",
       "3   56,29 м²     29,3 м²      10,9 м²    NaN\n",
       "4    70,8 м²         NaN        10 м²  2,8 м"
      ]
     },
     "execution_count": 20,
     "metadata": {},
     "output_type": "execute_result"
    }
   ],
   "source": [
    "flats_all[['total_area','living_area','kitchen_area','height']].head()"
   ]
  },
  {
   "cell_type": "markdown",
   "metadata": {},
   "source": [
    "Removing units of measure and counverting columns into float."
   ]
  },
  {
   "cell_type": "code",
   "execution_count": 21,
   "metadata": {
    "pycharm": {
     "name": "#%%\n"
    }
   },
   "outputs": [
    {
     "data": {
      "text/html": [
       "<div>\n",
       "<style scoped>\n",
       "    .dataframe tbody tr th:only-of-type {\n",
       "        vertical-align: middle;\n",
       "    }\n",
       "\n",
       "    .dataframe tbody tr th {\n",
       "        vertical-align: top;\n",
       "    }\n",
       "\n",
       "    .dataframe thead th {\n",
       "        text-align: right;\n",
       "    }\n",
       "</style>\n",
       "<table border=\"1\" class=\"dataframe\">\n",
       "  <thead>\n",
       "    <tr style=\"text-align: right;\">\n",
       "      <th></th>\n",
       "      <th>total_area</th>\n",
       "      <th>living_area</th>\n",
       "      <th>kitchen_area</th>\n",
       "      <th>height</th>\n",
       "    </tr>\n",
       "  </thead>\n",
       "  <tbody>\n",
       "    <tr>\n",
       "      <th>0</th>\n",
       "      <td>74.13</td>\n",
       "      <td>26.3</td>\n",
       "      <td>22.0</td>\n",
       "      <td>3.3</td>\n",
       "    </tr>\n",
       "    <tr>\n",
       "      <th>1</th>\n",
       "      <td>47.81</td>\n",
       "      <td>NaN</td>\n",
       "      <td>NaN</td>\n",
       "      <td>NaN</td>\n",
       "    </tr>\n",
       "    <tr>\n",
       "      <th>2</th>\n",
       "      <td>44.10</td>\n",
       "      <td>14.1</td>\n",
       "      <td>19.4</td>\n",
       "      <td>NaN</td>\n",
       "    </tr>\n",
       "    <tr>\n",
       "      <th>3</th>\n",
       "      <td>56.29</td>\n",
       "      <td>29.3</td>\n",
       "      <td>10.9</td>\n",
       "      <td>NaN</td>\n",
       "    </tr>\n",
       "    <tr>\n",
       "      <th>4</th>\n",
       "      <td>70.80</td>\n",
       "      <td>NaN</td>\n",
       "      <td>10.0</td>\n",
       "      <td>2.8</td>\n",
       "    </tr>\n",
       "  </tbody>\n",
       "</table>\n",
       "</div>"
      ],
      "text/plain": [
       "   total_area  living_area  kitchen_area  height\n",
       "0       74.13         26.3          22.0     3.3\n",
       "1       47.81          NaN           NaN     NaN\n",
       "2       44.10         14.1          19.4     NaN\n",
       "3       56.29         29.3          10.9     NaN\n",
       "4       70.80          NaN          10.0     2.8"
      ]
     },
     "execution_count": 21,
     "metadata": {},
     "output_type": "execute_result"
    }
   ],
   "source": [
    "flats_all['total_area']=flats_all['total_area'].str.replace(r'[\\sм²]','')\n",
    "flats_all['living_area']=flats_all['living_area'].str.replace(r'[\\sм²]','')\n",
    "flats_all['kitchen_area']=flats_all['kitchen_area'].str.replace(r'[\\sм²]','')\n",
    "flats_all['total_area']=flats_all['total_area'].str.replace(r'[,]','.').astype(float)\n",
    "flats_all['living_area']=flats_all['living_area'].str.replace(r'[,]','.').astype(float)\n",
    "flats_all['kitchen_area']=flats_all['kitchen_area'].str.replace(r'[,]','.').astype(float)\n",
    "flats_all['height']=flats_all['height'].str.replace(r'[\\sм]','')\n",
    "flats_all['height']=flats_all['height'].str.replace(r'[,]','.').astype(float)\n",
    "flats_all[['total_area','living_area','kitchen_area','height']].head()"
   ]
  },
  {
   "cell_type": "markdown",
   "metadata": {},
   "source": [
    "Let's check information about floors."
   ]
  },
  {
   "cell_type": "code",
   "execution_count": 22,
   "metadata": {
    "pycharm": {
     "name": "#%%\n"
    }
   },
   "outputs": [
    {
     "data": {
      "text/html": [
       "<div>\n",
       "<style scoped>\n",
       "    .dataframe tbody tr th:only-of-type {\n",
       "        vertical-align: middle;\n",
       "    }\n",
       "\n",
       "    .dataframe tbody tr th {\n",
       "        vertical-align: top;\n",
       "    }\n",
       "\n",
       "    .dataframe thead th {\n",
       "        text-align: right;\n",
       "    }\n",
       "</style>\n",
       "<table border=\"1\" class=\"dataframe\">\n",
       "  <thead>\n",
       "    <tr style=\"text-align: right;\">\n",
       "      <th></th>\n",
       "      <th>floor</th>\n",
       "    </tr>\n",
       "  </thead>\n",
       "  <tbody>\n",
       "    <tr>\n",
       "      <th>0</th>\n",
       "      <td>3 из 12</td>\n",
       "    </tr>\n",
       "    <tr>\n",
       "      <th>1</th>\n",
       "      <td>2 из 8</td>\n",
       "    </tr>\n",
       "    <tr>\n",
       "      <th>2</th>\n",
       "      <td>2 из 5</td>\n",
       "    </tr>\n",
       "    <tr>\n",
       "      <th>3</th>\n",
       "      <td>5 из 13</td>\n",
       "    </tr>\n",
       "    <tr>\n",
       "      <th>4</th>\n",
       "      <td>13 из 19</td>\n",
       "    </tr>\n",
       "  </tbody>\n",
       "</table>\n",
       "</div>"
      ],
      "text/plain": [
       "      floor\n",
       "0   3 из 12\n",
       "1    2 из 8\n",
       "2    2 из 5\n",
       "3   5 из 13\n",
       "4  13 из 19"
      ]
     },
     "execution_count": 22,
     "metadata": {},
     "output_type": "execute_result"
    }
   ],
   "source": [
    "flats_all[['floor']].head()"
   ]
  },
  {
   "cell_type": "markdown",
   "metadata": {},
   "source": [
    "Renaming and slicing the floor and the number of floors"
   ]
  },
  {
   "cell_type": "code",
   "execution_count": 23,
   "metadata": {
    "pycharm": {
     "name": "#%%\n"
    }
   },
   "outputs": [
    {
     "data": {
      "text/html": [
       "<div>\n",
       "<style scoped>\n",
       "    .dataframe tbody tr th:only-of-type {\n",
       "        vertical-align: middle;\n",
       "    }\n",
       "\n",
       "    .dataframe tbody tr th {\n",
       "        vertical-align: top;\n",
       "    }\n",
       "\n",
       "    .dataframe thead th {\n",
       "        text-align: right;\n",
       "    }\n",
       "</style>\n",
       "<table border=\"1\" class=\"dataframe\">\n",
       "  <thead>\n",
       "    <tr style=\"text-align: right;\">\n",
       "      <th></th>\n",
       "      <th>floor</th>\n",
       "      <th>number_of_floors</th>\n",
       "    </tr>\n",
       "  </thead>\n",
       "  <tbody>\n",
       "    <tr>\n",
       "      <th>0</th>\n",
       "      <td>3</td>\n",
       "      <td>12</td>\n",
       "    </tr>\n",
       "    <tr>\n",
       "      <th>1</th>\n",
       "      <td>2</td>\n",
       "      <td>8</td>\n",
       "    </tr>\n",
       "    <tr>\n",
       "      <th>2</th>\n",
       "      <td>2</td>\n",
       "      <td>5</td>\n",
       "    </tr>\n",
       "    <tr>\n",
       "      <th>3</th>\n",
       "      <td>5</td>\n",
       "      <td>13</td>\n",
       "    </tr>\n",
       "    <tr>\n",
       "      <th>4</th>\n",
       "      <td>13</td>\n",
       "      <td>19</td>\n",
       "    </tr>\n",
       "  </tbody>\n",
       "</table>\n",
       "</div>"
      ],
      "text/plain": [
       "  floor number_of_floors\n",
       "0     3               12\n",
       "1     2                8\n",
       "2     2                5\n",
       "3     5               13\n",
       "4    13               19"
      ]
     },
     "execution_count": 23,
     "metadata": {},
     "output_type": "execute_result"
    }
   ],
   "source": [
    "floors=flats_all['floor'].str.split(' из ', n = 1, expand = True)\n",
    "flats_all['floor']=floors[0]\n",
    "flats_all['number_of_floors']=floors[1]\n",
    "flats_all[['floor','number_of_floors']].head()"
   ]
  },
  {
   "cell_type": "markdown",
   "metadata": {},
   "source": [
    "I check the year of the deadline for new buildings, and the year of construction for the old ones. "
   ]
  },
  {
   "cell_type": "code",
   "execution_count": 24,
   "metadata": {
    "pycharm": {
     "name": "#%%\n"
    }
   },
   "outputs": [
    {
     "data": {
      "text/html": [
       "<div>\n",
       "<style scoped>\n",
       "    .dataframe tbody tr th:only-of-type {\n",
       "        vertical-align: middle;\n",
       "    }\n",
       "\n",
       "    .dataframe tbody tr th {\n",
       "        vertical-align: top;\n",
       "    }\n",
       "\n",
       "    .dataframe thead th {\n",
       "        text-align: right;\n",
       "    }\n",
       "</style>\n",
       "<table border=\"1\" class=\"dataframe\">\n",
       "  <thead>\n",
       "    <tr style=\"text-align: right;\">\n",
       "      <th></th>\n",
       "      <th>deadline</th>\n",
       "      <th>year_of_construction</th>\n",
       "    </tr>\n",
       "  </thead>\n",
       "  <tbody>\n",
       "    <tr>\n",
       "      <th>0</th>\n",
       "      <td>3 кв. 2022</td>\n",
       "      <td>NaN</td>\n",
       "    </tr>\n",
       "    <tr>\n",
       "      <th>1</th>\n",
       "      <td>1 кв. 2021</td>\n",
       "      <td>NaN</td>\n",
       "    </tr>\n",
       "    <tr>\n",
       "      <th>2</th>\n",
       "      <td>4 кв. 2020</td>\n",
       "      <td>NaN</td>\n",
       "    </tr>\n",
       "    <tr>\n",
       "      <th>3</th>\n",
       "      <td>3 кв. 2021</td>\n",
       "      <td>NaN</td>\n",
       "    </tr>\n",
       "    <tr>\n",
       "      <th>4</th>\n",
       "      <td>NaN</td>\n",
       "      <td>2006</td>\n",
       "    </tr>\n",
       "  </tbody>\n",
       "</table>\n",
       "</div>"
      ],
      "text/plain": [
       "     deadline year_of_construction\n",
       "0  3 кв. 2022                  NaN\n",
       "1  1 кв. 2021                  NaN\n",
       "2  4 кв. 2020                  NaN\n",
       "3  3 кв. 2021                  NaN\n",
       "4         NaN                 2006"
      ]
     },
     "execution_count": 24,
     "metadata": {},
     "output_type": "execute_result"
    }
   ],
   "source": [
    "flats_all[['deadline','year_of_construction']].head()"
   ]
  },
  {
   "cell_type": "markdown",
   "metadata": {},
   "source": [
    "Now we will convert the year of deadline and the year of construction. After we replace empty values in \"year_of_construction\" and remove the column \"deadline\"."
   ]
  },
  {
   "cell_type": "code",
   "execution_count": 25,
   "metadata": {
    "pycharm": {
     "name": "#%%\n"
    }
   },
   "outputs": [
    {
     "data": {
      "text/html": [
       "<div>\n",
       "<style scoped>\n",
       "    .dataframe tbody tr th:only-of-type {\n",
       "        vertical-align: middle;\n",
       "    }\n",
       "\n",
       "    .dataframe tbody tr th {\n",
       "        vertical-align: top;\n",
       "    }\n",
       "\n",
       "    .dataframe thead th {\n",
       "        text-align: right;\n",
       "    }\n",
       "</style>\n",
       "<table border=\"1\" class=\"dataframe\">\n",
       "  <thead>\n",
       "    <tr style=\"text-align: right;\">\n",
       "      <th></th>\n",
       "      <th>year_of_construction</th>\n",
       "    </tr>\n",
       "  </thead>\n",
       "  <tbody>\n",
       "    <tr>\n",
       "      <th>0</th>\n",
       "      <td>2022</td>\n",
       "    </tr>\n",
       "    <tr>\n",
       "      <th>1</th>\n",
       "      <td>2021</td>\n",
       "    </tr>\n",
       "    <tr>\n",
       "      <th>2</th>\n",
       "      <td>2020</td>\n",
       "    </tr>\n",
       "    <tr>\n",
       "      <th>3</th>\n",
       "      <td>2021</td>\n",
       "    </tr>\n",
       "    <tr>\n",
       "      <th>4</th>\n",
       "      <td>2006</td>\n",
       "    </tr>\n",
       "  </tbody>\n",
       "</table>\n",
       "</div>"
      ],
      "text/plain": [
       "  year_of_construction\n",
       "0                 2022\n",
       "1                 2021\n",
       "2                 2020\n",
       "3                 2021\n",
       "4                 2006"
      ]
     },
     "execution_count": 25,
     "metadata": {},
     "output_type": "execute_result"
    }
   ],
   "source": [
    "flats_all['deadline']=flats_all['deadline'].str.extract(r'(20.*)').astype(float)\n",
    "flats_all['year_of_construction']=flats_all['year_of_construction'].combine_first(flats_all['deadline'])\n",
    "flats_all.drop(columns=['deadline'],axis=1,inplace=True)\n",
    "flats_all[['year_of_construction']].head()"
   ]
  },
  {
   "cell_type": "markdown",
   "metadata": {},
   "source": [
    "Next I will check the \"type\" column"
   ]
  },
  {
   "cell_type": "code",
   "execution_count": 26,
   "metadata": {},
   "outputs": [
    {
     "data": {
      "text/html": [
       "<div>\n",
       "<style scoped>\n",
       "    .dataframe tbody tr th:only-of-type {\n",
       "        vertical-align: middle;\n",
       "    }\n",
       "\n",
       "    .dataframe tbody tr th {\n",
       "        vertical-align: top;\n",
       "    }\n",
       "\n",
       "    .dataframe thead th {\n",
       "        text-align: right;\n",
       "    }\n",
       "</style>\n",
       "<table border=\"1\" class=\"dataframe\">\n",
       "  <thead>\n",
       "    <tr style=\"text-align: right;\">\n",
       "      <th></th>\n",
       "      <th>type</th>\n",
       "    </tr>\n",
       "  </thead>\n",
       "  <tbody>\n",
       "    <tr>\n",
       "      <th>0</th>\n",
       "      <td>Новостройка</td>\n",
       "    </tr>\n",
       "    <tr>\n",
       "      <th>1</th>\n",
       "      <td>Новостройка</td>\n",
       "    </tr>\n",
       "    <tr>\n",
       "      <th>2</th>\n",
       "      <td>Новостройка Апартаменты</td>\n",
       "    </tr>\n",
       "    <tr>\n",
       "      <th>3</th>\n",
       "      <td>Новостройка</td>\n",
       "    </tr>\n",
       "    <tr>\n",
       "      <th>4</th>\n",
       "      <td>Вторичка</td>\n",
       "    </tr>\n",
       "  </tbody>\n",
       "</table>\n",
       "</div>"
      ],
      "text/plain": [
       "                      type\n",
       "0              Новостройка\n",
       "1              Новостройка\n",
       "2  Новостройка Апартаменты\n",
       "3              Новостройка\n",
       "4                 Вторичка"
      ]
     },
     "execution_count": 26,
     "metadata": {},
     "output_type": "execute_result"
    }
   ],
   "source": [
    "flats_all[['type']].head()"
   ]
  },
  {
   "cell_type": "markdown",
   "metadata": {},
   "source": [
    "Removing all unnecessary from the \"type\" column"
   ]
  },
  {
   "cell_type": "code",
   "execution_count": 27,
   "metadata": {
    "pycharm": {
     "name": "#%%\n"
    }
   },
   "outputs": [
    {
     "data": {
      "text/html": [
       "<div>\n",
       "<style scoped>\n",
       "    .dataframe tbody tr th:only-of-type {\n",
       "        vertical-align: middle;\n",
       "    }\n",
       "\n",
       "    .dataframe tbody tr th {\n",
       "        vertical-align: top;\n",
       "    }\n",
       "\n",
       "    .dataframe thead th {\n",
       "        text-align: right;\n",
       "    }\n",
       "</style>\n",
       "<table border=\"1\" class=\"dataframe\">\n",
       "  <thead>\n",
       "    <tr style=\"text-align: right;\">\n",
       "      <th></th>\n",
       "      <th>type</th>\n",
       "    </tr>\n",
       "  </thead>\n",
       "  <tbody>\n",
       "    <tr>\n",
       "      <th>0</th>\n",
       "      <td>Новостройка</td>\n",
       "    </tr>\n",
       "    <tr>\n",
       "      <th>1</th>\n",
       "      <td>Новостройка</td>\n",
       "    </tr>\n",
       "    <tr>\n",
       "      <th>2</th>\n",
       "      <td>Новостройка</td>\n",
       "    </tr>\n",
       "    <tr>\n",
       "      <th>3</th>\n",
       "      <td>Новостройка</td>\n",
       "    </tr>\n",
       "    <tr>\n",
       "      <th>4</th>\n",
       "      <td>Вторичка</td>\n",
       "    </tr>\n",
       "  </tbody>\n",
       "</table>\n",
       "</div>"
      ],
      "text/plain": [
       "          type\n",
       "0  Новостройка\n",
       "1  Новостройка\n",
       "2  Новостройка\n",
       "3  Новостройка\n",
       "4     Вторичка"
      ]
     },
     "execution_count": 27,
     "metadata": {},
     "output_type": "execute_result"
    }
   ],
   "source": [
    "flats_all['type']=flats_all['type'].str.extract(r'(^\\w+)')\n",
    "flats_all[['type']].head()"
   ]
  },
  {
   "cell_type": "markdown",
   "metadata": {},
   "source": [
    "Let's check bathrooms and balconies."
   ]
  },
  {
   "cell_type": "code",
   "execution_count": 28,
   "metadata": {
    "pycharm": {
     "name": "#%%\n"
    }
   },
   "outputs": [
    {
     "data": {
      "text/html": [
       "<div>\n",
       "<style scoped>\n",
       "    .dataframe tbody tr th:only-of-type {\n",
       "        vertical-align: middle;\n",
       "    }\n",
       "\n",
       "    .dataframe tbody tr th {\n",
       "        vertical-align: top;\n",
       "    }\n",
       "\n",
       "    .dataframe thead th {\n",
       "        text-align: right;\n",
       "    }\n",
       "</style>\n",
       "<table border=\"1\" class=\"dataframe\">\n",
       "  <thead>\n",
       "    <tr style=\"text-align: right;\">\n",
       "      <th></th>\n",
       "      <th>bathrooms</th>\n",
       "      <th>balconies</th>\n",
       "    </tr>\n",
       "  </thead>\n",
       "  <tbody>\n",
       "    <tr>\n",
       "      <th>0</th>\n",
       "      <td>1 совмещенный, 1 раздельный</td>\n",
       "      <td>1 лоджия</td>\n",
       "    </tr>\n",
       "    <tr>\n",
       "      <th>1</th>\n",
       "      <td>NaN</td>\n",
       "      <td>NaN</td>\n",
       "    </tr>\n",
       "    <tr>\n",
       "      <th>2</th>\n",
       "      <td>NaN</td>\n",
       "      <td>NaN</td>\n",
       "    </tr>\n",
       "    <tr>\n",
       "      <th>3</th>\n",
       "      <td>2 раздельных</td>\n",
       "      <td>2 лоджии</td>\n",
       "    </tr>\n",
       "    <tr>\n",
       "      <th>4</th>\n",
       "      <td>1 раздельный</td>\n",
       "      <td>1 лоджия</td>\n",
       "    </tr>\n",
       "  </tbody>\n",
       "</table>\n",
       "</div>"
      ],
      "text/plain": [
       "                     bathrooms balconies\n",
       "0  1 совмещенный, 1 раздельный  1 лоджия\n",
       "1                          NaN       NaN\n",
       "2                          NaN       NaN\n",
       "3                 2 раздельных  2 лоджии\n",
       "4                 1 раздельный  1 лоджия"
      ]
     },
     "execution_count": 28,
     "metadata": {},
     "output_type": "execute_result"
    }
   ],
   "source": [
    "flats_all[['bathrooms','balconies']].head()"
   ]
  },
  {
   "cell_type": "markdown",
   "metadata": {},
   "source": [
    "We need count the number of bathrooms and balconies and convert them to a float format."
   ]
  },
  {
   "cell_type": "code",
   "execution_count": 29,
   "metadata": {
    "pycharm": {
     "name": "#%%\n"
    }
   },
   "outputs": [
    {
     "data": {
      "text/html": [
       "<div>\n",
       "<style scoped>\n",
       "    .dataframe tbody tr th:only-of-type {\n",
       "        vertical-align: middle;\n",
       "    }\n",
       "\n",
       "    .dataframe tbody tr th {\n",
       "        vertical-align: top;\n",
       "    }\n",
       "\n",
       "    .dataframe thead th {\n",
       "        text-align: right;\n",
       "    }\n",
       "</style>\n",
       "<table border=\"1\" class=\"dataframe\">\n",
       "  <thead>\n",
       "    <tr style=\"text-align: right;\">\n",
       "      <th></th>\n",
       "      <th>bathrooms</th>\n",
       "      <th>balconies</th>\n",
       "    </tr>\n",
       "  </thead>\n",
       "  <tbody>\n",
       "    <tr>\n",
       "      <th>0</th>\n",
       "      <td>2.0</td>\n",
       "      <td>1.0</td>\n",
       "    </tr>\n",
       "    <tr>\n",
       "      <th>1</th>\n",
       "      <td>0.0</td>\n",
       "      <td>0.0</td>\n",
       "    </tr>\n",
       "    <tr>\n",
       "      <th>2</th>\n",
       "      <td>0.0</td>\n",
       "      <td>0.0</td>\n",
       "    </tr>\n",
       "    <tr>\n",
       "      <th>3</th>\n",
       "      <td>2.0</td>\n",
       "      <td>2.0</td>\n",
       "    </tr>\n",
       "    <tr>\n",
       "      <th>4</th>\n",
       "      <td>1.0</td>\n",
       "      <td>1.0</td>\n",
       "    </tr>\n",
       "  </tbody>\n",
       "</table>\n",
       "</div>"
      ],
      "text/plain": [
       "   bathrooms  balconies\n",
       "0        2.0        1.0\n",
       "1        0.0        0.0\n",
       "2        0.0        0.0\n",
       "3        2.0        2.0\n",
       "4        1.0        1.0"
      ]
     },
     "execution_count": 29,
     "metadata": {},
     "output_type": "execute_result"
    }
   ],
   "source": [
    "def count_rooms(txt):\n",
    "    txt=str(txt)\n",
    "    txt=re.sub(r'[^\\d]', '',txt)\n",
    "    sumb=0\n",
    "    for i in range(len(txt)):\n",
    "        sumb=sumb+float(txt[i])\n",
    "    return(sumb)\n",
    "flats_all['bathrooms']=flats_all['bathrooms'].apply(count_rooms)\n",
    "flats_all['balconies']=flats_all['balconies'].apply(count_rooms)\n",
    "flats_all[['bathrooms','balconies']].head()"
   ]
  },
  {
   "cell_type": "markdown",
   "metadata": {},
   "source": [
    "Finally, I write flats_all to a CSV file for further processing. "
   ]
  },
  {
   "cell_type": "code",
   "execution_count": 30,
   "metadata": {},
   "outputs": [
    {
     "data": {
      "text/html": [
       "<div>\n",
       "<style scoped>\n",
       "    .dataframe tbody tr th:only-of-type {\n",
       "        vertical-align: middle;\n",
       "    }\n",
       "\n",
       "    .dataframe tbody tr th {\n",
       "        vertical-align: top;\n",
       "    }\n",
       "\n",
       "    .dataframe thead th {\n",
       "        text-align: right;\n",
       "    }\n",
       "</style>\n",
       "<table border=\"1\" class=\"dataframe\">\n",
       "  <thead>\n",
       "    <tr style=\"text-align: right;\">\n",
       "      <th></th>\n",
       "      <th>link</th>\n",
       "      <th>price</th>\n",
       "      <th>total_area</th>\n",
       "      <th>living_area</th>\n",
       "      <th>kitchen_area</th>\n",
       "      <th>floor</th>\n",
       "      <th>type</th>\n",
       "      <th>height</th>\n",
       "      <th>bathrooms</th>\n",
       "      <th>balconies</th>\n",
       "      <th>...</th>\n",
       "      <th>renovation</th>\n",
       "      <th>view</th>\n",
       "      <th>rooms</th>\n",
       "      <th>city</th>\n",
       "      <th>area</th>\n",
       "      <th>neighborhood</th>\n",
       "      <th>street</th>\n",
       "      <th>metro_name</th>\n",
       "      <th>metro_km</th>\n",
       "      <th>number_of_floors</th>\n",
       "    </tr>\n",
       "  </thead>\n",
       "  <tbody>\n",
       "    <tr>\n",
       "      <th>0</th>\n",
       "      <td>https://spb.cian.ru/sale/flat/234775065/</td>\n",
       "      <td>13143249.0</td>\n",
       "      <td>74.13</td>\n",
       "      <td>26.3</td>\n",
       "      <td>22.0</td>\n",
       "      <td>3</td>\n",
       "      <td>Новостройка</td>\n",
       "      <td>3.3</td>\n",
       "      <td>2.0</td>\n",
       "      <td>1.0</td>\n",
       "      <td>...</td>\n",
       "      <td>NaN</td>\n",
       "      <td>NaN</td>\n",
       "      <td>2</td>\n",
       "      <td>Санкт-Петербург</td>\n",
       "      <td>р-н Приморский</td>\n",
       "      <td>Юнтолово</td>\n",
       "      <td>Планерная ул., 94</td>\n",
       "      <td>Комендантский проспект</td>\n",
       "      <td>1.98</td>\n",
       "      <td>12</td>\n",
       "    </tr>\n",
       "    <tr>\n",
       "      <th>1</th>\n",
       "      <td>https://spb.cian.ru/sale/flat/239273301/</td>\n",
       "      <td>12430600.0</td>\n",
       "      <td>47.81</td>\n",
       "      <td>NaN</td>\n",
       "      <td>NaN</td>\n",
       "      <td>2</td>\n",
       "      <td>Новостройка</td>\n",
       "      <td>NaN</td>\n",
       "      <td>0.0</td>\n",
       "      <td>0.0</td>\n",
       "      <td>...</td>\n",
       "      <td>NaN</td>\n",
       "      <td>NaN</td>\n",
       "      <td>1</td>\n",
       "      <td>Санкт-Петербург</td>\n",
       "      <td>р-н Петроградский</td>\n",
       "      <td>Посадский</td>\n",
       "      <td>ул. Рентгена, 25</td>\n",
       "      <td>Петроградская</td>\n",
       "      <td>1.04</td>\n",
       "      <td>8</td>\n",
       "    </tr>\n",
       "    <tr>\n",
       "      <th>2</th>\n",
       "      <td>https://spb.cian.ru/sale/flat/250966190/</td>\n",
       "      <td>13800000.0</td>\n",
       "      <td>44.10</td>\n",
       "      <td>14.1</td>\n",
       "      <td>19.4</td>\n",
       "      <td>2</td>\n",
       "      <td>Новостройка</td>\n",
       "      <td>NaN</td>\n",
       "      <td>0.0</td>\n",
       "      <td>0.0</td>\n",
       "      <td>...</td>\n",
       "      <td>NaN</td>\n",
       "      <td>NaN</td>\n",
       "      <td>1</td>\n",
       "      <td>Санкт-Петербург</td>\n",
       "      <td>р-н Курортный</td>\n",
       "      <td>мкр. Сестрорецк</td>\n",
       "      <td>ул. Максима Горького, 2Ас2</td>\n",
       "      <td>Беговая</td>\n",
       "      <td>9.57</td>\n",
       "      <td>5</td>\n",
       "    </tr>\n",
       "    <tr>\n",
       "      <th>3</th>\n",
       "      <td>https://spb.cian.ru/sale/flat/249950664/</td>\n",
       "      <td>8730851.0</td>\n",
       "      <td>56.29</td>\n",
       "      <td>29.3</td>\n",
       "      <td>10.9</td>\n",
       "      <td>5</td>\n",
       "      <td>Новостройка</td>\n",
       "      <td>NaN</td>\n",
       "      <td>2.0</td>\n",
       "      <td>2.0</td>\n",
       "      <td>...</td>\n",
       "      <td>NaN</td>\n",
       "      <td>NaN</td>\n",
       "      <td>2</td>\n",
       "      <td>Санкт-Петербург</td>\n",
       "      <td>р-н Приморский</td>\n",
       "      <td>Юнтолово</td>\n",
       "      <td>Нью Тайм жилой комплекс</td>\n",
       "      <td>Комендантский проспект</td>\n",
       "      <td>1.98</td>\n",
       "      <td>13</td>\n",
       "    </tr>\n",
       "    <tr>\n",
       "      <th>4</th>\n",
       "      <td>https://spb.cian.ru/sale/flat/250766812/</td>\n",
       "      <td>13650000.0</td>\n",
       "      <td>70.80</td>\n",
       "      <td>NaN</td>\n",
       "      <td>10.0</td>\n",
       "      <td>13</td>\n",
       "      <td>Вторичка</td>\n",
       "      <td>2.8</td>\n",
       "      <td>1.0</td>\n",
       "      <td>1.0</td>\n",
       "      <td>...</td>\n",
       "      <td>Евроремонт</td>\n",
       "      <td>На улицу и двор</td>\n",
       "      <td>2</td>\n",
       "      <td>Санкт-Петербург</td>\n",
       "      <td>р-н Приморский</td>\n",
       "      <td>Комендантский аэродром</td>\n",
       "      <td>аллея Поликарпова, 6к1</td>\n",
       "      <td>Пионерская</td>\n",
       "      <td>1.04</td>\n",
       "      <td>19</td>\n",
       "    </tr>\n",
       "  </tbody>\n",
       "</table>\n",
       "<p>5 rows × 23 columns</p>\n",
       "</div>"
      ],
      "text/plain": [
       "                                       link       price  total_area  \\\n",
       "0  https://spb.cian.ru/sale/flat/234775065/  13143249.0       74.13   \n",
       "1  https://spb.cian.ru/sale/flat/239273301/  12430600.0       47.81   \n",
       "2  https://spb.cian.ru/sale/flat/250966190/  13800000.0       44.10   \n",
       "3  https://spb.cian.ru/sale/flat/249950664/   8730851.0       56.29   \n",
       "4  https://spb.cian.ru/sale/flat/250766812/  13650000.0       70.80   \n",
       "\n",
       "   living_area  kitchen_area floor         type  height  bathrooms  balconies  \\\n",
       "0         26.3          22.0     3  Новостройка     3.3        2.0        1.0   \n",
       "1          NaN           NaN     2  Новостройка     NaN        0.0        0.0   \n",
       "2         14.1          19.4     2  Новостройка     NaN        0.0        0.0   \n",
       "3         29.3          10.9     5  Новостройка     NaN        2.0        2.0   \n",
       "4          NaN          10.0    13     Вторичка     2.8        1.0        1.0   \n",
       "\n",
       "   ...  renovation             view rooms             city  \\\n",
       "0  ...         NaN              NaN     2  Санкт-Петербург   \n",
       "1  ...         NaN              NaN     1  Санкт-Петербург   \n",
       "2  ...         NaN              NaN     1  Санкт-Петербург   \n",
       "3  ...         NaN              NaN     2  Санкт-Петербург   \n",
       "4  ...  Евроремонт  На улицу и двор     2  Санкт-Петербург   \n",
       "\n",
       "                 area             neighborhood                       street  \\\n",
       "0      р-н Приморский                 Юнтолово            Планерная ул., 94   \n",
       "1   р-н Петроградский                Посадский             ул. Рентгена, 25   \n",
       "2       р-н Курортный          мкр. Сестрорецк   ул. Максима Горького, 2Ас2   \n",
       "3      р-н Приморский                 Юнтолово      Нью Тайм жилой комплекс   \n",
       "4      р-н Приморский   Комендантский аэродром       аллея Поликарпова, 6к1   \n",
       "\n",
       "                metro_name metro_km number_of_floors  \n",
       "0  Комендантский проспект      1.98               12  \n",
       "1           Петроградская      1.04                8  \n",
       "2                 Беговая      9.57                5  \n",
       "3  Комендантский проспект      1.98               13  \n",
       "4              Пионерская      1.04               19  \n",
       "\n",
       "[5 rows x 23 columns]"
      ]
     },
     "execution_count": 30,
     "metadata": {},
     "output_type": "execute_result"
    }
   ],
   "source": [
    "flats_all.to_csv('data/flats_all.csv',sep=';',index=False)\n",
    "flats_all.head()"
   ]
  }
 ],
 "metadata": {
  "kernelspec": {
   "display_name": "Python 3",
   "language": "python",
   "name": "python3"
  },
  "language_info": {
   "codemirror_mode": {
    "name": "ipython",
    "version": 3
   },
   "file_extension": ".py",
   "mimetype": "text/x-python",
   "name": "python",
   "nbconvert_exporter": "python",
   "pygments_lexer": "ipython3",
   "version": "3.8.5"
  },
  "widgets": {
   "application/vnd.jupyter.widget-state+json": {
    "state": {},
    "version_major": 2,
    "version_minor": 0
   }
  }
 },
 "nbformat": 4,
 "nbformat_minor": 4
}
